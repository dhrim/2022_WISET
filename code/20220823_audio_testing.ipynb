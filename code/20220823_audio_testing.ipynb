{
  "nbformat": 4,
  "nbformat_minor": 0,
  "metadata": {
    "colab": {
      "name": "20220823_audio_testing.ipynb",
      "provenance": [],
      "collapsed_sections": [],
      "machine_shape": "hm",
      "include_colab_link": true
    },
    "kernelspec": {
      "name": "python3",
      "display_name": "Python 3"
    },
    "language_info": {
      "name": "python"
    },
    "accelerator": "GPU",
    "gpuClass": "standard"
  },
  "cells": [
    {
      "cell_type": "markdown",
      "metadata": {
        "id": "view-in-github",
        "colab_type": "text"
      },
      "source": [
        "<a href=\"https://colab.research.google.com/github/bomij33/2022_WISET/blob/bomi/code/20220823_audio_testing.ipynb\" target=\"_parent\"><img src=\"https://colab.research.google.com/assets/colab-badge.svg\" alt=\"Open In Colab\"/></a>"
      ]
    },
    {
      "cell_type": "markdown",
      "source": [
        "# Tensorflow 버전 다운로드 2.8.0"
      ],
      "metadata": {
        "id": "PA6S3Wm8D4D4"
      }
    },
    {
      "cell_type": "code",
      "source": [
        "import tensorflow as tf\n",
        "print(tf.__version__)"
      ],
      "metadata": {
        "colab": {
          "base_uri": "https://localhost:8080/"
        },
        "id": "b6FxXRPnT828",
        "outputId": "65fe2056-c886-4712-db2e-9573489a5d38"
      },
      "execution_count": 1,
      "outputs": [
        {
          "output_type": "stream",
          "name": "stdout",
          "text": [
            "2.8.2\n"
          ]
        }
      ]
    },
    {
      "cell_type": "code",
      "source": [
        "!pip uninstall tensorflow"
      ],
      "metadata": {
        "colab": {
          "base_uri": "https://localhost:8080/"
        },
        "id": "KU2qUfwbxImC",
        "outputId": "c91c5048-981b-4f01-8d93-8a028eae3efa"
      },
      "execution_count": 2,
      "outputs": [
        {
          "output_type": "stream",
          "name": "stdout",
          "text": [
            "Found existing installation: tensorflow 2.8.2+zzzcolab20220719082949\n",
            "Uninstalling tensorflow-2.8.2+zzzcolab20220719082949:\n",
            "  Would remove:\n",
            "    /usr/local/bin/estimator_ckpt_converter\n",
            "    /usr/local/bin/import_pb_to_tensorboard\n",
            "    /usr/local/bin/saved_model_cli\n",
            "    /usr/local/bin/tensorboard\n",
            "    /usr/local/bin/tf_upgrade_v2\n",
            "    /usr/local/bin/tflite_convert\n",
            "    /usr/local/bin/toco\n",
            "    /usr/local/bin/toco_from_protos\n",
            "    /usr/local/lib/python3.7/dist-packages/tensorflow-2.8.2+zzzcolab20220719082949.dist-info/*\n",
            "    /usr/local/lib/python3.7/dist-packages/tensorflow/*\n",
            "Proceed (y/n)? y\n",
            "  Successfully uninstalled tensorflow-2.8.2+zzzcolab20220719082949\n"
          ]
        }
      ]
    },
    {
      "cell_type": "code",
      "source": [
        "!pip install tensorflow==2.8.0"
      ],
      "metadata": {
        "colab": {
          "base_uri": "https://localhost:8080/",
          "height": 1000
        },
        "id": "2Tg_70W8xSMY",
        "outputId": "a41364c9-0bc7-463d-9f8a-6e4a1666cdf8"
      },
      "execution_count": 3,
      "outputs": [
        {
          "output_type": "stream",
          "name": "stdout",
          "text": [
            "Looking in indexes: https://pypi.org/simple, https://us-python.pkg.dev/colab-wheels/public/simple/\n",
            "Collecting tensorflow==2.8.0\n",
            "  Downloading https://us-python.pkg.dev/colab-wheels/public/tensorflow/tensorflow-2.8.0%2Bzzzcolab20220506162203-cp37-cp37m-linux_x86_64.whl (668.3 MB)\n",
            "\u001b[K     |████████████████████████████████| 668.3 MB 17 kB/s \n",
            "\u001b[?25hRequirement already satisfied: typing-extensions>=3.6.6 in /usr/local/lib/python3.7/dist-packages (from tensorflow==2.8.0) (4.1.1)\n",
            "Requirement already satisfied: six>=1.12.0 in /usr/local/lib/python3.7/dist-packages (from tensorflow==2.8.0) (1.15.0)\n",
            "Requirement already satisfied: google-pasta>=0.1.1 in /usr/local/lib/python3.7/dist-packages (from tensorflow==2.8.0) (0.2.0)\n",
            "Requirement already satisfied: termcolor>=1.1.0 in /usr/local/lib/python3.7/dist-packages (from tensorflow==2.8.0) (1.1.0)\n",
            "Requirement already satisfied: keras<2.9,>=2.8.0rc0 in /usr/local/lib/python3.7/dist-packages (from tensorflow==2.8.0) (2.8.0)\n",
            "Requirement already satisfied: numpy>=1.20 in /usr/local/lib/python3.7/dist-packages (from tensorflow==2.8.0) (1.21.6)\n",
            "Requirement already satisfied: keras-preprocessing>=1.1.1 in /usr/local/lib/python3.7/dist-packages (from tensorflow==2.8.0) (1.1.2)\n",
            "Requirement already satisfied: setuptools in /usr/local/lib/python3.7/dist-packages (from tensorflow==2.8.0) (57.4.0)\n",
            "Requirement already satisfied: flatbuffers>=1.12 in /usr/local/lib/python3.7/dist-packages (from tensorflow==2.8.0) (2.0)\n",
            "Requirement already satisfied: wrapt>=1.11.0 in /usr/local/lib/python3.7/dist-packages (from tensorflow==2.8.0) (1.14.1)\n",
            "Requirement already satisfied: opt-einsum>=2.3.2 in /usr/local/lib/python3.7/dist-packages (from tensorflow==2.8.0) (3.3.0)\n",
            "Requirement already satisfied: gast>=0.2.1 in /usr/local/lib/python3.7/dist-packages (from tensorflow==2.8.0) (0.5.3)\n",
            "Requirement already satisfied: tensorflow-io-gcs-filesystem>=0.23.1 in /usr/local/lib/python3.7/dist-packages (from tensorflow==2.8.0) (0.26.0)\n",
            "Requirement already satisfied: tensorboard<2.9,>=2.8 in /usr/local/lib/python3.7/dist-packages (from tensorflow==2.8.0) (2.8.0)\n",
            "Requirement already satisfied: astunparse>=1.6.0 in /usr/local/lib/python3.7/dist-packages (from tensorflow==2.8.0) (1.6.3)\n",
            "Collecting tf-estimator-nightly==2.8.0.dev2021122109\n",
            "  Downloading tf_estimator_nightly-2.8.0.dev2021122109-py2.py3-none-any.whl (462 kB)\n",
            "\u001b[K     |████████████████████████████████| 462 kB 4.3 MB/s \n",
            "\u001b[?25hRequirement already satisfied: absl-py>=0.4.0 in /usr/local/lib/python3.7/dist-packages (from tensorflow==2.8.0) (1.2.0)\n",
            "Requirement already satisfied: grpcio<2.0,>=1.24.3 in /usr/local/lib/python3.7/dist-packages (from tensorflow==2.8.0) (1.47.0)\n",
            "Requirement already satisfied: h5py>=2.9.0 in /usr/local/lib/python3.7/dist-packages (from tensorflow==2.8.0) (3.1.0)\n",
            "Requirement already satisfied: protobuf>=3.9.2 in /usr/local/lib/python3.7/dist-packages (from tensorflow==2.8.0) (3.17.3)\n",
            "Requirement already satisfied: libclang>=9.0.1 in /usr/local/lib/python3.7/dist-packages (from tensorflow==2.8.0) (14.0.6)\n",
            "Requirement already satisfied: wheel<1.0,>=0.23.0 in /usr/local/lib/python3.7/dist-packages (from astunparse>=1.6.0->tensorflow==2.8.0) (0.37.1)\n",
            "Requirement already satisfied: cached-property in /usr/local/lib/python3.7/dist-packages (from h5py>=2.9.0->tensorflow==2.8.0) (1.5.2)\n",
            "Requirement already satisfied: google-auth-oauthlib<0.5,>=0.4.1 in /usr/local/lib/python3.7/dist-packages (from tensorboard<2.9,>=2.8->tensorflow==2.8.0) (0.4.6)\n",
            "Requirement already satisfied: tensorboard-plugin-wit>=1.6.0 in /usr/local/lib/python3.7/dist-packages (from tensorboard<2.9,>=2.8->tensorflow==2.8.0) (1.8.1)\n",
            "Requirement already satisfied: requests<3,>=2.21.0 in /usr/local/lib/python3.7/dist-packages (from tensorboard<2.9,>=2.8->tensorflow==2.8.0) (2.23.0)\n",
            "Requirement already satisfied: tensorboard-data-server<0.7.0,>=0.6.0 in /usr/local/lib/python3.7/dist-packages (from tensorboard<2.9,>=2.8->tensorflow==2.8.0) (0.6.1)\n",
            "Requirement already satisfied: markdown>=2.6.8 in /usr/local/lib/python3.7/dist-packages (from tensorboard<2.9,>=2.8->tensorflow==2.8.0) (3.4.1)\n",
            "Requirement already satisfied: google-auth<3,>=1.6.3 in /usr/local/lib/python3.7/dist-packages (from tensorboard<2.9,>=2.8->tensorflow==2.8.0) (1.35.0)\n",
            "Requirement already satisfied: werkzeug>=0.11.15 in /usr/local/lib/python3.7/dist-packages (from tensorboard<2.9,>=2.8->tensorflow==2.8.0) (1.0.1)\n",
            "Requirement already satisfied: rsa<5,>=3.1.4 in /usr/local/lib/python3.7/dist-packages (from google-auth<3,>=1.6.3->tensorboard<2.9,>=2.8->tensorflow==2.8.0) (4.9)\n",
            "Requirement already satisfied: pyasn1-modules>=0.2.1 in /usr/local/lib/python3.7/dist-packages (from google-auth<3,>=1.6.3->tensorboard<2.9,>=2.8->tensorflow==2.8.0) (0.2.8)\n",
            "Requirement already satisfied: cachetools<5.0,>=2.0.0 in /usr/local/lib/python3.7/dist-packages (from google-auth<3,>=1.6.3->tensorboard<2.9,>=2.8->tensorflow==2.8.0) (4.2.4)\n",
            "Requirement already satisfied: requests-oauthlib>=0.7.0 in /usr/local/lib/python3.7/dist-packages (from google-auth-oauthlib<0.5,>=0.4.1->tensorboard<2.9,>=2.8->tensorflow==2.8.0) (1.3.1)\n",
            "Requirement already satisfied: importlib-metadata>=4.4 in /usr/local/lib/python3.7/dist-packages (from markdown>=2.6.8->tensorboard<2.9,>=2.8->tensorflow==2.8.0) (4.12.0)\n",
            "Requirement already satisfied: zipp>=0.5 in /usr/local/lib/python3.7/dist-packages (from importlib-metadata>=4.4->markdown>=2.6.8->tensorboard<2.9,>=2.8->tensorflow==2.8.0) (3.8.1)\n",
            "Requirement already satisfied: pyasn1<0.5.0,>=0.4.6 in /usr/local/lib/python3.7/dist-packages (from pyasn1-modules>=0.2.1->google-auth<3,>=1.6.3->tensorboard<2.9,>=2.8->tensorflow==2.8.0) (0.4.8)\n",
            "Requirement already satisfied: urllib3!=1.25.0,!=1.25.1,<1.26,>=1.21.1 in /usr/local/lib/python3.7/dist-packages (from requests<3,>=2.21.0->tensorboard<2.9,>=2.8->tensorflow==2.8.0) (1.24.3)\n",
            "Requirement already satisfied: certifi>=2017.4.17 in /usr/local/lib/python3.7/dist-packages (from requests<3,>=2.21.0->tensorboard<2.9,>=2.8->tensorflow==2.8.0) (2022.6.15)\n",
            "Requirement already satisfied: chardet<4,>=3.0.2 in /usr/local/lib/python3.7/dist-packages (from requests<3,>=2.21.0->tensorboard<2.9,>=2.8->tensorflow==2.8.0) (3.0.4)\n",
            "Requirement already satisfied: idna<3,>=2.5 in /usr/local/lib/python3.7/dist-packages (from requests<3,>=2.21.0->tensorboard<2.9,>=2.8->tensorflow==2.8.0) (2.10)\n",
            "Requirement already satisfied: oauthlib>=3.0.0 in /usr/local/lib/python3.7/dist-packages (from requests-oauthlib>=0.7.0->google-auth-oauthlib<0.5,>=0.4.1->tensorboard<2.9,>=2.8->tensorflow==2.8.0) (3.2.0)\n",
            "Installing collected packages: tf-estimator-nightly, tensorflow\n",
            "Successfully installed tensorflow-2.8.0+zzzcolab20220506162203 tf-estimator-nightly-2.8.0.dev2021122109\n"
          ]
        },
        {
          "output_type": "display_data",
          "data": {
            "application/vnd.colab-display-data+json": {
              "pip_warning": {
                "packages": [
                  "tensorflow"
                ]
              }
            }
          },
          "metadata": {}
        }
      ]
    },
    {
      "cell_type": "code",
      "source": [
        "# restart 후 확인\n",
        "import tensorflow as tf\n",
        "print(tf.__version__)"
      ],
      "metadata": {
        "colab": {
          "base_uri": "https://localhost:8080/"
        },
        "id": "h7DPpjeyxifv",
        "outputId": "6159d22b-3332-466a-cd8b-b2bb8f60f82a"
      },
      "execution_count": 1,
      "outputs": [
        {
          "output_type": "stream",
          "name": "stdout",
          "text": [
            "2.8.0\n"
          ]
        }
      ]
    },
    {
      "cell_type": "markdown",
      "source": [
        "# 데이터 로딩"
      ],
      "metadata": {
        "id": "633sPckREDYg"
      }
    },
    {
      "cell_type": "code",
      "source": [
        "from google.colab import drive\n",
        "drive.mount('/gdrive')"
      ],
      "metadata": {
        "colab": {
          "base_uri": "https://localhost:8080/"
        },
        "id": "KxyFkVYcdqlJ",
        "outputId": "d1c54634-2ffd-4d25-c999-b8542abf40c0"
      },
      "execution_count": 2,
      "outputs": [
        {
          "output_type": "stream",
          "name": "stdout",
          "text": [
            "Mounted at /gdrive\n"
          ]
        }
      ]
    },
    {
      "cell_type": "code",
      "source": [
        "import pandas as pd\n",
        "import numpy as np\n",
        "import matplotlib.pyplot as plt"
      ],
      "metadata": {
        "id": "mG4zvhT7ES63"
      },
      "execution_count": 3,
      "outputs": []
    },
    {
      "cell_type": "code",
      "source": [
        "import IPython\n",
        "import librosa\n",
        "SAMPLING_RATE = 22050"
      ],
      "metadata": {
        "id": "nH0sWXDSyeSc"
      },
      "execution_count": 4,
      "outputs": []
    },
    {
      "cell_type": "code",
      "source": [
        "import glob\n",
        "\n",
        "file_list = glob.glob(\"/gdrive/MyDrive/tmp/audio/A/*.wav\")\n",
        "print(len(file_list))\n",
        "print(file_list[:3]) "
      ],
      "metadata": {
        "colab": {
          "base_uri": "https://localhost:8080/"
        },
        "id": "8HVbzOwCGAUQ",
        "outputId": "6e98651f-3ac1-4834-f6a3-2355d84e99f2"
      },
      "execution_count": 5,
      "outputs": [
        {
          "output_type": "stream",
          "name": "stdout",
          "text": [
            "1482\n",
            "['/gdrive/MyDrive/tmp/audio/A/02_134.wav', '/gdrive/MyDrive/tmp/audio/A/02_153.wav', '/gdrive/MyDrive/tmp/audio/A/02_117.wav']\n"
          ]
        }
      ]
    },
    {
      "cell_type": "code",
      "source": [
        "def load_wav(file_name):\n",
        "    data, _ = librosa.load(file_name, sr=SAMPLING_RATE)\n",
        "    return data\n",
        "\n",
        "raw_x = [] # data\n",
        "raw_y = [] # label\n",
        "for file_name in file_list:\n",
        "    label = int(file_name.split(\"/\")[-1].split(\"_\")[0])  # 파일명을 /로 구분하여 스필릿, 다시 _로 스플릿\n",
        "    # label 은 파일명의 첫 숫자만\n",
        "    print(file_name, label)\n",
        "    data = load_wav(file_name)\n",
        "    raw_x.append(data)\n",
        "    raw_y.append(label)\n"
      ],
      "metadata": {
        "colab": {
          "base_uri": "https://localhost:8080/"
        },
        "id": "Aumki802EVg5",
        "outputId": "2e16920c-1cd0-400a-d899-3be7d68a2186"
      },
      "execution_count": 6,
      "outputs": [
        {
          "output_type": "stream",
          "name": "stdout",
          "text": [
            "/gdrive/MyDrive/tmp/audio/A/02_134.wav 2\n",
            "/gdrive/MyDrive/tmp/audio/A/02_153.wav 2\n",
            "/gdrive/MyDrive/tmp/audio/A/02_117.wav 2\n",
            "/gdrive/MyDrive/tmp/audio/A/02_140.wav 2\n",
            "/gdrive/MyDrive/tmp/audio/A/02_127.wav 2\n",
            "/gdrive/MyDrive/tmp/audio/A/02_162.wav 2\n",
            "/gdrive/MyDrive/tmp/audio/A/02_143.wav 2\n",
            "/gdrive/MyDrive/tmp/audio/A/02_157.wav 2\n",
            "/gdrive/MyDrive/tmp/audio/A/02_139.wav 2\n",
            "/gdrive/MyDrive/tmp/audio/A/02_118.wav 2\n",
            "/gdrive/MyDrive/tmp/audio/A/02_144.wav 2\n",
            "/gdrive/MyDrive/tmp/audio/A/02_136.wav 2\n",
            "/gdrive/MyDrive/tmp/audio/A/02_121.wav 2\n",
            "/gdrive/MyDrive/tmp/audio/A/02_138.wav 2\n",
            "/gdrive/MyDrive/tmp/audio/A/02_150.wav 2\n",
            "/gdrive/MyDrive/tmp/audio/A/02_145.wav 2\n",
            "/gdrive/MyDrive/tmp/audio/A/02_125.wav 2\n",
            "/gdrive/MyDrive/tmp/audio/A/02_142.wav 2\n",
            "/gdrive/MyDrive/tmp/audio/A/02_168.wav 2\n",
            "/gdrive/MyDrive/tmp/audio/A/02_152.wav 2\n",
            "/gdrive/MyDrive/tmp/audio/A/02_133.wav 2\n",
            "/gdrive/MyDrive/tmp/audio/A/02_123.wav 2\n",
            "/gdrive/MyDrive/tmp/audio/A/02_148.wav 2\n",
            "/gdrive/MyDrive/tmp/audio/A/02_156.wav 2\n",
            "/gdrive/MyDrive/tmp/audio/A/02_135.wav 2\n",
            "/gdrive/MyDrive/tmp/audio/A/02_141.wav 2\n",
            "/gdrive/MyDrive/tmp/audio/A/02_149.wav 2\n",
            "/gdrive/MyDrive/tmp/audio/A/02_154.wav 2\n",
            "/gdrive/MyDrive/tmp/audio/A/02_120.wav 2\n",
            "/gdrive/MyDrive/tmp/audio/A/02_166.wav 2\n",
            "/gdrive/MyDrive/tmp/audio/A/02_176.wav 2\n",
            "/gdrive/MyDrive/tmp/audio/A/02_165.wav 2\n",
            "/gdrive/MyDrive/tmp/audio/A/02_159.wav 2\n",
            "/gdrive/MyDrive/tmp/audio/A/02_161.wav 2\n",
            "/gdrive/MyDrive/tmp/audio/A/02_177.wav 2\n",
            "/gdrive/MyDrive/tmp/audio/A/02_155.wav 2\n",
            "/gdrive/MyDrive/tmp/audio/A/02_163.wav 2\n",
            "/gdrive/MyDrive/tmp/audio/A/02_184.wav 2\n",
            "/gdrive/MyDrive/tmp/audio/A/02_191.wav 2\n",
            "/gdrive/MyDrive/tmp/audio/A/02_178.wav 2\n",
            "/gdrive/MyDrive/tmp/audio/A/02_170.wav 2\n",
            "/gdrive/MyDrive/tmp/audio/A/02_183.wav 2\n",
            "/gdrive/MyDrive/tmp/audio/A/02_172.wav 2\n",
            "/gdrive/MyDrive/tmp/audio/A/02_181.wav 2\n",
            "/gdrive/MyDrive/tmp/audio/A/02_169.wav 2\n",
            "/gdrive/MyDrive/tmp/audio/A/02_179.wav 2\n",
            "/gdrive/MyDrive/tmp/audio/A/02_147.wav 2\n",
            "/gdrive/MyDrive/tmp/audio/A/02_146.wav 2\n",
            "/gdrive/MyDrive/tmp/audio/A/02_201.wav 2\n",
            "/gdrive/MyDrive/tmp/audio/A/02_186.wav 2\n",
            "/gdrive/MyDrive/tmp/audio/A/02_164.wav 2\n",
            "/gdrive/MyDrive/tmp/audio/A/02_198.wav 2\n",
            "/gdrive/MyDrive/tmp/audio/A/02_174.wav 2\n",
            "/gdrive/MyDrive/tmp/audio/A/02_171.wav 2\n",
            "/gdrive/MyDrive/tmp/audio/A/02_160.wav 2\n",
            "/gdrive/MyDrive/tmp/audio/A/02_151.wav 2\n",
            "/gdrive/MyDrive/tmp/audio/A/02_173.wav 2\n",
            "/gdrive/MyDrive/tmp/audio/A/02_158.wav 2\n",
            "/gdrive/MyDrive/tmp/audio/A/02_234.wav 2\n",
            "/gdrive/MyDrive/tmp/audio/A/02_203.wav 2\n",
            "/gdrive/MyDrive/tmp/audio/A/02_194.wav 2\n",
            "/gdrive/MyDrive/tmp/audio/A/02_182.wav 2\n",
            "/gdrive/MyDrive/tmp/audio/A/02_193.wav 2\n",
            "/gdrive/MyDrive/tmp/audio/A/02_175.wav 2\n",
            "/gdrive/MyDrive/tmp/audio/A/02_219.wav 2\n",
            "/gdrive/MyDrive/tmp/audio/A/02_217.wav 2\n",
            "/gdrive/MyDrive/tmp/audio/A/02_190.wav 2\n",
            "/gdrive/MyDrive/tmp/audio/A/02_226.wav 2\n",
            "/gdrive/MyDrive/tmp/audio/A/02_197.wav 2\n",
            "/gdrive/MyDrive/tmp/audio/A/02_206.wav 2\n",
            "/gdrive/MyDrive/tmp/audio/A/02_208.wav 2\n",
            "/gdrive/MyDrive/tmp/audio/A/02_189.wav 2\n",
            "/gdrive/MyDrive/tmp/audio/A/02_195.wav 2\n",
            "/gdrive/MyDrive/tmp/audio/A/02_216.wav 2\n",
            "/gdrive/MyDrive/tmp/audio/A/02_185.wav 2\n",
            "/gdrive/MyDrive/tmp/audio/A/02_196.wav 2\n",
            "/gdrive/MyDrive/tmp/audio/A/02_200.wav 2\n",
            "/gdrive/MyDrive/tmp/audio/A/02_192.wav 2\n",
            "/gdrive/MyDrive/tmp/audio/A/02_210.wav 2\n",
            "/gdrive/MyDrive/tmp/audio/A/02_167.wav 2\n",
            "/gdrive/MyDrive/tmp/audio/A/02_204.wav 2\n",
            "/gdrive/MyDrive/tmp/audio/A/02_187.wav 2\n",
            "/gdrive/MyDrive/tmp/audio/A/02_221.wav 2\n",
            "/gdrive/MyDrive/tmp/audio/A/02_180.wav 2\n",
            "/gdrive/MyDrive/tmp/audio/A/02_218.wav 2\n",
            "/gdrive/MyDrive/tmp/audio/A/02_199.wav 2\n",
            "/gdrive/MyDrive/tmp/audio/A/02_211.wav 2\n",
            "/gdrive/MyDrive/tmp/audio/A/02_188.wav 2\n",
            "/gdrive/MyDrive/tmp/audio/A/02_240.wav 2\n",
            "/gdrive/MyDrive/tmp/audio/A/02_236.wav 2\n",
            "/gdrive/MyDrive/tmp/audio/A/02_222.wav 2\n",
            "/gdrive/MyDrive/tmp/audio/A/02_214.wav 2\n",
            "/gdrive/MyDrive/tmp/audio/A/02_205.wav 2\n",
            "/gdrive/MyDrive/tmp/audio/A/02_235.wav 2\n",
            "/gdrive/MyDrive/tmp/audio/A/02_231.wav 2\n",
            "/gdrive/MyDrive/tmp/audio/A/02_213.wav 2\n",
            "/gdrive/MyDrive/tmp/audio/A/02_223.wav 2\n",
            "/gdrive/MyDrive/tmp/audio/A/02_238.wav 2\n",
            "/gdrive/MyDrive/tmp/audio/A/02_209.wav 2\n",
            "/gdrive/MyDrive/tmp/audio/A/02_246.wav 2\n",
            "/gdrive/MyDrive/tmp/audio/A/02_225.wav 2\n",
            "/gdrive/MyDrive/tmp/audio/A/02_239.wav 2\n",
            "/gdrive/MyDrive/tmp/audio/A/02_232.wav 2\n",
            "/gdrive/MyDrive/tmp/audio/A/02_243.wav 2\n",
            "/gdrive/MyDrive/tmp/audio/A/02_224.wav 2\n",
            "/gdrive/MyDrive/tmp/audio/A/02_230.wav 2\n",
            "/gdrive/MyDrive/tmp/audio/A/02_252.wav 2\n",
            "/gdrive/MyDrive/tmp/audio/A/02_229.wav 2\n",
            "/gdrive/MyDrive/tmp/audio/A/02_249.wav 2\n",
            "/gdrive/MyDrive/tmp/audio/A/02_207.wav 2\n",
            "/gdrive/MyDrive/tmp/audio/A/02_227.wav 2\n",
            "/gdrive/MyDrive/tmp/audio/A/02_215.wav 2\n",
            "/gdrive/MyDrive/tmp/audio/A/02_202.wav 2\n",
            "/gdrive/MyDrive/tmp/audio/A/02_228.wav 2\n",
            "/gdrive/MyDrive/tmp/audio/A/02_220.wav 2\n",
            "/gdrive/MyDrive/tmp/audio/A/02_212.wav 2\n",
            "/gdrive/MyDrive/tmp/audio/A/02_237.wav 2\n",
            "/gdrive/MyDrive/tmp/audio/A/02_233.wav 2\n",
            "/gdrive/MyDrive/tmp/audio/A/02_267.wav 2\n",
            "/gdrive/MyDrive/tmp/audio/A/02_276.wav 2\n",
            "/gdrive/MyDrive/tmp/audio/A/02_270.wav 2\n",
            "/gdrive/MyDrive/tmp/audio/A/02_250.wav 2\n",
            "/gdrive/MyDrive/tmp/audio/A/02_258.wav 2\n",
            "/gdrive/MyDrive/tmp/audio/A/02_245.wav 2\n",
            "/gdrive/MyDrive/tmp/audio/A/02_241.wav 2\n",
            "/gdrive/MyDrive/tmp/audio/A/02_253.wav 2\n",
            "/gdrive/MyDrive/tmp/audio/A/02_272.wav 2\n",
            "/gdrive/MyDrive/tmp/audio/A/02_271.wav 2\n",
            "/gdrive/MyDrive/tmp/audio/A/02_248.wav 2\n",
            "/gdrive/MyDrive/tmp/audio/A/02_262.wav 2\n",
            "/gdrive/MyDrive/tmp/audio/A/02_257.wav 2\n",
            "/gdrive/MyDrive/tmp/audio/A/02_263.wav 2\n",
            "/gdrive/MyDrive/tmp/audio/A/02_268.wav 2\n",
            "/gdrive/MyDrive/tmp/audio/A/02_260.wav 2\n",
            "/gdrive/MyDrive/tmp/audio/A/02_265.wav 2\n",
            "/gdrive/MyDrive/tmp/audio/A/02_264.wav 2\n",
            "/gdrive/MyDrive/tmp/audio/A/02_283.wav 2\n",
            "/gdrive/MyDrive/tmp/audio/A/02_278.wav 2\n",
            "/gdrive/MyDrive/tmp/audio/A/02_242.wav 2\n",
            "/gdrive/MyDrive/tmp/audio/A/02_255.wav 2\n",
            "/gdrive/MyDrive/tmp/audio/A/02_244.wav 2\n",
            "/gdrive/MyDrive/tmp/audio/A/02_281.wav 2\n",
            "/gdrive/MyDrive/tmp/audio/A/02_277.wav 2\n",
            "/gdrive/MyDrive/tmp/audio/A/02_279.wav 2\n",
            "/gdrive/MyDrive/tmp/audio/A/02_254.wav 2\n",
            "/gdrive/MyDrive/tmp/audio/A/02_256.wav 2\n",
            "/gdrive/MyDrive/tmp/audio/A/02_247.wav 2\n",
            "/gdrive/MyDrive/tmp/audio/A/02_251.wav 2\n",
            "/gdrive/MyDrive/tmp/audio/A/02_311.wav 2\n",
            "/gdrive/MyDrive/tmp/audio/A/02_287.wav 2\n",
            "/gdrive/MyDrive/tmp/audio/A/02_282.wav 2\n",
            "/gdrive/MyDrive/tmp/audio/A/02_275.wav 2\n",
            "/gdrive/MyDrive/tmp/audio/A/02_297.wav 2\n",
            "/gdrive/MyDrive/tmp/audio/A/02_266.wav 2\n",
            "/gdrive/MyDrive/tmp/audio/A/02_296.wav 2\n",
            "/gdrive/MyDrive/tmp/audio/A/02_261.wav 2\n",
            "/gdrive/MyDrive/tmp/audio/A/02_304.wav 2\n",
            "/gdrive/MyDrive/tmp/audio/A/02_269.wav 2\n",
            "/gdrive/MyDrive/tmp/audio/A/02_298.wav 2\n",
            "/gdrive/MyDrive/tmp/audio/A/02_292.wav 2\n",
            "/gdrive/MyDrive/tmp/audio/A/02_286.wav 2\n",
            "/gdrive/MyDrive/tmp/audio/A/02_284.wav 2\n",
            "/gdrive/MyDrive/tmp/audio/A/02_305.wav 2\n",
            "/gdrive/MyDrive/tmp/audio/A/02_306.wav 2\n",
            "/gdrive/MyDrive/tmp/audio/A/02_295.wav 2\n",
            "/gdrive/MyDrive/tmp/audio/A/02_300.wav 2\n",
            "/gdrive/MyDrive/tmp/audio/A/02_285.wav 2\n",
            "/gdrive/MyDrive/tmp/audio/A/02_302.wav 2\n",
            "/gdrive/MyDrive/tmp/audio/A/02_313.wav 2\n",
            "/gdrive/MyDrive/tmp/audio/A/02_274.wav 2\n",
            "/gdrive/MyDrive/tmp/audio/A/02_273.wav 2\n",
            "/gdrive/MyDrive/tmp/audio/A/02_310.wav 2\n",
            "/gdrive/MyDrive/tmp/audio/A/02_293.wav 2\n",
            "/gdrive/MyDrive/tmp/audio/A/02_280.wav 2\n",
            "/gdrive/MyDrive/tmp/audio/A/02_299.wav 2\n",
            "/gdrive/MyDrive/tmp/audio/A/02_301.wav 2\n",
            "/gdrive/MyDrive/tmp/audio/A/02_259.wav 2\n",
            "/gdrive/MyDrive/tmp/audio/A/02_318.wav 2\n",
            "/gdrive/MyDrive/tmp/audio/A/02_335.wav 2\n",
            "/gdrive/MyDrive/tmp/audio/A/02_303.wav 2\n",
            "/gdrive/MyDrive/tmp/audio/A/02_294.wav 2\n",
            "/gdrive/MyDrive/tmp/audio/A/02_333.wav 2\n",
            "/gdrive/MyDrive/tmp/audio/A/02_320.wav 2\n",
            "/gdrive/MyDrive/tmp/audio/A/02_308.wav 2\n",
            "/gdrive/MyDrive/tmp/audio/A/02_332.wav 2\n",
            "/gdrive/MyDrive/tmp/audio/A/02_337.wav 2\n",
            "/gdrive/MyDrive/tmp/audio/A/02_317.wav 2\n",
            "/gdrive/MyDrive/tmp/audio/A/02_309.wav 2\n",
            "/gdrive/MyDrive/tmp/audio/A/02_312.wav 2\n",
            "/gdrive/MyDrive/tmp/audio/A/02_319.wav 2\n",
            "/gdrive/MyDrive/tmp/audio/A/02_316.wav 2\n",
            "/gdrive/MyDrive/tmp/audio/A/02_329.wav 2\n",
            "/gdrive/MyDrive/tmp/audio/A/02_314.wav 2\n",
            "/gdrive/MyDrive/tmp/audio/A/02_331.wav 2\n",
            "/gdrive/MyDrive/tmp/audio/A/02_336.wav 2\n",
            "/gdrive/MyDrive/tmp/audio/A/02_315.wav 2\n",
            "/gdrive/MyDrive/tmp/audio/A/02_307.wav 2\n",
            "/gdrive/MyDrive/tmp/audio/A/02_288.wav 2\n",
            "/gdrive/MyDrive/tmp/audio/A/02_290.wav 2\n",
            "/gdrive/MyDrive/tmp/audio/A/02_289.wav 2\n",
            "/gdrive/MyDrive/tmp/audio/A/02_321.wav 2\n",
            "/gdrive/MyDrive/tmp/audio/A/02_325.wav 2\n",
            "/gdrive/MyDrive/tmp/audio/A/02_341.wav 2\n",
            "/gdrive/MyDrive/tmp/audio/A/02_338.wav 2\n",
            "/gdrive/MyDrive/tmp/audio/A/02_291.wav 2\n",
            "/gdrive/MyDrive/tmp/audio/A/02_344.wav 2\n",
            "/gdrive/MyDrive/tmp/audio/A/02_328.wav 2\n",
            "/gdrive/MyDrive/tmp/audio/A/02_339.wav 2\n",
            "/gdrive/MyDrive/tmp/audio/A/02_322.wav 2\n",
            "/gdrive/MyDrive/tmp/audio/A/02_347.wav 2\n",
            "/gdrive/MyDrive/tmp/audio/A/02_001.wav 2\n",
            "/gdrive/MyDrive/tmp/audio/A/02_330.wav 2\n",
            "/gdrive/MyDrive/tmp/audio/A/02_327.wav 2\n",
            "/gdrive/MyDrive/tmp/audio/A/02_334.wav 2\n",
            "/gdrive/MyDrive/tmp/audio/A/02_340.wav 2\n",
            "/gdrive/MyDrive/tmp/audio/A/02_323.wav 2\n",
            "/gdrive/MyDrive/tmp/audio/A/02_345.wav 2\n",
            "/gdrive/MyDrive/tmp/audio/A/02_342.wav 2\n",
            "/gdrive/MyDrive/tmp/audio/A/02_326.wav 2\n",
            "/gdrive/MyDrive/tmp/audio/A/02_346.wav 2\n",
            "/gdrive/MyDrive/tmp/audio/A/02_000.wav 2\n",
            "/gdrive/MyDrive/tmp/audio/A/02_324.wav 2\n",
            "/gdrive/MyDrive/tmp/audio/A/02_002.wav 2\n",
            "/gdrive/MyDrive/tmp/audio/A/02_343.wav 2\n",
            "/gdrive/MyDrive/tmp/audio/A/03_006.wav 3\n",
            "/gdrive/MyDrive/tmp/audio/A/03_017.wav 3\n",
            "/gdrive/MyDrive/tmp/audio/A/03_015.wav 3\n",
            "/gdrive/MyDrive/tmp/audio/A/03_003.wav 3\n",
            "/gdrive/MyDrive/tmp/audio/A/03_001.wav 3\n",
            "/gdrive/MyDrive/tmp/audio/A/03_014.wav 3\n",
            "/gdrive/MyDrive/tmp/audio/A/03_016.wav 3\n",
            "/gdrive/MyDrive/tmp/audio/A/03_031.wav 3\n",
            "/gdrive/MyDrive/tmp/audio/A/03_009.wav 3\n",
            "/gdrive/MyDrive/tmp/audio/A/03_022.wav 3\n",
            "/gdrive/MyDrive/tmp/audio/A/03_026.wav 3\n",
            "/gdrive/MyDrive/tmp/audio/A/03_029.wav 3\n",
            "/gdrive/MyDrive/tmp/audio/A/03_020.wav 3\n",
            "/gdrive/MyDrive/tmp/audio/A/03_005.wav 3\n",
            "/gdrive/MyDrive/tmp/audio/A/03_019.wav 3\n",
            "/gdrive/MyDrive/tmp/audio/A/03_011.wav 3\n",
            "/gdrive/MyDrive/tmp/audio/A/03_012.wav 3\n",
            "/gdrive/MyDrive/tmp/audio/A/03_013.wav 3\n",
            "/gdrive/MyDrive/tmp/audio/A/03_023.wav 3\n",
            "/gdrive/MyDrive/tmp/audio/A/03_007.wav 3\n",
            "/gdrive/MyDrive/tmp/audio/A/03_018.wav 3\n",
            "/gdrive/MyDrive/tmp/audio/A/03_008.wav 3\n",
            "/gdrive/MyDrive/tmp/audio/A/03_021.wav 3\n",
            "/gdrive/MyDrive/tmp/audio/A/03_028.wav 3\n",
            "/gdrive/MyDrive/tmp/audio/A/03_027.wav 3\n",
            "/gdrive/MyDrive/tmp/audio/A/03_010.wav 3\n",
            "/gdrive/MyDrive/tmp/audio/A/03_000.wav 3\n",
            "/gdrive/MyDrive/tmp/audio/A/03_002.wav 3\n",
            "/gdrive/MyDrive/tmp/audio/A/03_038.wav 3\n",
            "/gdrive/MyDrive/tmp/audio/A/03_047.wav 3\n",
            "/gdrive/MyDrive/tmp/audio/A/03_004.wav 3\n",
            "/gdrive/MyDrive/tmp/audio/A/03_049.wav 3\n",
            "/gdrive/MyDrive/tmp/audio/A/03_048.wav 3\n",
            "/gdrive/MyDrive/tmp/audio/A/03_040.wav 3\n",
            "/gdrive/MyDrive/tmp/audio/A/03_072.wav 3\n",
            "/gdrive/MyDrive/tmp/audio/A/03_046.wav 3\n",
            "/gdrive/MyDrive/tmp/audio/A/03_060.wav 3\n",
            "/gdrive/MyDrive/tmp/audio/A/03_062.wav 3\n",
            "/gdrive/MyDrive/tmp/audio/A/03_036.wav 3\n",
            "/gdrive/MyDrive/tmp/audio/A/03_032.wav 3\n",
            "/gdrive/MyDrive/tmp/audio/A/03_045.wav 3\n",
            "/gdrive/MyDrive/tmp/audio/A/03_043.wav 3\n",
            "/gdrive/MyDrive/tmp/audio/A/03_039.wav 3\n",
            "/gdrive/MyDrive/tmp/audio/A/03_044.wav 3\n",
            "/gdrive/MyDrive/tmp/audio/A/03_033.wav 3\n",
            "/gdrive/MyDrive/tmp/audio/A/03_025.wav 3\n",
            "/gdrive/MyDrive/tmp/audio/A/03_035.wav 3\n",
            "/gdrive/MyDrive/tmp/audio/A/03_041.wav 3\n",
            "/gdrive/MyDrive/tmp/audio/A/03_050.wav 3\n",
            "/gdrive/MyDrive/tmp/audio/A/03_065.wav 3\n",
            "/gdrive/MyDrive/tmp/audio/A/03_064.wav 3\n",
            "/gdrive/MyDrive/tmp/audio/A/03_037.wav 3\n",
            "/gdrive/MyDrive/tmp/audio/A/03_066.wav 3\n",
            "/gdrive/MyDrive/tmp/audio/A/03_053.wav 3\n",
            "/gdrive/MyDrive/tmp/audio/A/03_034.wav 3\n",
            "/gdrive/MyDrive/tmp/audio/A/03_024.wav 3\n",
            "/gdrive/MyDrive/tmp/audio/A/03_030.wav 3\n",
            "/gdrive/MyDrive/tmp/audio/A/03_042.wav 3\n",
            "/gdrive/MyDrive/tmp/audio/A/03_055.wav 3\n",
            "/gdrive/MyDrive/tmp/audio/A/03_095.wav 3\n",
            "/gdrive/MyDrive/tmp/audio/A/03_082.wav 3\n",
            "/gdrive/MyDrive/tmp/audio/A/03_071.wav 3\n",
            "/gdrive/MyDrive/tmp/audio/A/03_058.wav 3\n",
            "/gdrive/MyDrive/tmp/audio/A/03_073.wav 3\n",
            "/gdrive/MyDrive/tmp/audio/A/03_098.wav 3\n",
            "/gdrive/MyDrive/tmp/audio/A/03_079.wav 3\n",
            "/gdrive/MyDrive/tmp/audio/A/03_063.wav 3\n",
            "/gdrive/MyDrive/tmp/audio/A/03_075.wav 3\n",
            "/gdrive/MyDrive/tmp/audio/A/03_054.wav 3\n",
            "/gdrive/MyDrive/tmp/audio/A/03_057.wav 3\n",
            "/gdrive/MyDrive/tmp/audio/A/03_056.wav 3\n",
            "/gdrive/MyDrive/tmp/audio/A/03_076.wav 3\n",
            "/gdrive/MyDrive/tmp/audio/A/03_059.wav 3\n",
            "/gdrive/MyDrive/tmp/audio/A/03_074.wav 3\n",
            "/gdrive/MyDrive/tmp/audio/A/03_068.wav 3\n",
            "/gdrive/MyDrive/tmp/audio/A/03_051.wav 3\n",
            "/gdrive/MyDrive/tmp/audio/A/03_080.wav 3\n",
            "/gdrive/MyDrive/tmp/audio/A/03_083.wav 3\n",
            "/gdrive/MyDrive/tmp/audio/A/03_078.wav 3\n",
            "/gdrive/MyDrive/tmp/audio/A/03_086.wav 3\n",
            "/gdrive/MyDrive/tmp/audio/A/03_092.wav 3\n",
            "/gdrive/MyDrive/tmp/audio/A/03_087.wav 3\n",
            "/gdrive/MyDrive/tmp/audio/A/03_052.wav 3\n",
            "/gdrive/MyDrive/tmp/audio/A/03_061.wav 3\n",
            "/gdrive/MyDrive/tmp/audio/A/03_093.wav 3\n",
            "/gdrive/MyDrive/tmp/audio/A/03_081.wav 3\n",
            "/gdrive/MyDrive/tmp/audio/A/03_085.wav 3\n",
            "/gdrive/MyDrive/tmp/audio/A/03_115.wav 3\n",
            "/gdrive/MyDrive/tmp/audio/A/03_101.wav 3\n",
            "/gdrive/MyDrive/tmp/audio/A/03_105.wav 3\n",
            "/gdrive/MyDrive/tmp/audio/A/03_094.wav 3\n",
            "/gdrive/MyDrive/tmp/audio/A/03_067.wav 3\n",
            "/gdrive/MyDrive/tmp/audio/A/03_102.wav 3\n",
            "/gdrive/MyDrive/tmp/audio/A/03_088.wav 3\n",
            "/gdrive/MyDrive/tmp/audio/A/03_107.wav 3\n",
            "/gdrive/MyDrive/tmp/audio/A/03_125.wav 3\n",
            "/gdrive/MyDrive/tmp/audio/A/03_089.wav 3\n",
            "/gdrive/MyDrive/tmp/audio/A/03_100.wav 3\n",
            "/gdrive/MyDrive/tmp/audio/A/03_097.wav 3\n",
            "/gdrive/MyDrive/tmp/audio/A/03_099.wav 3\n",
            "/gdrive/MyDrive/tmp/audio/A/03_114.wav 3\n",
            "/gdrive/MyDrive/tmp/audio/A/03_116.wav 3\n",
            "/gdrive/MyDrive/tmp/audio/A/03_108.wav 3\n",
            "/gdrive/MyDrive/tmp/audio/A/03_104.wav 3\n",
            "/gdrive/MyDrive/tmp/audio/A/03_096.wav 3\n",
            "/gdrive/MyDrive/tmp/audio/A/03_091.wav 3\n",
            "/gdrive/MyDrive/tmp/audio/A/03_090.wav 3\n",
            "/gdrive/MyDrive/tmp/audio/A/03_113.wav 3\n",
            "/gdrive/MyDrive/tmp/audio/A/03_111.wav 3\n",
            "/gdrive/MyDrive/tmp/audio/A/03_131.wav 3\n",
            "/gdrive/MyDrive/tmp/audio/A/03_084.wav 3\n",
            "/gdrive/MyDrive/tmp/audio/A/03_103.wav 3\n",
            "/gdrive/MyDrive/tmp/audio/A/03_069.wav 3\n",
            "/gdrive/MyDrive/tmp/audio/A/03_070.wav 3\n",
            "/gdrive/MyDrive/tmp/audio/A/03_112.wav 3\n",
            "/gdrive/MyDrive/tmp/audio/A/03_153.wav 3\n",
            "/gdrive/MyDrive/tmp/audio/A/03_124.wav 3\n",
            "/gdrive/MyDrive/tmp/audio/A/03_149.wav 3\n",
            "/gdrive/MyDrive/tmp/audio/A/03_146.wav 3\n",
            "/gdrive/MyDrive/tmp/audio/A/03_128.wav 3\n",
            "/gdrive/MyDrive/tmp/audio/A/03_077.wav 3\n",
            "/gdrive/MyDrive/tmp/audio/A/03_158.wav 3\n",
            "/gdrive/MyDrive/tmp/audio/A/03_143.wav 3\n",
            "/gdrive/MyDrive/tmp/audio/A/03_138.wav 3\n",
            "/gdrive/MyDrive/tmp/audio/A/03_150.wav 3\n",
            "/gdrive/MyDrive/tmp/audio/A/03_140.wav 3\n",
            "/gdrive/MyDrive/tmp/audio/A/03_129.wav 3\n",
            "/gdrive/MyDrive/tmp/audio/A/03_109.wav 3\n",
            "/gdrive/MyDrive/tmp/audio/A/03_117.wav 3\n",
            "/gdrive/MyDrive/tmp/audio/A/03_110.wav 3\n",
            "/gdrive/MyDrive/tmp/audio/A/03_119.wav 3\n",
            "/gdrive/MyDrive/tmp/audio/A/03_133.wav 3\n",
            "/gdrive/MyDrive/tmp/audio/A/03_123.wav 3\n",
            "/gdrive/MyDrive/tmp/audio/A/03_134.wav 3\n",
            "/gdrive/MyDrive/tmp/audio/A/03_132.wav 3\n",
            "/gdrive/MyDrive/tmp/audio/A/03_126.wav 3\n",
            "/gdrive/MyDrive/tmp/audio/A/03_118.wav 3\n",
            "/gdrive/MyDrive/tmp/audio/A/03_147.wav 3\n",
            "/gdrive/MyDrive/tmp/audio/A/03_148.wav 3\n",
            "/gdrive/MyDrive/tmp/audio/A/03_130.wav 3\n",
            "/gdrive/MyDrive/tmp/audio/A/03_137.wav 3\n",
            "/gdrive/MyDrive/tmp/audio/A/03_127.wav 3\n",
            "/gdrive/MyDrive/tmp/audio/A/03_145.wav 3\n",
            "/gdrive/MyDrive/tmp/audio/A/03_120.wav 3\n",
            "/gdrive/MyDrive/tmp/audio/A/03_172.wav 3\n",
            "/gdrive/MyDrive/tmp/audio/A/03_139.wav 3\n",
            "/gdrive/MyDrive/tmp/audio/A/03_151.wav 3\n",
            "/gdrive/MyDrive/tmp/audio/A/03_177.wav 3\n",
            "/gdrive/MyDrive/tmp/audio/A/03_142.wav 3\n",
            "/gdrive/MyDrive/tmp/audio/A/03_157.wav 3\n",
            "/gdrive/MyDrive/tmp/audio/A/03_106.wav 3\n",
            "/gdrive/MyDrive/tmp/audio/A/03_121.wav 3\n",
            "/gdrive/MyDrive/tmp/audio/A/03_141.wav 3\n",
            "/gdrive/MyDrive/tmp/audio/A/03_171.wav 3\n",
            "/gdrive/MyDrive/tmp/audio/A/03_154.wav 3\n",
            "/gdrive/MyDrive/tmp/audio/A/03_183.wav 3\n",
            "/gdrive/MyDrive/tmp/audio/A/03_163.wav 3\n",
            "/gdrive/MyDrive/tmp/audio/A/03_161.wav 3\n",
            "/gdrive/MyDrive/tmp/audio/A/03_152.wav 3\n",
            "/gdrive/MyDrive/tmp/audio/A/03_166.wav 3\n",
            "/gdrive/MyDrive/tmp/audio/A/03_136.wav 3\n",
            "/gdrive/MyDrive/tmp/audio/A/03_174.wav 3\n",
            "/gdrive/MyDrive/tmp/audio/A/03_144.wav 3\n",
            "/gdrive/MyDrive/tmp/audio/A/03_156.wav 3\n",
            "/gdrive/MyDrive/tmp/audio/A/03_135.wav 3\n",
            "/gdrive/MyDrive/tmp/audio/A/03_167.wav 3\n",
            "/gdrive/MyDrive/tmp/audio/A/03_164.wav 3\n",
            "/gdrive/MyDrive/tmp/audio/A/03_165.wav 3\n",
            "/gdrive/MyDrive/tmp/audio/A/03_122.wav 3\n",
            "/gdrive/MyDrive/tmp/audio/A/03_168.wav 3\n",
            "/gdrive/MyDrive/tmp/audio/A/03_173.wav 3\n",
            "/gdrive/MyDrive/tmp/audio/A/03_159.wav 3\n",
            "/gdrive/MyDrive/tmp/audio/A/03_196.wav 3\n",
            "/gdrive/MyDrive/tmp/audio/A/03_178.wav 3\n",
            "/gdrive/MyDrive/tmp/audio/A/03_185.wav 3\n",
            "/gdrive/MyDrive/tmp/audio/A/03_190.wav 3\n",
            "/gdrive/MyDrive/tmp/audio/A/03_169.wav 3\n",
            "/gdrive/MyDrive/tmp/audio/A/03_182.wav 3\n",
            "/gdrive/MyDrive/tmp/audio/A/03_184.wav 3\n",
            "/gdrive/MyDrive/tmp/audio/A/03_162.wav 3\n",
            "/gdrive/MyDrive/tmp/audio/A/03_195.wav 3\n",
            "/gdrive/MyDrive/tmp/audio/A/03_160.wav 3\n",
            "/gdrive/MyDrive/tmp/audio/A/03_199.wav 3\n",
            "/gdrive/MyDrive/tmp/audio/A/03_176.wav 3\n",
            "/gdrive/MyDrive/tmp/audio/A/03_212.wav 3\n",
            "/gdrive/MyDrive/tmp/audio/A/03_187.wav 3\n",
            "/gdrive/MyDrive/tmp/audio/A/03_191.wav 3\n",
            "/gdrive/MyDrive/tmp/audio/A/03_189.wav 3\n",
            "/gdrive/MyDrive/tmp/audio/A/03_205.wav 3\n",
            "/gdrive/MyDrive/tmp/audio/A/03_204.wav 3\n",
            "/gdrive/MyDrive/tmp/audio/A/03_188.wav 3\n",
            "/gdrive/MyDrive/tmp/audio/A/03_175.wav 3\n",
            "/gdrive/MyDrive/tmp/audio/A/03_181.wav 3\n",
            "/gdrive/MyDrive/tmp/audio/A/03_170.wav 3\n",
            "/gdrive/MyDrive/tmp/audio/A/03_207.wav 3\n",
            "/gdrive/MyDrive/tmp/audio/A/03_179.wav 3\n",
            "/gdrive/MyDrive/tmp/audio/A/03_186.wav 3\n",
            "/gdrive/MyDrive/tmp/audio/A/03_201.wav 3\n",
            "/gdrive/MyDrive/tmp/audio/A/03_155.wav 3\n",
            "/gdrive/MyDrive/tmp/audio/A/03_194.wav 3\n",
            "/gdrive/MyDrive/tmp/audio/A/03_234.wav 3\n",
            "/gdrive/MyDrive/tmp/audio/A/03_223.wav 3\n",
            "/gdrive/MyDrive/tmp/audio/A/03_225.wav 3\n",
            "/gdrive/MyDrive/tmp/audio/A/03_202.wav 3\n",
            "/gdrive/MyDrive/tmp/audio/A/03_214.wav 3\n",
            "/gdrive/MyDrive/tmp/audio/A/03_217.wav 3\n",
            "/gdrive/MyDrive/tmp/audio/A/03_221.wav 3\n",
            "/gdrive/MyDrive/tmp/audio/A/03_211.wav 3\n",
            "/gdrive/MyDrive/tmp/audio/A/03_238.wav 3\n",
            "/gdrive/MyDrive/tmp/audio/A/03_208.wav 3\n",
            "/gdrive/MyDrive/tmp/audio/A/03_216.wav 3\n",
            "/gdrive/MyDrive/tmp/audio/A/03_215.wav 3\n",
            "/gdrive/MyDrive/tmp/audio/A/03_239.wav 3\n",
            "/gdrive/MyDrive/tmp/audio/A/03_200.wav 3\n",
            "/gdrive/MyDrive/tmp/audio/A/03_203.wav 3\n",
            "/gdrive/MyDrive/tmp/audio/A/03_240.wav 3\n",
            "/gdrive/MyDrive/tmp/audio/A/03_222.wav 3\n",
            "/gdrive/MyDrive/tmp/audio/A/03_226.wav 3\n",
            "/gdrive/MyDrive/tmp/audio/A/03_192.wav 3\n",
            "/gdrive/MyDrive/tmp/audio/A/03_209.wav 3\n",
            "/gdrive/MyDrive/tmp/audio/A/03_224.wav 3\n",
            "/gdrive/MyDrive/tmp/audio/A/03_219.wav 3\n",
            "/gdrive/MyDrive/tmp/audio/A/03_206.wav 3\n",
            "/gdrive/MyDrive/tmp/audio/A/03_244.wav 3\n",
            "/gdrive/MyDrive/tmp/audio/A/03_210.wav 3\n",
            "/gdrive/MyDrive/tmp/audio/A/03_213.wav 3\n",
            "/gdrive/MyDrive/tmp/audio/A/03_197.wav 3\n",
            "/gdrive/MyDrive/tmp/audio/A/03_193.wav 3\n",
            "/gdrive/MyDrive/tmp/audio/A/03_198.wav 3\n",
            "/gdrive/MyDrive/tmp/audio/A/03_237.wav 3\n",
            "/gdrive/MyDrive/tmp/audio/A/03_249.wav 3\n",
            "/gdrive/MyDrive/tmp/audio/A/03_230.wav 3\n",
            "/gdrive/MyDrive/tmp/audio/A/03_241.wav 3\n",
            "/gdrive/MyDrive/tmp/audio/A/03_231.wav 3\n",
            "/gdrive/MyDrive/tmp/audio/A/03_250.wav 3\n",
            "/gdrive/MyDrive/tmp/audio/A/03_236.wav 3\n",
            "/gdrive/MyDrive/tmp/audio/A/03_245.wav 3\n",
            "/gdrive/MyDrive/tmp/audio/A/03_229.wav 3\n",
            "/gdrive/MyDrive/tmp/audio/A/03_242.wav 3\n",
            "/gdrive/MyDrive/tmp/audio/A/03_220.wav 3\n",
            "/gdrive/MyDrive/tmp/audio/A/03_233.wav 3\n",
            "/gdrive/MyDrive/tmp/audio/A/03_256.wav 3\n",
            "/gdrive/MyDrive/tmp/audio/A/03_235.wav 3\n",
            "/gdrive/MyDrive/tmp/audio/A/03_251.wav 3\n",
            "/gdrive/MyDrive/tmp/audio/A/03_254.wav 3\n",
            "/gdrive/MyDrive/tmp/audio/A/03_247.wav 3\n",
            "/gdrive/MyDrive/tmp/audio/A/03_276.wav 3\n",
            "/gdrive/MyDrive/tmp/audio/A/03_243.wav 3\n",
            "/gdrive/MyDrive/tmp/audio/A/03_246.wav 3\n",
            "/gdrive/MyDrive/tmp/audio/A/03_278.wav 3\n",
            "/gdrive/MyDrive/tmp/audio/A/03_232.wav 3\n",
            "/gdrive/MyDrive/tmp/audio/A/03_270.wav 3\n",
            "/gdrive/MyDrive/tmp/audio/A/03_253.wav 3\n",
            "/gdrive/MyDrive/tmp/audio/A/03_228.wav 3\n",
            "/gdrive/MyDrive/tmp/audio/A/03_227.wav 3\n",
            "/gdrive/MyDrive/tmp/audio/A/03_218.wav 3\n",
            "/gdrive/MyDrive/tmp/audio/A/03_255.wav 3\n",
            "/gdrive/MyDrive/tmp/audio/A/03_259.wav 3\n",
            "/gdrive/MyDrive/tmp/audio/A/03_252.wav 3\n",
            "/gdrive/MyDrive/tmp/audio/A/03_266.wav 3\n",
            "/gdrive/MyDrive/tmp/audio/A/03_283.wav 3\n",
            "/gdrive/MyDrive/tmp/audio/A/03_292.wav 3\n",
            "/gdrive/MyDrive/tmp/audio/A/03_279.wav 3\n",
            "/gdrive/MyDrive/tmp/audio/A/03_260.wav 3\n",
            "/gdrive/MyDrive/tmp/audio/A/03_280.wav 3\n",
            "/gdrive/MyDrive/tmp/audio/A/03_297.wav 3\n",
            "/gdrive/MyDrive/tmp/audio/A/03_263.wav 3\n",
            "/gdrive/MyDrive/tmp/audio/A/03_273.wav 3\n",
            "/gdrive/MyDrive/tmp/audio/A/03_274.wav 3\n",
            "/gdrive/MyDrive/tmp/audio/A/03_271.wav 3\n",
            "/gdrive/MyDrive/tmp/audio/A/03_275.wav 3\n",
            "/gdrive/MyDrive/tmp/audio/A/03_291.wav 3\n",
            "/gdrive/MyDrive/tmp/audio/A/03_277.wav 3\n",
            "/gdrive/MyDrive/tmp/audio/A/03_281.wav 3\n",
            "/gdrive/MyDrive/tmp/audio/A/03_285.wav 3\n",
            "/gdrive/MyDrive/tmp/audio/A/03_268.wav 3\n",
            "/gdrive/MyDrive/tmp/audio/A/03_258.wav 3\n",
            "/gdrive/MyDrive/tmp/audio/A/03_299.wav 3\n",
            "/gdrive/MyDrive/tmp/audio/A/03_257.wav 3\n",
            "/gdrive/MyDrive/tmp/audio/A/03_267.wav 3\n",
            "/gdrive/MyDrive/tmp/audio/A/03_264.wav 3\n",
            "/gdrive/MyDrive/tmp/audio/A/03_272.wav 3\n",
            "/gdrive/MyDrive/tmp/audio/A/03_288.wav 3\n",
            "/gdrive/MyDrive/tmp/audio/A/03_265.wav 3\n",
            "/gdrive/MyDrive/tmp/audio/A/03_248.wav 3\n",
            "/gdrive/MyDrive/tmp/audio/A/03_262.wav 3\n",
            "/gdrive/MyDrive/tmp/audio/A/03_261.wav 3\n",
            "/gdrive/MyDrive/tmp/audio/A/03_269.wav 3\n",
            "/gdrive/MyDrive/tmp/audio/A/03_282.wav 3\n",
            "/gdrive/MyDrive/tmp/audio/A/03_315.wav 3\n",
            "/gdrive/MyDrive/tmp/audio/A/03_326.wav 3\n",
            "/gdrive/MyDrive/tmp/audio/A/03_180.wav 3\n",
            "/gdrive/MyDrive/tmp/audio/A/03_303.wav 3\n",
            "/gdrive/MyDrive/tmp/audio/A/03_290.wav 3\n",
            "/gdrive/MyDrive/tmp/audio/A/03_300.wav 3\n",
            "/gdrive/MyDrive/tmp/audio/A/03_301.wav 3\n",
            "/gdrive/MyDrive/tmp/audio/A/03_295.wav 3\n",
            "/gdrive/MyDrive/tmp/audio/A/03_312.wav 3\n",
            "/gdrive/MyDrive/tmp/audio/A/03_293.wav 3\n",
            "/gdrive/MyDrive/tmp/audio/A/03_321.wav 3\n",
            "/gdrive/MyDrive/tmp/audio/A/03_302.wav 3\n",
            "/gdrive/MyDrive/tmp/audio/A/03_294.wav 3\n",
            "/gdrive/MyDrive/tmp/audio/A/03_287.wav 3\n",
            "/gdrive/MyDrive/tmp/audio/A/03_329.wav 3\n",
            "/gdrive/MyDrive/tmp/audio/A/03_323.wav 3\n",
            "/gdrive/MyDrive/tmp/audio/A/03_306.wav 3\n",
            "/gdrive/MyDrive/tmp/audio/A/03_304.wav 3\n",
            "/gdrive/MyDrive/tmp/audio/A/03_319.wav 3\n",
            "/gdrive/MyDrive/tmp/audio/A/03_298.wav 3\n",
            "/gdrive/MyDrive/tmp/audio/A/03_324.wav 3\n",
            "/gdrive/MyDrive/tmp/audio/A/03_289.wav 3\n",
            "/gdrive/MyDrive/tmp/audio/A/03_284.wav 3\n",
            "/gdrive/MyDrive/tmp/audio/A/03_286.wav 3\n",
            "/gdrive/MyDrive/tmp/audio/A/03_311.wav 3\n",
            "/gdrive/MyDrive/tmp/audio/A/03_305.wav 3\n",
            "/gdrive/MyDrive/tmp/audio/A/03_307.wav 3\n",
            "/gdrive/MyDrive/tmp/audio/A/03_328.wav 3\n",
            "/gdrive/MyDrive/tmp/audio/A/03_313.wav 3\n",
            "/gdrive/MyDrive/tmp/audio/A/03_296.wav 3\n",
            "/gdrive/MyDrive/tmp/audio/A/03_322.wav 3\n",
            "/gdrive/MyDrive/tmp/audio/A/03_325.wav 3\n",
            "/gdrive/MyDrive/tmp/audio/A/03_308.wav 3\n",
            "/gdrive/MyDrive/tmp/audio/A/03_338.wav 3\n",
            "/gdrive/MyDrive/tmp/audio/A/03_363.wav 3\n",
            "/gdrive/MyDrive/tmp/audio/A/03_339.wav 3\n",
            "/gdrive/MyDrive/tmp/audio/A/03_334.wav 3\n",
            "/gdrive/MyDrive/tmp/audio/A/03_318.wav 3\n",
            "/gdrive/MyDrive/tmp/audio/A/03_344.wav 3\n",
            "/gdrive/MyDrive/tmp/audio/A/03_333.wav 3\n",
            "/gdrive/MyDrive/tmp/audio/A/03_330.wav 3\n",
            "/gdrive/MyDrive/tmp/audio/A/03_317.wav 3\n",
            "/gdrive/MyDrive/tmp/audio/A/03_332.wav 3\n",
            "/gdrive/MyDrive/tmp/audio/A/03_345.wav 3\n",
            "/gdrive/MyDrive/tmp/audio/A/03_336.wav 3\n",
            "/gdrive/MyDrive/tmp/audio/A/03_309.wav 3\n",
            "/gdrive/MyDrive/tmp/audio/A/03_310.wav 3\n",
            "/gdrive/MyDrive/tmp/audio/A/03_340.wav 3\n",
            "/gdrive/MyDrive/tmp/audio/A/03_346.wav 3\n",
            "/gdrive/MyDrive/tmp/audio/A/03_342.wav 3\n",
            "/gdrive/MyDrive/tmp/audio/A/03_361.wav 3\n",
            "/gdrive/MyDrive/tmp/audio/A/03_327.wav 3\n",
            "/gdrive/MyDrive/tmp/audio/A/03_331.wav 3\n",
            "/gdrive/MyDrive/tmp/audio/A/03_337.wav 3\n",
            "/gdrive/MyDrive/tmp/audio/A/03_314.wav 3\n",
            "/gdrive/MyDrive/tmp/audio/A/03_362.wav 3\n",
            "/gdrive/MyDrive/tmp/audio/A/03_372.wav 3\n",
            "/gdrive/MyDrive/tmp/audio/A/03_356.wav 3\n",
            "/gdrive/MyDrive/tmp/audio/A/03_357.wav 3\n",
            "/gdrive/MyDrive/tmp/audio/A/03_355.wav 3\n",
            "/gdrive/MyDrive/tmp/audio/A/03_373.wav 3\n",
            "/gdrive/MyDrive/tmp/audio/A/03_335.wav 3\n",
            "/gdrive/MyDrive/tmp/audio/A/03_368.wav 3\n",
            "/gdrive/MyDrive/tmp/audio/A/03_358.wav 3\n",
            "/gdrive/MyDrive/tmp/audio/A/03_367.wav 3\n",
            "/gdrive/MyDrive/tmp/audio/A/03_366.wav 3\n",
            "/gdrive/MyDrive/tmp/audio/A/03_352.wav 3\n",
            "/gdrive/MyDrive/tmp/audio/A/03_369.wav 3\n",
            "/gdrive/MyDrive/tmp/audio/A/03_347.wav 3\n",
            "/gdrive/MyDrive/tmp/audio/A/03_343.wav 3\n",
            "/gdrive/MyDrive/tmp/audio/A/03_360.wav 3\n",
            "/gdrive/MyDrive/tmp/audio/A/03_365.wav 3\n",
            "/gdrive/MyDrive/tmp/audio/A/03_349.wav 3\n",
            "/gdrive/MyDrive/tmp/audio/A/03_350.wav 3\n",
            "/gdrive/MyDrive/tmp/audio/A/03_374.wav 3\n",
            "/gdrive/MyDrive/tmp/audio/A/03_348.wav 3\n",
            "/gdrive/MyDrive/tmp/audio/A/03_354.wav 3\n",
            "/gdrive/MyDrive/tmp/audio/A/03_364.wav 3\n",
            "/gdrive/MyDrive/tmp/audio/A/03_351.wav 3\n",
            "/gdrive/MyDrive/tmp/audio/A/03_370.wav 3\n",
            "/gdrive/MyDrive/tmp/audio/A/03_377.wav 3\n",
            "/gdrive/MyDrive/tmp/audio/A/03_359.wav 3\n",
            "/gdrive/MyDrive/tmp/audio/A/03_353.wav 3\n",
            "/gdrive/MyDrive/tmp/audio/A/03_341.wav 3\n",
            "/gdrive/MyDrive/tmp/audio/A/03_320.wav 3\n",
            "/gdrive/MyDrive/tmp/audio/A/03_375.wav 3\n",
            "/gdrive/MyDrive/tmp/audio/A/03_316.wav 3\n",
            "/gdrive/MyDrive/tmp/audio/A/03_371.wav 3\n",
            "/gdrive/MyDrive/tmp/audio/A/03_376.wav 3\n",
            "/gdrive/MyDrive/tmp/audio/A/00_021.wav 0\n",
            "/gdrive/MyDrive/tmp/audio/A/00_007.wav 0\n",
            "/gdrive/MyDrive/tmp/audio/A/00_010.wav 0\n",
            "/gdrive/MyDrive/tmp/audio/A/00_005.wav 0\n",
            "/gdrive/MyDrive/tmp/audio/A/00_027.wav 0\n",
            "/gdrive/MyDrive/tmp/audio/A/00_016.wav 0\n",
            "/gdrive/MyDrive/tmp/audio/A/00_014.wav 0\n",
            "/gdrive/MyDrive/tmp/audio/A/00_013.wav 0\n",
            "/gdrive/MyDrive/tmp/audio/A/00_026.wav 0\n",
            "/gdrive/MyDrive/tmp/audio/A/00_024.wav 0\n",
            "/gdrive/MyDrive/tmp/audio/A/00_022.wav 0\n",
            "/gdrive/MyDrive/tmp/audio/A/00_012.wav 0\n",
            "/gdrive/MyDrive/tmp/audio/A/00_028.wav 0\n",
            "/gdrive/MyDrive/tmp/audio/A/00_002.wav 0\n",
            "/gdrive/MyDrive/tmp/audio/A/00_030.wav 0\n",
            "/gdrive/MyDrive/tmp/audio/A/00_023.wav 0\n",
            "/gdrive/MyDrive/tmp/audio/A/00_011.wav 0\n",
            "/gdrive/MyDrive/tmp/audio/A/00_015.wav 0\n",
            "/gdrive/MyDrive/tmp/audio/A/00_019.wav 0\n",
            "/gdrive/MyDrive/tmp/audio/A/00_003.wav 0\n",
            "/gdrive/MyDrive/tmp/audio/A/00_032.wav 0\n",
            "/gdrive/MyDrive/tmp/audio/A/00_009.wav 0\n",
            "/gdrive/MyDrive/tmp/audio/A/00_008.wav 0\n",
            "/gdrive/MyDrive/tmp/audio/A/00_047.wav 0\n",
            "/gdrive/MyDrive/tmp/audio/A/00_039.wav 0\n",
            "/gdrive/MyDrive/tmp/audio/A/00_025.wav 0\n",
            "/gdrive/MyDrive/tmp/audio/A/00_044.wav 0\n",
            "/gdrive/MyDrive/tmp/audio/A/00_035.wav 0\n",
            "/gdrive/MyDrive/tmp/audio/A/00_029.wav 0\n",
            "/gdrive/MyDrive/tmp/audio/A/00_017.wav 0\n",
            "/gdrive/MyDrive/tmp/audio/A/00_001.wav 0\n",
            "/gdrive/MyDrive/tmp/audio/A/00_041.wav 0\n",
            "/gdrive/MyDrive/tmp/audio/A/00_034.wav 0\n",
            "/gdrive/MyDrive/tmp/audio/A/00_038.wav 0\n",
            "/gdrive/MyDrive/tmp/audio/A/00_004.wav 0\n",
            "/gdrive/MyDrive/tmp/audio/A/00_040.wav 0\n",
            "/gdrive/MyDrive/tmp/audio/A/00_036.wav 0\n",
            "/gdrive/MyDrive/tmp/audio/A/00_018.wav 0\n",
            "/gdrive/MyDrive/tmp/audio/A/00_037.wav 0\n",
            "/gdrive/MyDrive/tmp/audio/A/00_058.wav 0\n",
            "/gdrive/MyDrive/tmp/audio/A/00_042.wav 0\n",
            "/gdrive/MyDrive/tmp/audio/A/00_045.wav 0\n",
            "/gdrive/MyDrive/tmp/audio/A/00_054.wav 0\n",
            "/gdrive/MyDrive/tmp/audio/A/00_048.wav 0\n",
            "/gdrive/MyDrive/tmp/audio/A/00_031.wav 0\n",
            "/gdrive/MyDrive/tmp/audio/A/00_043.wav 0\n",
            "/gdrive/MyDrive/tmp/audio/A/00_006.wav 0\n",
            "/gdrive/MyDrive/tmp/audio/A/00_049.wav 0\n",
            "/gdrive/MyDrive/tmp/audio/A/00_059.wav 0\n",
            "/gdrive/MyDrive/tmp/audio/A/00_020.wav 0\n",
            "/gdrive/MyDrive/tmp/audio/A/00_033.wav 0\n",
            "/gdrive/MyDrive/tmp/audio/A/00_077.wav 0\n",
            "/gdrive/MyDrive/tmp/audio/A/00_096.wav 0\n",
            "/gdrive/MyDrive/tmp/audio/A/00_073.wav 0\n",
            "/gdrive/MyDrive/tmp/audio/A/00_051.wav 0\n",
            "/gdrive/MyDrive/tmp/audio/A/00_070.wav 0\n",
            "/gdrive/MyDrive/tmp/audio/A/00_074.wav 0\n",
            "/gdrive/MyDrive/tmp/audio/A/00_076.wav 0\n",
            "/gdrive/MyDrive/tmp/audio/A/00_057.wav 0\n",
            "/gdrive/MyDrive/tmp/audio/A/00_053.wav 0\n",
            "/gdrive/MyDrive/tmp/audio/A/00_067.wav 0\n",
            "/gdrive/MyDrive/tmp/audio/A/00_066.wav 0\n",
            "/gdrive/MyDrive/tmp/audio/A/00_062.wav 0\n",
            "/gdrive/MyDrive/tmp/audio/A/00_078.wav 0\n",
            "/gdrive/MyDrive/tmp/audio/A/00_071.wav 0\n",
            "/gdrive/MyDrive/tmp/audio/A/00_069.wav 0\n",
            "/gdrive/MyDrive/tmp/audio/A/00_050.wav 0\n",
            "/gdrive/MyDrive/tmp/audio/A/00_052.wav 0\n",
            "/gdrive/MyDrive/tmp/audio/A/00_056.wav 0\n",
            "/gdrive/MyDrive/tmp/audio/A/00_064.wav 0\n",
            "/gdrive/MyDrive/tmp/audio/A/00_079.wav 0\n",
            "/gdrive/MyDrive/tmp/audio/A/00_060.wav 0\n",
            "/gdrive/MyDrive/tmp/audio/A/00_097.wav 0\n",
            "/gdrive/MyDrive/tmp/audio/A/00_068.wav 0\n",
            "/gdrive/MyDrive/tmp/audio/A/00_072.wav 0\n",
            "/gdrive/MyDrive/tmp/audio/A/00_063.wav 0\n",
            "/gdrive/MyDrive/tmp/audio/A/00_046.wav 0\n",
            "/gdrive/MyDrive/tmp/audio/A/00_055.wav 0\n",
            "/gdrive/MyDrive/tmp/audio/A/00_061.wav 0\n",
            "/gdrive/MyDrive/tmp/audio/A/00_075.wav 0\n",
            "/gdrive/MyDrive/tmp/audio/A/00_101.wav 0\n",
            "/gdrive/MyDrive/tmp/audio/A/00_113.wav 0\n",
            "/gdrive/MyDrive/tmp/audio/A/00_088.wav 0\n",
            "/gdrive/MyDrive/tmp/audio/A/00_093.wav 0\n",
            "/gdrive/MyDrive/tmp/audio/A/00_106.wav 0\n",
            "/gdrive/MyDrive/tmp/audio/A/00_115.wav 0\n",
            "/gdrive/MyDrive/tmp/audio/A/00_114.wav 0\n",
            "/gdrive/MyDrive/tmp/audio/A/00_084.wav 0\n",
            "/gdrive/MyDrive/tmp/audio/A/00_090.wav 0\n",
            "/gdrive/MyDrive/tmp/audio/A/00_095.wav 0\n",
            "/gdrive/MyDrive/tmp/audio/A/00_108.wav 0\n",
            "/gdrive/MyDrive/tmp/audio/A/00_102.wav 0\n",
            "/gdrive/MyDrive/tmp/audio/A/00_110.wav 0\n",
            "/gdrive/MyDrive/tmp/audio/A/00_091.wav 0\n",
            "/gdrive/MyDrive/tmp/audio/A/00_083.wav 0\n",
            "/gdrive/MyDrive/tmp/audio/A/00_127.wav 0\n",
            "/gdrive/MyDrive/tmp/audio/A/00_117.wav 0\n",
            "/gdrive/MyDrive/tmp/audio/A/00_085.wav 0\n",
            "/gdrive/MyDrive/tmp/audio/A/00_135.wav 0\n",
            "/gdrive/MyDrive/tmp/audio/A/00_086.wav 0\n",
            "/gdrive/MyDrive/tmp/audio/A/00_080.wav 0\n",
            "/gdrive/MyDrive/tmp/audio/A/00_118.wav 0\n",
            "/gdrive/MyDrive/tmp/audio/A/00_089.wav 0\n",
            "/gdrive/MyDrive/tmp/audio/A/00_082.wav 0\n",
            "/gdrive/MyDrive/tmp/audio/A/00_092.wav 0\n",
            "/gdrive/MyDrive/tmp/audio/A/00_065.wav 0\n",
            "/gdrive/MyDrive/tmp/audio/A/00_087.wav 0\n",
            "/gdrive/MyDrive/tmp/audio/A/00_105.wav 0\n",
            "/gdrive/MyDrive/tmp/audio/A/00_081.wav 0\n",
            "/gdrive/MyDrive/tmp/audio/A/00_124.wav 0\n",
            "/gdrive/MyDrive/tmp/audio/A/00_128.wav 0\n",
            "/gdrive/MyDrive/tmp/audio/A/00_126.wav 0\n",
            "/gdrive/MyDrive/tmp/audio/A/00_100.wav 0\n",
            "/gdrive/MyDrive/tmp/audio/A/00_131.wav 0\n",
            "/gdrive/MyDrive/tmp/audio/A/00_140.wav 0\n",
            "/gdrive/MyDrive/tmp/audio/A/00_138.wav 0\n",
            "/gdrive/MyDrive/tmp/audio/A/00_149.wav 0\n",
            "/gdrive/MyDrive/tmp/audio/A/00_098.wav 0\n",
            "/gdrive/MyDrive/tmp/audio/A/00_104.wav 0\n",
            "/gdrive/MyDrive/tmp/audio/A/00_130.wav 0\n",
            "/gdrive/MyDrive/tmp/audio/A/00_136.wav 0\n",
            "/gdrive/MyDrive/tmp/audio/A/00_103.wav 0\n",
            "/gdrive/MyDrive/tmp/audio/A/00_144.wav 0\n",
            "/gdrive/MyDrive/tmp/audio/A/00_155.wav 0\n",
            "/gdrive/MyDrive/tmp/audio/A/00_158.wav 0\n",
            "/gdrive/MyDrive/tmp/audio/A/00_121.wav 0\n",
            "/gdrive/MyDrive/tmp/audio/A/00_112.wav 0\n",
            "/gdrive/MyDrive/tmp/audio/A/00_094.wav 0\n",
            "/gdrive/MyDrive/tmp/audio/A/00_116.wav 0\n",
            "/gdrive/MyDrive/tmp/audio/A/00_109.wav 0\n",
            "/gdrive/MyDrive/tmp/audio/A/00_153.wav 0\n",
            "/gdrive/MyDrive/tmp/audio/A/00_152.wav 0\n",
            "/gdrive/MyDrive/tmp/audio/A/00_119.wav 0\n",
            "/gdrive/MyDrive/tmp/audio/A/00_134.wav 0\n",
            "/gdrive/MyDrive/tmp/audio/A/00_141.wav 0\n",
            "/gdrive/MyDrive/tmp/audio/A/00_107.wav 0\n",
            "/gdrive/MyDrive/tmp/audio/A/00_111.wav 0\n",
            "/gdrive/MyDrive/tmp/audio/A/00_123.wav 0\n",
            "/gdrive/MyDrive/tmp/audio/A/00_164.wav 0\n",
            "/gdrive/MyDrive/tmp/audio/A/00_129.wav 0\n",
            "/gdrive/MyDrive/tmp/audio/A/00_157.wav 0\n",
            "/gdrive/MyDrive/tmp/audio/A/00_146.wav 0\n",
            "/gdrive/MyDrive/tmp/audio/A/00_173.wav 0\n",
            "/gdrive/MyDrive/tmp/audio/A/00_179.wav 0\n",
            "/gdrive/MyDrive/tmp/audio/A/00_122.wav 0\n",
            "/gdrive/MyDrive/tmp/audio/A/00_137.wav 0\n",
            "/gdrive/MyDrive/tmp/audio/A/00_161.wav 0\n",
            "/gdrive/MyDrive/tmp/audio/A/00_143.wav 0\n",
            "/gdrive/MyDrive/tmp/audio/A/00_148.wav 0\n",
            "/gdrive/MyDrive/tmp/audio/A/00_168.wav 0\n",
            "/gdrive/MyDrive/tmp/audio/A/00_156.wav 0\n",
            "/gdrive/MyDrive/tmp/audio/A/00_142.wav 0\n",
            "/gdrive/MyDrive/tmp/audio/A/00_145.wav 0\n",
            "/gdrive/MyDrive/tmp/audio/A/00_163.wav 0\n",
            "/gdrive/MyDrive/tmp/audio/A/00_120.wav 0\n",
            "/gdrive/MyDrive/tmp/audio/A/00_151.wav 0\n",
            "/gdrive/MyDrive/tmp/audio/A/00_133.wav 0\n",
            "/gdrive/MyDrive/tmp/audio/A/00_167.wav 0\n",
            "/gdrive/MyDrive/tmp/audio/A/00_147.wav 0\n",
            "/gdrive/MyDrive/tmp/audio/A/00_162.wav 0\n",
            "/gdrive/MyDrive/tmp/audio/A/00_150.wav 0\n",
            "/gdrive/MyDrive/tmp/audio/A/00_159.wav 0\n",
            "/gdrive/MyDrive/tmp/audio/A/00_139.wav 0\n",
            "/gdrive/MyDrive/tmp/audio/A/00_160.wav 0\n",
            "/gdrive/MyDrive/tmp/audio/A/00_132.wav 0\n",
            "/gdrive/MyDrive/tmp/audio/A/00_154.wav 0\n",
            "/gdrive/MyDrive/tmp/audio/A/00_194.wav 0\n",
            "/gdrive/MyDrive/tmp/audio/A/00_181.wav 0\n",
            "/gdrive/MyDrive/tmp/audio/A/00_209.wav 0\n",
            "/gdrive/MyDrive/tmp/audio/A/00_174.wav 0\n",
            "/gdrive/MyDrive/tmp/audio/A/00_215.wav 0\n",
            "/gdrive/MyDrive/tmp/audio/A/00_185.wav 0\n",
            "/gdrive/MyDrive/tmp/audio/A/00_186.wav 0\n",
            "/gdrive/MyDrive/tmp/audio/A/00_170.wav 0\n",
            "/gdrive/MyDrive/tmp/audio/A/00_171.wav 0\n",
            "/gdrive/MyDrive/tmp/audio/A/00_187.wav 0\n",
            "/gdrive/MyDrive/tmp/audio/A/00_172.wav 0\n",
            "/gdrive/MyDrive/tmp/audio/A/00_188.wav 0\n",
            "/gdrive/MyDrive/tmp/audio/A/00_193.wav 0\n",
            "/gdrive/MyDrive/tmp/audio/A/00_197.wav 0\n",
            "/gdrive/MyDrive/tmp/audio/A/00_177.wav 0\n",
            "/gdrive/MyDrive/tmp/audio/A/00_165.wav 0\n",
            "/gdrive/MyDrive/tmp/audio/A/00_166.wav 0\n",
            "/gdrive/MyDrive/tmp/audio/A/00_180.wav 0\n",
            "/gdrive/MyDrive/tmp/audio/A/00_191.wav 0\n",
            "/gdrive/MyDrive/tmp/audio/A/00_210.wav 0\n",
            "/gdrive/MyDrive/tmp/audio/A/00_195.wav 0\n",
            "/gdrive/MyDrive/tmp/audio/A/00_183.wav 0\n",
            "/gdrive/MyDrive/tmp/audio/A/00_175.wav 0\n",
            "/gdrive/MyDrive/tmp/audio/A/00_189.wav 0\n",
            "/gdrive/MyDrive/tmp/audio/A/00_176.wav 0\n",
            "/gdrive/MyDrive/tmp/audio/A/00_125.wav 0\n",
            "/gdrive/MyDrive/tmp/audio/A/00_213.wav 0\n",
            "/gdrive/MyDrive/tmp/audio/A/00_184.wav 0\n",
            "/gdrive/MyDrive/tmp/audio/A/00_199.wav 0\n",
            "/gdrive/MyDrive/tmp/audio/A/00_234.wav 0\n",
            "/gdrive/MyDrive/tmp/audio/A/00_198.wav 0\n",
            "/gdrive/MyDrive/tmp/audio/A/00_231.wav 0\n",
            "/gdrive/MyDrive/tmp/audio/A/00_211.wav 0\n",
            "/gdrive/MyDrive/tmp/audio/A/00_221.wav 0\n",
            "/gdrive/MyDrive/tmp/audio/A/00_201.wav 0\n",
            "/gdrive/MyDrive/tmp/audio/A/00_223.wav 0\n",
            "/gdrive/MyDrive/tmp/audio/A/00_229.wav 0\n",
            "/gdrive/MyDrive/tmp/audio/A/00_192.wav 0\n",
            "/gdrive/MyDrive/tmp/audio/A/00_214.wav 0\n",
            "/gdrive/MyDrive/tmp/audio/A/00_196.wav 0\n",
            "/gdrive/MyDrive/tmp/audio/A/00_182.wav 0\n",
            "/gdrive/MyDrive/tmp/audio/A/00_219.wav 0\n",
            "/gdrive/MyDrive/tmp/audio/A/00_218.wav 0\n",
            "/gdrive/MyDrive/tmp/audio/A/00_190.wav 0\n",
            "/gdrive/MyDrive/tmp/audio/A/00_204.wav 0\n",
            "/gdrive/MyDrive/tmp/audio/A/00_207.wav 0\n",
            "/gdrive/MyDrive/tmp/audio/A/00_216.wav 0\n",
            "/gdrive/MyDrive/tmp/audio/A/00_206.wav 0\n",
            "/gdrive/MyDrive/tmp/audio/A/00_202.wav 0\n",
            "/gdrive/MyDrive/tmp/audio/A/00_208.wav 0\n",
            "/gdrive/MyDrive/tmp/audio/A/00_212.wav 0\n",
            "/gdrive/MyDrive/tmp/audio/A/00_217.wav 0\n",
            "/gdrive/MyDrive/tmp/audio/A/00_232.wav 0\n",
            "/gdrive/MyDrive/tmp/audio/A/00_205.wav 0\n",
            "/gdrive/MyDrive/tmp/audio/A/00_203.wav 0\n",
            "/gdrive/MyDrive/tmp/audio/A/00_200.wav 0\n",
            "/gdrive/MyDrive/tmp/audio/A/00_241.wav 0\n",
            "/gdrive/MyDrive/tmp/audio/A/00_237.wav 0\n",
            "/gdrive/MyDrive/tmp/audio/A/00_242.wav 0\n",
            "/gdrive/MyDrive/tmp/audio/A/00_220.wav 0\n",
            "/gdrive/MyDrive/tmp/audio/A/00_228.wav 0\n",
            "/gdrive/MyDrive/tmp/audio/A/00_244.wav 0\n",
            "/gdrive/MyDrive/tmp/audio/A/00_240.wav 0\n",
            "/gdrive/MyDrive/tmp/audio/A/00_254.wav 0\n",
            "/gdrive/MyDrive/tmp/audio/A/00_253.wav 0\n",
            "/gdrive/MyDrive/tmp/audio/A/00_265.wav 0\n",
            "/gdrive/MyDrive/tmp/audio/A/00_246.wav 0\n",
            "/gdrive/MyDrive/tmp/audio/A/00_251.wav 0\n",
            "/gdrive/MyDrive/tmp/audio/A/00_239.wav 0\n",
            "/gdrive/MyDrive/tmp/audio/A/00_267.wav 0\n",
            "/gdrive/MyDrive/tmp/audio/A/00_252.wav 0\n",
            "/gdrive/MyDrive/tmp/audio/A/00_233.wav 0\n",
            "/gdrive/MyDrive/tmp/audio/A/00_236.wav 0\n",
            "/gdrive/MyDrive/tmp/audio/A/00_224.wav 0\n",
            "/gdrive/MyDrive/tmp/audio/A/00_230.wav 0\n",
            "/gdrive/MyDrive/tmp/audio/A/00_238.wav 0\n",
            "/gdrive/MyDrive/tmp/audio/A/00_227.wav 0\n",
            "/gdrive/MyDrive/tmp/audio/A/00_226.wav 0\n",
            "/gdrive/MyDrive/tmp/audio/A/00_243.wav 0\n",
            "/gdrive/MyDrive/tmp/audio/A/00_247.wav 0\n",
            "/gdrive/MyDrive/tmp/audio/A/00_222.wav 0\n",
            "/gdrive/MyDrive/tmp/audio/A/00_257.wav 0\n",
            "/gdrive/MyDrive/tmp/audio/A/00_249.wav 0\n",
            "/gdrive/MyDrive/tmp/audio/A/00_235.wav 0\n",
            "/gdrive/MyDrive/tmp/audio/A/00_225.wav 0\n",
            "/gdrive/MyDrive/tmp/audio/A/00_263.wav 0\n",
            "/gdrive/MyDrive/tmp/audio/A/00_279.wav 0\n",
            "/gdrive/MyDrive/tmp/audio/A/00_274.wav 0\n",
            "/gdrive/MyDrive/tmp/audio/A/00_248.wav 0\n",
            "/gdrive/MyDrive/tmp/audio/A/00_299.wav 0\n",
            "/gdrive/MyDrive/tmp/audio/A/00_304.wav 0\n",
            "/gdrive/MyDrive/tmp/audio/A/00_262.wav 0\n",
            "/gdrive/MyDrive/tmp/audio/A/00_280.wav 0\n",
            "/gdrive/MyDrive/tmp/audio/A/00_282.wav 0\n",
            "/gdrive/MyDrive/tmp/audio/A/00_256.wav 0\n",
            "/gdrive/MyDrive/tmp/audio/A/00_099.wav 0\n",
            "/gdrive/MyDrive/tmp/audio/A/00_298.wav 0\n",
            "/gdrive/MyDrive/tmp/audio/A/00_264.wav 0\n",
            "/gdrive/MyDrive/tmp/audio/A/00_261.wav 0\n",
            "/gdrive/MyDrive/tmp/audio/A/00_270.wav 0\n",
            "/gdrive/MyDrive/tmp/audio/A/00_260.wav 0\n",
            "/gdrive/MyDrive/tmp/audio/A/00_269.wav 0\n",
            "/gdrive/MyDrive/tmp/audio/A/00_286.wav 0\n",
            "/gdrive/MyDrive/tmp/audio/A/00_281.wav 0\n",
            "/gdrive/MyDrive/tmp/audio/A/00_275.wav 0\n",
            "/gdrive/MyDrive/tmp/audio/A/00_259.wav 0\n",
            "/gdrive/MyDrive/tmp/audio/A/00_278.wav 0\n",
            "/gdrive/MyDrive/tmp/audio/A/00_266.wav 0\n",
            "/gdrive/MyDrive/tmp/audio/A/00_255.wav 0\n",
            "/gdrive/MyDrive/tmp/audio/A/00_300.wav 0\n",
            "/gdrive/MyDrive/tmp/audio/A/00_250.wav 0\n",
            "/gdrive/MyDrive/tmp/audio/A/00_268.wav 0\n",
            "/gdrive/MyDrive/tmp/audio/A/00_258.wav 0\n",
            "/gdrive/MyDrive/tmp/audio/A/00_296.wav 0\n",
            "/gdrive/MyDrive/tmp/audio/A/00_305.wav 0\n",
            "/gdrive/MyDrive/tmp/audio/A/00_288.wav 0\n",
            "/gdrive/MyDrive/tmp/audio/A/00_306.wav 0\n",
            "/gdrive/MyDrive/tmp/audio/A/00_272.wav 0\n",
            "/gdrive/MyDrive/tmp/audio/A/00_289.wav 0\n",
            "/gdrive/MyDrive/tmp/audio/A/00_169.wav 0\n",
            "/gdrive/MyDrive/tmp/audio/A/00_328.wav 0\n",
            "/gdrive/MyDrive/tmp/audio/A/00_316.wav 0\n",
            "/gdrive/MyDrive/tmp/audio/A/00_283.wav 0\n",
            "/gdrive/MyDrive/tmp/audio/A/00_271.wav 0\n",
            "/gdrive/MyDrive/tmp/audio/A/00_284.wav 0\n",
            "/gdrive/MyDrive/tmp/audio/A/00_297.wav 0\n",
            "/gdrive/MyDrive/tmp/audio/A/00_318.wav 0\n",
            "/gdrive/MyDrive/tmp/audio/A/00_285.wav 0\n",
            "/gdrive/MyDrive/tmp/audio/A/00_301.wav 0\n",
            "/gdrive/MyDrive/tmp/audio/A/00_290.wav 0\n",
            "/gdrive/MyDrive/tmp/audio/A/00_292.wav 0\n",
            "/gdrive/MyDrive/tmp/audio/A/00_294.wav 0\n",
            "/gdrive/MyDrive/tmp/audio/A/00_276.wav 0\n",
            "/gdrive/MyDrive/tmp/audio/A/00_307.wav 0\n",
            "/gdrive/MyDrive/tmp/audio/A/00_320.wav 0\n",
            "/gdrive/MyDrive/tmp/audio/A/00_277.wav 0\n",
            "/gdrive/MyDrive/tmp/audio/A/00_293.wav 0\n",
            "/gdrive/MyDrive/tmp/audio/A/00_302.wav 0\n",
            "/gdrive/MyDrive/tmp/audio/A/00_309.wav 0\n",
            "/gdrive/MyDrive/tmp/audio/A/00_303.wav 0\n",
            "/gdrive/MyDrive/tmp/audio/A/00_287.wav 0\n",
            "/gdrive/MyDrive/tmp/audio/A/00_273.wav 0\n",
            "/gdrive/MyDrive/tmp/audio/A/00_356.wav 0\n",
            "/gdrive/MyDrive/tmp/audio/A/00_341.wav 0\n",
            "/gdrive/MyDrive/tmp/audio/A/00_312.wav 0\n",
            "/gdrive/MyDrive/tmp/audio/A/00_319.wav 0\n",
            "/gdrive/MyDrive/tmp/audio/A/00_348.wav 0\n",
            "/gdrive/MyDrive/tmp/audio/A/00_322.wav 0\n",
            "/gdrive/MyDrive/tmp/audio/A/00_325.wav 0\n",
            "/gdrive/MyDrive/tmp/audio/A/00_345.wav 0\n",
            "/gdrive/MyDrive/tmp/audio/A/00_355.wav 0\n",
            "/gdrive/MyDrive/tmp/audio/A/00_317.wav 0\n",
            "/gdrive/MyDrive/tmp/audio/A/00_321.wav 0\n",
            "/gdrive/MyDrive/tmp/audio/A/00_353.wav 0\n",
            "/gdrive/MyDrive/tmp/audio/A/00_311.wav 0\n",
            "/gdrive/MyDrive/tmp/audio/A/00_349.wav 0\n",
            "/gdrive/MyDrive/tmp/audio/A/00_342.wav 0\n",
            "/gdrive/MyDrive/tmp/audio/A/00_314.wav 0\n",
            "/gdrive/MyDrive/tmp/audio/A/00_313.wav 0\n",
            "/gdrive/MyDrive/tmp/audio/A/00_350.wav 0\n",
            "/gdrive/MyDrive/tmp/audio/A/00_310.wav 0\n",
            "/gdrive/MyDrive/tmp/audio/A/00_344.wav 0\n",
            "/gdrive/MyDrive/tmp/audio/A/00_340.wav 0\n",
            "/gdrive/MyDrive/tmp/audio/A/00_308.wav 0\n",
            "/gdrive/MyDrive/tmp/audio/A/00_295.wav 0\n",
            "/gdrive/MyDrive/tmp/audio/A/00_315.wav 0\n",
            "/gdrive/MyDrive/tmp/audio/A/00_327.wav 0\n",
            "/gdrive/MyDrive/tmp/audio/A/00_339.wav 0\n",
            "/gdrive/MyDrive/tmp/audio/A/00_358.wav 0\n",
            "/gdrive/MyDrive/tmp/audio/A/00_326.wav 0\n",
            "/gdrive/MyDrive/tmp/audio/A/00_382.wav 0\n",
            "/gdrive/MyDrive/tmp/audio/A/00_324.wav 0\n",
            "/gdrive/MyDrive/tmp/audio/A/00_335.wav 0\n",
            "/gdrive/MyDrive/tmp/audio/A/00_366.wav 0\n",
            "/gdrive/MyDrive/tmp/audio/A/00_347.wav 0\n",
            "/gdrive/MyDrive/tmp/audio/A/00_323.wav 0\n",
            "/gdrive/MyDrive/tmp/audio/A/00_380.wav 0\n",
            "/gdrive/MyDrive/tmp/audio/A/00_329.wav 0\n",
            "/gdrive/MyDrive/tmp/audio/A/00_331.wav 0\n",
            "/gdrive/MyDrive/tmp/audio/A/00_178.wav 0\n",
            "/gdrive/MyDrive/tmp/audio/A/00_364.wav 0\n",
            "/gdrive/MyDrive/tmp/audio/A/00_386.wav 0\n",
            "/gdrive/MyDrive/tmp/audio/A/00_343.wav 0\n",
            "/gdrive/MyDrive/tmp/audio/A/00_362.wav 0\n",
            "/gdrive/MyDrive/tmp/audio/A/00_333.wav 0\n",
            "/gdrive/MyDrive/tmp/audio/A/00_337.wav 0\n",
            "/gdrive/MyDrive/tmp/audio/A/00_368.wav 0\n",
            "/gdrive/MyDrive/tmp/audio/A/00_336.wav 0\n",
            "/gdrive/MyDrive/tmp/audio/A/00_354.wav 0\n",
            "/gdrive/MyDrive/tmp/audio/A/00_385.wav 0\n",
            "/gdrive/MyDrive/tmp/audio/A/00_388.wav 0\n",
            "/gdrive/MyDrive/tmp/audio/A/00_351.wav 0\n",
            "/gdrive/MyDrive/tmp/audio/A/00_359.wav 0\n",
            "/gdrive/MyDrive/tmp/audio/A/00_338.wav 0\n",
            "/gdrive/MyDrive/tmp/audio/A/00_334.wav 0\n",
            "/gdrive/MyDrive/tmp/audio/A/00_330.wav 0\n",
            "/gdrive/MyDrive/tmp/audio/A/00_346.wav 0\n",
            "/gdrive/MyDrive/tmp/audio/A/00_375.wav 0\n",
            "/gdrive/MyDrive/tmp/audio/A/00_363.wav 0\n",
            "/gdrive/MyDrive/tmp/audio/A/00_390.wav 0\n",
            "/gdrive/MyDrive/tmp/audio/A/00_372.wav 0\n",
            "/gdrive/MyDrive/tmp/audio/A/00_245.wav 0\n",
            "/gdrive/MyDrive/tmp/audio/A/00_383.wav 0\n",
            "/gdrive/MyDrive/tmp/audio/A/00_395.wav 0\n",
            "/gdrive/MyDrive/tmp/audio/A/00_381.wav 0\n",
            "/gdrive/MyDrive/tmp/audio/A/00_371.wav 0\n",
            "/gdrive/MyDrive/tmp/audio/A/00_389.wav 0\n",
            "/gdrive/MyDrive/tmp/audio/A/00_361.wav 0\n",
            "/gdrive/MyDrive/tmp/audio/A/00_394.wav 0\n",
            "/gdrive/MyDrive/tmp/audio/A/00_365.wav 0\n",
            "/gdrive/MyDrive/tmp/audio/A/00_392.wav 0\n",
            "/gdrive/MyDrive/tmp/audio/A/00_374.wav 0\n",
            "/gdrive/MyDrive/tmp/audio/A/00_397.wav 0\n",
            "/gdrive/MyDrive/tmp/audio/A/00_384.wav 0\n",
            "/gdrive/MyDrive/tmp/audio/A/00_357.wav 0\n",
            "/gdrive/MyDrive/tmp/audio/A/00_369.wav 0\n",
            "/gdrive/MyDrive/tmp/audio/A/00_373.wav 0\n",
            "/gdrive/MyDrive/tmp/audio/A/00_396.wav 0\n",
            "/gdrive/MyDrive/tmp/audio/A/00_370.wav 0\n",
            "/gdrive/MyDrive/tmp/audio/A/00_391.wav 0\n",
            "/gdrive/MyDrive/tmp/audio/A/00_393.wav 0\n",
            "/gdrive/MyDrive/tmp/audio/A/00_291.wav 0\n",
            "/gdrive/MyDrive/tmp/audio/A/00_379.wav 0\n",
            "/gdrive/MyDrive/tmp/audio/A/00_378.wav 0\n",
            "/gdrive/MyDrive/tmp/audio/A/00_376.wav 0\n",
            "/gdrive/MyDrive/tmp/audio/A/00_398.wav 0\n",
            "/gdrive/MyDrive/tmp/audio/A/00_360.wav 0\n",
            "/gdrive/MyDrive/tmp/audio/A/00_352.wav 0\n",
            "/gdrive/MyDrive/tmp/audio/A/00_332.wav 0\n",
            "/gdrive/MyDrive/tmp/audio/A/00_387.wav 0\n",
            "/gdrive/MyDrive/tmp/audio/A/00_377.wav 0\n",
            "/gdrive/MyDrive/tmp/audio/A/00_367.wav 0\n",
            "/gdrive/MyDrive/tmp/audio/A/01_015.wav 1\n",
            "/gdrive/MyDrive/tmp/audio/A/01_320.wav 1\n",
            "/gdrive/MyDrive/tmp/audio/A/01_146.wav 1\n",
            "/gdrive/MyDrive/tmp/audio/A/01_151.wav 1\n",
            "/gdrive/MyDrive/tmp/audio/A/01_148.wav 1\n",
            "/gdrive/MyDrive/tmp/audio/A/01_016.wav 1\n",
            "/gdrive/MyDrive/tmp/audio/A/01_131.wav 1\n",
            "/gdrive/MyDrive/tmp/audio/A/01_325.wav 1\n",
            "/gdrive/MyDrive/tmp/audio/A/01_138.wav 1\n",
            "/gdrive/MyDrive/tmp/audio/A/01_014.wav 1\n",
            "/gdrive/MyDrive/tmp/audio/A/01_013.wav 1\n",
            "/gdrive/MyDrive/tmp/audio/A/01_010.wav 1\n",
            "/gdrive/MyDrive/tmp/audio/A/01_326.wav 1\n",
            "/gdrive/MyDrive/tmp/audio/A/01_157.wav 1\n",
            "/gdrive/MyDrive/tmp/audio/A/01_009.wav 1\n",
            "/gdrive/MyDrive/tmp/audio/A/01_323.wav 1\n",
            "/gdrive/MyDrive/tmp/audio/A/01_149.wav 1\n",
            "/gdrive/MyDrive/tmp/audio/A/01_017.wav 1\n",
            "/gdrive/MyDrive/tmp/audio/A/01_322.wav 1\n",
            "/gdrive/MyDrive/tmp/audio/A/01_139.wav 1\n",
            "/gdrive/MyDrive/tmp/audio/A/01_147.wav 1\n",
            "/gdrive/MyDrive/tmp/audio/A/01_145.wav 1\n",
            "/gdrive/MyDrive/tmp/audio/A/01_319.wav 1\n",
            "/gdrive/MyDrive/tmp/audio/A/01_144.wav 1\n",
            "/gdrive/MyDrive/tmp/audio/A/01_156.wav 1\n",
            "/gdrive/MyDrive/tmp/audio/A/01_140.wav 1\n",
            "/gdrive/MyDrive/tmp/audio/A/01_321.wav 1\n",
            "/gdrive/MyDrive/tmp/audio/A/01_134.wav 1\n",
            "/gdrive/MyDrive/tmp/audio/A/01_154.wav 1\n",
            "/gdrive/MyDrive/tmp/audio/A/01_142.wav 1\n",
            "/gdrive/MyDrive/tmp/audio/A/01_327.wav 1\n",
            "/gdrive/MyDrive/tmp/audio/A/01_012.wav 1\n",
            "/gdrive/MyDrive/tmp/audio/A/01_118.wav 1\n",
            "/gdrive/MyDrive/tmp/audio/A/01_153.wav 1\n",
            "/gdrive/MyDrive/tmp/audio/A/01_324.wav 1\n",
            "/gdrive/MyDrive/tmp/audio/A/01_141.wav 1\n",
            "/gdrive/MyDrive/tmp/audio/A/01_143.wav 1\n",
            "/gdrive/MyDrive/tmp/audio/A/01_155.wav 1\n",
            "/gdrive/MyDrive/tmp/audio/A/01_318.wav 1\n",
            "/gdrive/MyDrive/tmp/audio/A/01_136.wav 1\n",
            "/gdrive/MyDrive/tmp/audio/A/01_150.wav 1\n",
            "/gdrive/MyDrive/tmp/audio/A/01_128.wav 1\n",
            "/gdrive/MyDrive/tmp/audio/A/01_152.wav 1\n",
            "/gdrive/MyDrive/tmp/audio/A/01_098.wav 1\n",
            "/gdrive/MyDrive/tmp/audio/A/01_124.wav 1\n",
            "/gdrive/MyDrive/tmp/audio/A/01_129.wav 1\n",
            "/gdrive/MyDrive/tmp/audio/A/01_135.wav 1\n",
            "/gdrive/MyDrive/tmp/audio/A/01_117.wav 1\n",
            "/gdrive/MyDrive/tmp/audio/A/01_114.wav 1\n",
            "/gdrive/MyDrive/tmp/audio/A/01_109.wav 1\n",
            "/gdrive/MyDrive/tmp/audio/A/01_119.wav 1\n",
            "/gdrive/MyDrive/tmp/audio/A/01_137.wav 1\n",
            "/gdrive/MyDrive/tmp/audio/A/01_125.wav 1\n",
            "/gdrive/MyDrive/tmp/audio/A/01_099.wav 1\n",
            "/gdrive/MyDrive/tmp/audio/A/01_123.wav 1\n",
            "/gdrive/MyDrive/tmp/audio/A/01_130.wav 1\n",
            "/gdrive/MyDrive/tmp/audio/A/01_011.wav 1\n",
            "/gdrive/MyDrive/tmp/audio/A/01_133.wav 1\n",
            "/gdrive/MyDrive/tmp/audio/A/01_112.wav 1\n",
            "/gdrive/MyDrive/tmp/audio/A/01_121.wav 1\n",
            "/gdrive/MyDrive/tmp/audio/A/01_308.wav 1\n",
            "/gdrive/MyDrive/tmp/audio/A/01_113.wav 1\n",
            "/gdrive/MyDrive/tmp/audio/A/01_111.wav 1\n",
            "/gdrive/MyDrive/tmp/audio/A/01_132.wav 1\n",
            "/gdrive/MyDrive/tmp/audio/A/01_107.wav 1\n",
            "/gdrive/MyDrive/tmp/audio/A/01_122.wav 1\n",
            "/gdrive/MyDrive/tmp/audio/A/01_127.wav 1\n",
            "/gdrive/MyDrive/tmp/audio/A/01_120.wav 1\n",
            "/gdrive/MyDrive/tmp/audio/A/01_126.wav 1\n",
            "/gdrive/MyDrive/tmp/audio/A/01_110.wav 1\n",
            "/gdrive/MyDrive/tmp/audio/A/01_301.wav 1\n",
            "/gdrive/MyDrive/tmp/audio/A/01_103.wav 1\n",
            "/gdrive/MyDrive/tmp/audio/A/01_290.wav 1\n",
            "/gdrive/MyDrive/tmp/audio/A/01_100.wav 1\n",
            "/gdrive/MyDrive/tmp/audio/A/01_306.wav 1\n",
            "/gdrive/MyDrive/tmp/audio/A/01_280.wav 1\n",
            "/gdrive/MyDrive/tmp/audio/A/01_297.wav 1\n",
            "/gdrive/MyDrive/tmp/audio/A/01_102.wav 1\n",
            "/gdrive/MyDrive/tmp/audio/A/01_101.wav 1\n",
            "/gdrive/MyDrive/tmp/audio/A/01_108.wav 1\n",
            "/gdrive/MyDrive/tmp/audio/A/01_281.wav 1\n",
            "/gdrive/MyDrive/tmp/audio/A/01_317.wav 1\n",
            "/gdrive/MyDrive/tmp/audio/A/01_303.wav 1\n",
            "/gdrive/MyDrive/tmp/audio/A/01_309.wav 1\n",
            "/gdrive/MyDrive/tmp/audio/A/01_307.wav 1\n",
            "/gdrive/MyDrive/tmp/audio/A/01_314.wav 1\n",
            "/gdrive/MyDrive/tmp/audio/A/01_104.wav 1\n",
            "/gdrive/MyDrive/tmp/audio/A/01_300.wav 1\n",
            "/gdrive/MyDrive/tmp/audio/A/01_115.wav 1\n",
            "/gdrive/MyDrive/tmp/audio/A/01_106.wav 1\n",
            "/gdrive/MyDrive/tmp/audio/A/01_302.wav 1\n",
            "/gdrive/MyDrive/tmp/audio/A/01_316.wav 1\n",
            "/gdrive/MyDrive/tmp/audio/A/01_291.wav 1\n",
            "/gdrive/MyDrive/tmp/audio/A/01_310.wav 1\n",
            "/gdrive/MyDrive/tmp/audio/A/01_311.wav 1\n",
            "/gdrive/MyDrive/tmp/audio/A/01_105.wav 1\n",
            "/gdrive/MyDrive/tmp/audio/A/01_313.wav 1\n",
            "/gdrive/MyDrive/tmp/audio/A/01_315.wav 1\n",
            "/gdrive/MyDrive/tmp/audio/A/01_116.wav 1\n",
            "/gdrive/MyDrive/tmp/audio/A/01_288.wav 1\n",
            "/gdrive/MyDrive/tmp/audio/A/01_276.wav 1\n",
            "/gdrive/MyDrive/tmp/audio/A/01_298.wav 1\n",
            "/gdrive/MyDrive/tmp/audio/A/01_096.wav 1\n",
            "/gdrive/MyDrive/tmp/audio/A/01_293.wav 1\n",
            "/gdrive/MyDrive/tmp/audio/A/01_285.wav 1\n",
            "/gdrive/MyDrive/tmp/audio/A/01_299.wav 1\n",
            "/gdrive/MyDrive/tmp/audio/A/01_296.wav 1\n",
            "/gdrive/MyDrive/tmp/audio/A/01_279.wav 1\n",
            "/gdrive/MyDrive/tmp/audio/A/01_294.wav 1\n",
            "/gdrive/MyDrive/tmp/audio/A/01_292.wav 1\n",
            "/gdrive/MyDrive/tmp/audio/A/01_092.wav 1\n",
            "/gdrive/MyDrive/tmp/audio/A/01_282.wav 1\n",
            "/gdrive/MyDrive/tmp/audio/A/01_278.wav 1\n",
            "/gdrive/MyDrive/tmp/audio/A/01_312.wav 1\n",
            "/gdrive/MyDrive/tmp/audio/A/01_284.wav 1\n",
            "/gdrive/MyDrive/tmp/audio/A/01_095.wav 1\n",
            "/gdrive/MyDrive/tmp/audio/A/01_286.wav 1\n",
            "/gdrive/MyDrive/tmp/audio/A/01_295.wav 1\n",
            "/gdrive/MyDrive/tmp/audio/A/01_045.wav 1\n",
            "/gdrive/MyDrive/tmp/audio/A/01_097.wav 1\n",
            "/gdrive/MyDrive/tmp/audio/A/01_269.wav 1\n",
            "/gdrive/MyDrive/tmp/audio/A/01_305.wav 1\n",
            "/gdrive/MyDrive/tmp/audio/A/01_304.wav 1\n",
            "/gdrive/MyDrive/tmp/audio/A/01_287.wav 1\n",
            "/gdrive/MyDrive/tmp/audio/A/01_272.wav 1\n",
            "/gdrive/MyDrive/tmp/audio/A/01_089.wav 1\n",
            "/gdrive/MyDrive/tmp/audio/A/01_270.wav 1\n",
            "/gdrive/MyDrive/tmp/audio/A/01_268.wav 1\n",
            "/gdrive/MyDrive/tmp/audio/A/01_289.wav 1\n",
            "/gdrive/MyDrive/tmp/audio/A/01_273.wav 1\n",
            "/gdrive/MyDrive/tmp/audio/A/01_047.wav 1\n",
            "/gdrive/MyDrive/tmp/audio/A/01_344.wav 1\n",
            "/gdrive/MyDrive/tmp/audio/A/01_088.wav 1\n",
            "/gdrive/MyDrive/tmp/audio/A/01_345.wav 1\n",
            "/gdrive/MyDrive/tmp/audio/A/01_090.wav 1\n",
            "/gdrive/MyDrive/tmp/audio/A/01_274.wav 1\n",
            "/gdrive/MyDrive/tmp/audio/A/01_252.wav 1\n",
            "/gdrive/MyDrive/tmp/audio/A/01_277.wav 1\n",
            "/gdrive/MyDrive/tmp/audio/A/01_248.wav 1\n",
            "/gdrive/MyDrive/tmp/audio/A/01_256.wav 1\n",
            "/gdrive/MyDrive/tmp/audio/A/01_094.wav 1\n",
            "/gdrive/MyDrive/tmp/audio/A/01_041.wav 1\n",
            "/gdrive/MyDrive/tmp/audio/A/01_093.wav 1\n",
            "/gdrive/MyDrive/tmp/audio/A/01_209.wav 1\n",
            "/gdrive/MyDrive/tmp/audio/A/01_208.wav 1\n",
            "/gdrive/MyDrive/tmp/audio/A/01_253.wav 1\n",
            "/gdrive/MyDrive/tmp/audio/A/01_271.wav 1\n",
            "/gdrive/MyDrive/tmp/audio/A/01_255.wav 1\n",
            "/gdrive/MyDrive/tmp/audio/A/01_251.wav 1\n",
            "/gdrive/MyDrive/tmp/audio/A/01_091.wav 1\n",
            "/gdrive/MyDrive/tmp/audio/A/01_038.wav 1\n",
            "/gdrive/MyDrive/tmp/audio/A/01_042.wav 1\n",
            "/gdrive/MyDrive/tmp/audio/A/01_215.wav 1\n",
            "/gdrive/MyDrive/tmp/audio/A/01_039.wav 1\n",
            "/gdrive/MyDrive/tmp/audio/A/01_250.wav 1\n",
            "/gdrive/MyDrive/tmp/audio/A/01_283.wav 1\n",
            "/gdrive/MyDrive/tmp/audio/A/01_275.wav 1\n",
            "/gdrive/MyDrive/tmp/audio/A/01_254.wav 1\n",
            "/gdrive/MyDrive/tmp/audio/A/01_200.wav 1\n",
            "/gdrive/MyDrive/tmp/audio/A/01_031.wav 1\n",
            "/gdrive/MyDrive/tmp/audio/A/01_032.wav 1\n",
            "/gdrive/MyDrive/tmp/audio/A/01_033.wav 1\n",
            "/gdrive/MyDrive/tmp/audio/A/01_028.wav 1\n",
            "/gdrive/MyDrive/tmp/audio/A/01_340.wav 1\n",
            "/gdrive/MyDrive/tmp/audio/A/01_346.wav 1\n",
            "/gdrive/MyDrive/tmp/audio/A/01_347.wav 1\n",
            "/gdrive/MyDrive/tmp/audio/A/01_035.wav 1\n",
            "/gdrive/MyDrive/tmp/audio/A/01_044.wav 1\n",
            "/gdrive/MyDrive/tmp/audio/A/01_030.wav 1\n",
            "/gdrive/MyDrive/tmp/audio/A/01_205.wav 1\n",
            "/gdrive/MyDrive/tmp/audio/A/01_043.wav 1\n",
            "/gdrive/MyDrive/tmp/audio/A/01_260.wav 1\n",
            "/gdrive/MyDrive/tmp/audio/A/01_211.wav 1\n",
            "/gdrive/MyDrive/tmp/audio/A/01_037.wav 1\n",
            "/gdrive/MyDrive/tmp/audio/A/01_203.wav 1\n",
            "/gdrive/MyDrive/tmp/audio/A/01_210.wav 1\n",
            "/gdrive/MyDrive/tmp/audio/A/01_338.wav 1\n",
            "/gdrive/MyDrive/tmp/audio/A/01_036.wav 1\n",
            "/gdrive/MyDrive/tmp/audio/A/01_257.wav 1\n",
            "/gdrive/MyDrive/tmp/audio/A/01_341.wav 1\n",
            "/gdrive/MyDrive/tmp/audio/A/01_267.wav 1\n",
            "/gdrive/MyDrive/tmp/audio/A/01_249.wav 1\n",
            "/gdrive/MyDrive/tmp/audio/A/01_217.wav 1\n",
            "/gdrive/MyDrive/tmp/audio/A/01_216.wav 1\n",
            "/gdrive/MyDrive/tmp/audio/A/01_343.wav 1\n",
            "/gdrive/MyDrive/tmp/audio/A/01_214.wav 1\n",
            "/gdrive/MyDrive/tmp/audio/A/01_040.wav 1\n",
            "/gdrive/MyDrive/tmp/audio/A/01_197.wav 1\n",
            "/gdrive/MyDrive/tmp/audio/A/01_339.wav 1\n",
            "/gdrive/MyDrive/tmp/audio/A/01_189.wav 1\n",
            "/gdrive/MyDrive/tmp/audio/A/01_207.wav 1\n",
            "/gdrive/MyDrive/tmp/audio/A/01_264.wav 1\n",
            "/gdrive/MyDrive/tmp/audio/A/01_259.wav 1\n",
            "/gdrive/MyDrive/tmp/audio/A/01_206.wav 1\n",
            "/gdrive/MyDrive/tmp/audio/A/01_265.wav 1\n",
            "/gdrive/MyDrive/tmp/audio/A/01_034.wav 1\n",
            "/gdrive/MyDrive/tmp/audio/A/01_342.wav 1\n",
            "/gdrive/MyDrive/tmp/audio/A/01_191.wav 1\n",
            "/gdrive/MyDrive/tmp/audio/A/01_204.wav 1\n",
            "/gdrive/MyDrive/tmp/audio/A/01_213.wav 1\n",
            "/gdrive/MyDrive/tmp/audio/A/01_192.wav 1\n",
            "/gdrive/MyDrive/tmp/audio/A/01_212.wav 1\n",
            "/gdrive/MyDrive/tmp/audio/A/01_196.wav 1\n",
            "/gdrive/MyDrive/tmp/audio/A/01_199.wav 1\n",
            "/gdrive/MyDrive/tmp/audio/A/01_184.wav 1\n",
            "/gdrive/MyDrive/tmp/audio/A/01_198.wav 1\n",
            "/gdrive/MyDrive/tmp/audio/A/01_266.wav 1\n",
            "/gdrive/MyDrive/tmp/audio/A/01_194.wav 1\n",
            "/gdrive/MyDrive/tmp/audio/A/01_202.wav 1\n",
            "/gdrive/MyDrive/tmp/audio/A/01_188.wav 1\n",
            "/gdrive/MyDrive/tmp/audio/A/01_263.wav 1\n",
            "/gdrive/MyDrive/tmp/audio/A/01_242.wav 1\n",
            "/gdrive/MyDrive/tmp/audio/A/01_201.wav 1\n",
            "/gdrive/MyDrive/tmp/audio/A/01_261.wav 1\n",
            "/gdrive/MyDrive/tmp/audio/A/01_258.wav 1\n",
            "/gdrive/MyDrive/tmp/audio/A/01_190.wav 1\n",
            "/gdrive/MyDrive/tmp/audio/A/01_240.wav 1\n",
            "/gdrive/MyDrive/tmp/audio/A/01_235.wav 1\n",
            "/gdrive/MyDrive/tmp/audio/A/01_179.wav 1\n",
            "/gdrive/MyDrive/tmp/audio/A/01_182.wav 1\n",
            "/gdrive/MyDrive/tmp/audio/A/01_234.wav 1\n",
            "/gdrive/MyDrive/tmp/audio/A/01_238.wav 1\n",
            "/gdrive/MyDrive/tmp/audio/A/01_241.wav 1\n",
            "/gdrive/MyDrive/tmp/audio/A/01_170.wav 1\n",
            "/gdrive/MyDrive/tmp/audio/A/01_230.wav 1\n",
            "/gdrive/MyDrive/tmp/audio/A/01_180.wav 1\n",
            "/gdrive/MyDrive/tmp/audio/A/01_195.wav 1\n",
            "/gdrive/MyDrive/tmp/audio/A/01_029.wav 1\n",
            "/gdrive/MyDrive/tmp/audio/A/01_239.wav 1\n",
            "/gdrive/MyDrive/tmp/audio/A/01_243.wav 1\n",
            "/gdrive/MyDrive/tmp/audio/A/01_233.wav 1\n",
            "/gdrive/MyDrive/tmp/audio/A/01_183.wav 1\n",
            "/gdrive/MyDrive/tmp/audio/A/01_178.wav 1\n",
            "/gdrive/MyDrive/tmp/audio/A/01_172.wav 1\n",
            "/gdrive/MyDrive/tmp/audio/A/01_181.wav 1\n",
            "/gdrive/MyDrive/tmp/audio/A/01_244.wav 1\n",
            "/gdrive/MyDrive/tmp/audio/A/01_193.wav 1\n",
            "/gdrive/MyDrive/tmp/audio/A/01_185.wav 1\n",
            "/gdrive/MyDrive/tmp/audio/A/01_175.wav 1\n",
            "/gdrive/MyDrive/tmp/audio/A/01_247.wav 1\n",
            "/gdrive/MyDrive/tmp/audio/A/01_186.wav 1\n",
            "/gdrive/MyDrive/tmp/audio/A/01_228.wav 1\n",
            "/gdrive/MyDrive/tmp/audio/A/01_187.wav 1\n",
            "/gdrive/MyDrive/tmp/audio/A/01_231.wav 1\n",
            "/gdrive/MyDrive/tmp/audio/A/01_221.wav 1\n",
            "/gdrive/MyDrive/tmp/audio/A/01_158.wav 1\n",
            "/gdrive/MyDrive/tmp/audio/A/01_226.wav 1\n",
            "/gdrive/MyDrive/tmp/audio/A/01_236.wav 1\n",
            "/gdrive/MyDrive/tmp/audio/A/01_222.wav 1\n",
            "/gdrive/MyDrive/tmp/audio/A/01_166.wav 1\n",
            "/gdrive/MyDrive/tmp/audio/A/01_246.wav 1\n",
            "/gdrive/MyDrive/tmp/audio/A/01_223.wav 1\n",
            "/gdrive/MyDrive/tmp/audio/A/01_174.wav 1\n",
            "/gdrive/MyDrive/tmp/audio/A/01_086.wav 1\n",
            "/gdrive/MyDrive/tmp/audio/A/01_168.wav 1\n",
            "/gdrive/MyDrive/tmp/audio/A/01_164.wav 1\n",
            "/gdrive/MyDrive/tmp/audio/A/01_160.wav 1\n",
            "/gdrive/MyDrive/tmp/audio/A/01_177.wav 1\n",
            "/gdrive/MyDrive/tmp/audio/A/01_229.wav 1\n",
            "/gdrive/MyDrive/tmp/audio/A/01_224.wav 1\n",
            "/gdrive/MyDrive/tmp/audio/A/01_225.wav 1\n",
            "/gdrive/MyDrive/tmp/audio/A/01_171.wav 1\n",
            "/gdrive/MyDrive/tmp/audio/A/01_169.wav 1\n",
            "/gdrive/MyDrive/tmp/audio/A/01_245.wav 1\n",
            "/gdrive/MyDrive/tmp/audio/A/01_162.wav 1\n",
            "/gdrive/MyDrive/tmp/audio/A/01_237.wav 1\n",
            "/gdrive/MyDrive/tmp/audio/A/01_173.wav 1\n",
            "/gdrive/MyDrive/tmp/audio/A/01_176.wav 1\n",
            "/gdrive/MyDrive/tmp/audio/A/01_163.wav 1\n",
            "/gdrive/MyDrive/tmp/audio/A/01_167.wav 1\n",
            "/gdrive/MyDrive/tmp/audio/A/01_220.wav 1\n",
            "/gdrive/MyDrive/tmp/audio/A/01_232.wav 1\n",
            "/gdrive/MyDrive/tmp/audio/A/01_165.wav 1\n",
            "/gdrive/MyDrive/tmp/audio/A/01_024.wav 1\n",
            "/gdrive/MyDrive/tmp/audio/A/01_159.wav 1\n",
            "/gdrive/MyDrive/tmp/audio/A/01_026.wav 1\n",
            "/gdrive/MyDrive/tmp/audio/A/01_161.wav 1\n",
            "/gdrive/MyDrive/tmp/audio/A/01_018.wav 1\n",
            "/gdrive/MyDrive/tmp/audio/A/01_020.wav 1\n",
            "/gdrive/MyDrive/tmp/audio/A/01_002.wav 1\n",
            "/gdrive/MyDrive/tmp/audio/A/01_000.wav 1\n",
            "/gdrive/MyDrive/tmp/audio/A/01_084.wav 1\n",
            "/gdrive/MyDrive/tmp/audio/A/01_081.wav 1\n",
            "/gdrive/MyDrive/tmp/audio/A/01_022.wav 1\n",
            "/gdrive/MyDrive/tmp/audio/A/01_008.wav 1\n",
            "/gdrive/MyDrive/tmp/audio/A/01_087.wav 1\n",
            "/gdrive/MyDrive/tmp/audio/A/01_227.wav 1\n",
            "/gdrive/MyDrive/tmp/audio/A/01_083.wav 1\n",
            "/gdrive/MyDrive/tmp/audio/A/01_021.wav 1\n",
            "/gdrive/MyDrive/tmp/audio/A/01_007.wav 1\n",
            "/gdrive/MyDrive/tmp/audio/A/01_078.wav 1\n",
            "/gdrive/MyDrive/tmp/audio/A/01_019.wav 1\n",
            "/gdrive/MyDrive/tmp/audio/A/01_218.wav 1\n",
            "/gdrive/MyDrive/tmp/audio/A/01_079.wav 1\n",
            "/gdrive/MyDrive/tmp/audio/A/01_001.wav 1\n",
            "/gdrive/MyDrive/tmp/audio/A/01_082.wav 1\n",
            "/gdrive/MyDrive/tmp/audio/A/01_003.wav 1\n",
            "/gdrive/MyDrive/tmp/audio/A/01_219.wav 1\n",
            "/gdrive/MyDrive/tmp/audio/A/01_355.wav 1\n",
            "/gdrive/MyDrive/tmp/audio/A/01_025.wav 1\n",
            "/gdrive/MyDrive/tmp/audio/A/01_027.wav 1\n",
            "/gdrive/MyDrive/tmp/audio/A/01_085.wav 1\n",
            "/gdrive/MyDrive/tmp/audio/A/01_005.wav 1\n",
            "/gdrive/MyDrive/tmp/audio/A/01_075.wav 1\n",
            "/gdrive/MyDrive/tmp/audio/A/01_077.wav 1\n",
            "/gdrive/MyDrive/tmp/audio/A/01_332.wav 1\n",
            "/gdrive/MyDrive/tmp/audio/A/01_080.wav 1\n",
            "/gdrive/MyDrive/tmp/audio/A/01_076.wav 1\n",
            "/gdrive/MyDrive/tmp/audio/A/01_351.wav 1\n",
            "/gdrive/MyDrive/tmp/audio/A/01_060.wav 1\n",
            "/gdrive/MyDrive/tmp/audio/A/01_356.wav 1\n",
            "/gdrive/MyDrive/tmp/audio/A/01_068.wav 1\n",
            "/gdrive/MyDrive/tmp/audio/A/01_349.wav 1\n",
            "/gdrive/MyDrive/tmp/audio/A/01_352.wav 1\n",
            "/gdrive/MyDrive/tmp/audio/A/01_333.wav 1\n",
            "/gdrive/MyDrive/tmp/audio/A/01_074.wav 1\n",
            "/gdrive/MyDrive/tmp/audio/A/01_357.wav 1\n",
            "/gdrive/MyDrive/tmp/audio/A/01_350.wav 1\n",
            "/gdrive/MyDrive/tmp/audio/A/01_070.wav 1\n",
            "/gdrive/MyDrive/tmp/audio/A/01_061.wav 1\n",
            "/gdrive/MyDrive/tmp/audio/A/01_073.wav 1\n",
            "/gdrive/MyDrive/tmp/audio/A/01_004.wav 1\n",
            "/gdrive/MyDrive/tmp/audio/A/01_071.wav 1\n",
            "/gdrive/MyDrive/tmp/audio/A/01_023.wav 1\n",
            "/gdrive/MyDrive/tmp/audio/A/01_353.wav 1\n",
            "/gdrive/MyDrive/tmp/audio/A/01_072.wav 1\n",
            "/gdrive/MyDrive/tmp/audio/A/01_069.wav 1\n",
            "/gdrive/MyDrive/tmp/audio/A/01_006.wav 1\n",
            "/gdrive/MyDrive/tmp/audio/A/01_054.wav 1\n",
            "/gdrive/MyDrive/tmp/audio/A/01_063.wav 1\n",
            "/gdrive/MyDrive/tmp/audio/A/01_049.wav 1\n",
            "/gdrive/MyDrive/tmp/audio/A/01_334.wav 1\n",
            "/gdrive/MyDrive/tmp/audio/A/01_337.wav 1\n",
            "/gdrive/MyDrive/tmp/audio/A/01_331.wav 1\n",
            "/gdrive/MyDrive/tmp/audio/A/01_048.wav 1\n",
            "/gdrive/MyDrive/tmp/audio/A/01_062.wav 1\n",
            "/gdrive/MyDrive/tmp/audio/A/01_055.wav 1\n",
            "/gdrive/MyDrive/tmp/audio/A/01_050.wav 1\n",
            "/gdrive/MyDrive/tmp/audio/A/01_067.wav 1\n",
            "/gdrive/MyDrive/tmp/audio/A/01_262.wav 1\n",
            "/gdrive/MyDrive/tmp/audio/A/01_328.wav 1\n",
            "/gdrive/MyDrive/tmp/audio/A/01_335.wav 1\n",
            "/gdrive/MyDrive/tmp/audio/A/01_053.wav 1\n",
            "/gdrive/MyDrive/tmp/audio/A/01_348.wav 1\n",
            "/gdrive/MyDrive/tmp/audio/A/01_046.wav 1\n",
            "/gdrive/MyDrive/tmp/audio/A/01_330.wav 1\n",
            "/gdrive/MyDrive/tmp/audio/A/01_052.wav 1\n",
            "/gdrive/MyDrive/tmp/audio/A/01_064.wav 1\n",
            "/gdrive/MyDrive/tmp/audio/A/01_065.wav 1\n",
            "/gdrive/MyDrive/tmp/audio/A/01_336.wav 1\n",
            "/gdrive/MyDrive/tmp/audio/A/01_058.wav 1\n",
            "/gdrive/MyDrive/tmp/audio/A/01_066.wav 1\n",
            "/gdrive/MyDrive/tmp/audio/A/01_329.wav 1\n",
            "/gdrive/MyDrive/tmp/audio/A/01_059.wav 1\n",
            "/gdrive/MyDrive/tmp/audio/A/01_354.wav 1\n",
            "/gdrive/MyDrive/tmp/audio/A/01_057.wav 1\n",
            "/gdrive/MyDrive/tmp/audio/A/01_056.wav 1\n",
            "/gdrive/MyDrive/tmp/audio/A/01_051.wav 1\n",
            "/gdrive/MyDrive/tmp/audio/A/02_026.wav 2\n",
            "/gdrive/MyDrive/tmp/audio/A/02_030.wav 2\n",
            "/gdrive/MyDrive/tmp/audio/A/02_010.wav 2\n",
            "/gdrive/MyDrive/tmp/audio/A/02_014.wav 2\n",
            "/gdrive/MyDrive/tmp/audio/A/02_017.wav 2\n",
            "/gdrive/MyDrive/tmp/audio/A/02_024.wav 2\n",
            "/gdrive/MyDrive/tmp/audio/A/02_003.wav 2\n",
            "/gdrive/MyDrive/tmp/audio/A/02_022.wav 2\n",
            "/gdrive/MyDrive/tmp/audio/A/02_021.wav 2\n",
            "/gdrive/MyDrive/tmp/audio/A/02_018.wav 2\n",
            "/gdrive/MyDrive/tmp/audio/A/02_013.wav 2\n",
            "/gdrive/MyDrive/tmp/audio/A/02_019.wav 2\n",
            "/gdrive/MyDrive/tmp/audio/A/02_007.wav 2\n",
            "/gdrive/MyDrive/tmp/audio/A/02_031.wav 2\n",
            "/gdrive/MyDrive/tmp/audio/A/02_032.wav 2\n",
            "/gdrive/MyDrive/tmp/audio/A/02_011.wav 2\n",
            "/gdrive/MyDrive/tmp/audio/A/02_036.wav 2\n",
            "/gdrive/MyDrive/tmp/audio/A/02_004.wav 2\n",
            "/gdrive/MyDrive/tmp/audio/A/02_012.wav 2\n",
            "/gdrive/MyDrive/tmp/audio/A/02_034.wav 2\n",
            "/gdrive/MyDrive/tmp/audio/A/02_015.wav 2\n",
            "/gdrive/MyDrive/tmp/audio/A/02_037.wav 2\n",
            "/gdrive/MyDrive/tmp/audio/A/02_029.wav 2\n",
            "/gdrive/MyDrive/tmp/audio/A/02_005.wav 2\n",
            "/gdrive/MyDrive/tmp/audio/A/02_028.wav 2\n",
            "/gdrive/MyDrive/tmp/audio/A/02_006.wav 2\n",
            "/gdrive/MyDrive/tmp/audio/A/02_008.wav 2\n",
            "/gdrive/MyDrive/tmp/audio/A/02_020.wav 2\n",
            "/gdrive/MyDrive/tmp/audio/A/02_039.wav 2\n",
            "/gdrive/MyDrive/tmp/audio/A/02_035.wav 2\n",
            "/gdrive/MyDrive/tmp/audio/A/02_027.wav 2\n",
            "/gdrive/MyDrive/tmp/audio/A/02_023.wav 2\n",
            "/gdrive/MyDrive/tmp/audio/A/02_016.wav 2\n",
            "/gdrive/MyDrive/tmp/audio/A/02_025.wav 2\n",
            "/gdrive/MyDrive/tmp/audio/A/02_009.wav 2\n",
            "/gdrive/MyDrive/tmp/audio/A/02_046.wav 2\n",
            "/gdrive/MyDrive/tmp/audio/A/02_072.wav 2\n",
            "/gdrive/MyDrive/tmp/audio/A/02_056.wav 2\n",
            "/gdrive/MyDrive/tmp/audio/A/02_062.wav 2\n",
            "/gdrive/MyDrive/tmp/audio/A/02_050.wav 2\n",
            "/gdrive/MyDrive/tmp/audio/A/02_051.wav 2\n",
            "/gdrive/MyDrive/tmp/audio/A/02_059.wav 2\n",
            "/gdrive/MyDrive/tmp/audio/A/02_058.wav 2\n",
            "/gdrive/MyDrive/tmp/audio/A/02_048.wav 2\n",
            "/gdrive/MyDrive/tmp/audio/A/02_033.wav 2\n",
            "/gdrive/MyDrive/tmp/audio/A/02_044.wav 2\n",
            "/gdrive/MyDrive/tmp/audio/A/02_041.wav 2\n",
            "/gdrive/MyDrive/tmp/audio/A/02_074.wav 2\n",
            "/gdrive/MyDrive/tmp/audio/A/02_053.wav 2\n",
            "/gdrive/MyDrive/tmp/audio/A/02_052.wav 2\n",
            "/gdrive/MyDrive/tmp/audio/A/02_055.wav 2\n",
            "/gdrive/MyDrive/tmp/audio/A/02_047.wav 2\n",
            "/gdrive/MyDrive/tmp/audio/A/02_045.wav 2\n",
            "/gdrive/MyDrive/tmp/audio/A/02_042.wav 2\n",
            "/gdrive/MyDrive/tmp/audio/A/02_060.wav 2\n",
            "/gdrive/MyDrive/tmp/audio/A/02_063.wav 2\n",
            "/gdrive/MyDrive/tmp/audio/A/02_049.wav 2\n",
            "/gdrive/MyDrive/tmp/audio/A/02_069.wav 2\n",
            "/gdrive/MyDrive/tmp/audio/A/02_038.wav 2\n",
            "/gdrive/MyDrive/tmp/audio/A/02_043.wav 2\n",
            "/gdrive/MyDrive/tmp/audio/A/02_054.wav 2\n",
            "/gdrive/MyDrive/tmp/audio/A/02_040.wav 2\n",
            "/gdrive/MyDrive/tmp/audio/A/02_057.wav 2\n",
            "/gdrive/MyDrive/tmp/audio/A/02_073.wav 2\n",
            "/gdrive/MyDrive/tmp/audio/A/02_088.wav 2\n",
            "/gdrive/MyDrive/tmp/audio/A/02_065.wav 2\n",
            "/gdrive/MyDrive/tmp/audio/A/02_093.wav 2\n",
            "/gdrive/MyDrive/tmp/audio/A/02_105.wav 2\n",
            "/gdrive/MyDrive/tmp/audio/A/02_081.wav 2\n",
            "/gdrive/MyDrive/tmp/audio/A/02_098.wav 2\n",
            "/gdrive/MyDrive/tmp/audio/A/02_083.wav 2\n",
            "/gdrive/MyDrive/tmp/audio/A/02_094.wav 2\n",
            "/gdrive/MyDrive/tmp/audio/A/02_066.wav 2\n",
            "/gdrive/MyDrive/tmp/audio/A/02_061.wav 2\n",
            "/gdrive/MyDrive/tmp/audio/A/02_078.wav 2\n",
            "/gdrive/MyDrive/tmp/audio/A/02_076.wav 2\n",
            "/gdrive/MyDrive/tmp/audio/A/02_091.wav 2\n",
            "/gdrive/MyDrive/tmp/audio/A/02_090.wav 2\n",
            "/gdrive/MyDrive/tmp/audio/A/02_068.wav 2\n",
            "/gdrive/MyDrive/tmp/audio/A/02_082.wav 2\n",
            "/gdrive/MyDrive/tmp/audio/A/02_064.wav 2\n",
            "/gdrive/MyDrive/tmp/audio/A/02_104.wav 2\n",
            "/gdrive/MyDrive/tmp/audio/A/02_071.wav 2\n",
            "/gdrive/MyDrive/tmp/audio/A/02_077.wav 2\n",
            "/gdrive/MyDrive/tmp/audio/A/02_087.wav 2\n",
            "/gdrive/MyDrive/tmp/audio/A/02_097.wav 2\n",
            "/gdrive/MyDrive/tmp/audio/A/02_100.wav 2\n",
            "/gdrive/MyDrive/tmp/audio/A/02_084.wav 2\n",
            "/gdrive/MyDrive/tmp/audio/A/02_079.wav 2\n",
            "/gdrive/MyDrive/tmp/audio/A/02_070.wav 2\n",
            "/gdrive/MyDrive/tmp/audio/A/02_101.wav 2\n",
            "/gdrive/MyDrive/tmp/audio/A/02_067.wav 2\n",
            "/gdrive/MyDrive/tmp/audio/A/02_096.wav 2\n",
            "/gdrive/MyDrive/tmp/audio/A/02_092.wav 2\n",
            "/gdrive/MyDrive/tmp/audio/A/02_115.wav 2\n",
            "/gdrive/MyDrive/tmp/audio/A/02_122.wav 2\n",
            "/gdrive/MyDrive/tmp/audio/A/02_109.wav 2\n",
            "/gdrive/MyDrive/tmp/audio/A/02_113.wav 2\n",
            "/gdrive/MyDrive/tmp/audio/A/02_075.wav 2\n",
            "/gdrive/MyDrive/tmp/audio/A/02_080.wav 2\n",
            "/gdrive/MyDrive/tmp/audio/A/02_128.wav 2\n",
            "/gdrive/MyDrive/tmp/audio/A/02_116.wav 2\n",
            "/gdrive/MyDrive/tmp/audio/A/02_102.wav 2\n",
            "/gdrive/MyDrive/tmp/audio/A/02_124.wav 2\n",
            "/gdrive/MyDrive/tmp/audio/A/02_130.wav 2\n",
            "/gdrive/MyDrive/tmp/audio/A/02_119.wav 2\n",
            "/gdrive/MyDrive/tmp/audio/A/02_106.wav 2\n",
            "/gdrive/MyDrive/tmp/audio/A/02_099.wav 2\n",
            "/gdrive/MyDrive/tmp/audio/A/02_111.wav 2\n",
            "/gdrive/MyDrive/tmp/audio/A/02_089.wav 2\n",
            "/gdrive/MyDrive/tmp/audio/A/02_114.wav 2\n",
            "/gdrive/MyDrive/tmp/audio/A/02_095.wav 2\n",
            "/gdrive/MyDrive/tmp/audio/A/02_103.wav 2\n",
            "/gdrive/MyDrive/tmp/audio/A/02_110.wav 2\n",
            "/gdrive/MyDrive/tmp/audio/A/02_107.wav 2\n",
            "/gdrive/MyDrive/tmp/audio/A/02_108.wav 2\n",
            "/gdrive/MyDrive/tmp/audio/A/02_132.wav 2\n",
            "/gdrive/MyDrive/tmp/audio/A/02_126.wav 2\n",
            "/gdrive/MyDrive/tmp/audio/A/02_129.wav 2\n",
            "/gdrive/MyDrive/tmp/audio/A/02_086.wav 2\n",
            "/gdrive/MyDrive/tmp/audio/A/02_112.wav 2\n",
            "/gdrive/MyDrive/tmp/audio/A/02_131.wav 2\n",
            "/gdrive/MyDrive/tmp/audio/A/02_085.wav 2\n",
            "/gdrive/MyDrive/tmp/audio/A/02_137.wav 2\n"
          ]
        }
      ]
    },
    {
      "cell_type": "code",
      "source": [
        "print(raw_y[980])\n",
        "IPython.display.Audio(raw_x[980], rate=SAMPLING_RATE)"
      ],
      "metadata": {
        "colab": {
          "base_uri": "https://localhost:8080/",
          "height": 93
        },
        "id": "LMyoGSYqiA2D",
        "outputId": "dafc5aa4-58e7-4d03-feff-25aa0fae240a"
      },
      "execution_count": 7,
      "outputs": [
        {
          "output_type": "stream",
          "name": "stdout",
          "text": [
            "0\n"
          ]
        },
        {
          "output_type": "execute_result",
          "data": {
            "text/plain": [
              "<IPython.lib.display.Audio object>"
            ],
            "text/html": [
              "\n",
              "                <audio  controls=\"controls\" >\n",
              "                    <source src=\"data:audio/wav;base64,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\" type=\"audio/wav\" />\n",
              "                    Your browser does not support the audio element.\n",
              "                </audio>\n",
              "              "
            ]
          },
          "metadata": {},
          "execution_count": 7
        }
      ]
    },
    {
      "cell_type": "code",
      "source": [
        "print(raw_y[1])\n",
        "IPython.display.Audio(raw_x[1], rate=SAMPLING_RATE)"
      ],
      "metadata": {
        "colab": {
          "base_uri": "https://localhost:8080/",
          "height": 93
        },
        "id": "bjXXExOuiHcr",
        "outputId": "c6230aac-c7bd-4dd5-b8c2-8bc8931620c5"
      },
      "execution_count": 8,
      "outputs": [
        {
          "output_type": "stream",
          "name": "stdout",
          "text": [
            "2\n"
          ]
        },
        {
          "output_type": "execute_result",
          "data": {
            "text/plain": [
              "<IPython.lib.display.Audio object>"
            ],
            "text/html": [
              "\n",
              "                <audio  controls=\"controls\" >\n",
              "                    <source src=\"data:audio/wav;base64,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\" type=\"audio/wav\" />\n",
              "                    Your browser does not support the audio element.\n",
              "                </audio>\n",
              "              "
            ]
          },
          "metadata": {},
          "execution_count": 8
        }
      ]
    },
    {
      "cell_type": "code",
      "source": [
        "from collections import Counter\n",
        "Counter(raw_y)\n"
      ],
      "metadata": {
        "colab": {
          "base_uri": "https://localhost:8080/"
        },
        "id": "WY8Ro3dfdARJ",
        "outputId": "042f6ff2-d403-48f5-9465-d77721b39585"
      },
      "execution_count": 29,
      "outputs": [
        {
          "output_type": "execute_result",
          "data": {
            "text/plain": [
              "Counter({2: 348, 3: 378, 0: 398, 1: 358})"
            ]
          },
          "metadata": {},
          "execution_count": 29
        }
      ]
    },
    {
      "cell_type": "markdown",
      "source": [
        "# padding"
      ],
      "metadata": {
        "id": "M1e1eHmSNfY9"
      }
    },
    {
      "cell_type": "code",
      "source": [
        "lens = []\n",
        "for i in range(len(raw_x)):\n",
        "    lens.append(len(raw_x[i]))\n",
        "\n",
        "plt.hist(lens, bins=100)\n",
        "plt.show()"
      ],
      "metadata": {
        "colab": {
          "base_uri": "https://localhost:8080/",
          "height": 265
        },
        "id": "FsjDBDIOEVd4",
        "outputId": "8bb3a214-876c-423b-8723-a1134d8a6ddd"
      },
      "execution_count": 9,
      "outputs": [
        {
          "output_type": "display_data",
          "data": {
            "text/plain": [
              "<Figure size 432x288 with 1 Axes>"
            ],
            "image/png": "[encoded data removed]"
          },
          "metadata": {
            "needs_background": "light"
          }
        }
      ]
    },
    {
      "cell_type": "code",
      "source": [
        "print(lens[:10])"
      ],
      "metadata": {
        "colab": {
          "base_uri": "https://localhost:8080/"
        },
        "id": "92aGHRkbkisj",
        "outputId": "50447998-f8e7-453a-a6e6-3fab6b916e3e"
      },
      "execution_count": 10,
      "outputs": [
        {
          "output_type": "stream",
          "name": "stdout",
          "text": [
            "[8436, 10153, 10805, 13671, 8720, 9649, 13524, 9841, 13892, 10805]\n"
          ]
        }
      ]
    },
    {
      "cell_type": "code",
      "source": [
        "from tensorflow.keras.preprocessing import sequence\n",
        "\n",
        "padded_raw_x = sequence.pad_sequences(raw_x, maxlen=22050, padding='post', dtype=float)\n",
        "# 파일 길이를 똑같이 맞춤 22050 (1초로)"
      ],
      "metadata": {
        "id": "aghztZe9-1N5"
      },
      "execution_count": 11,
      "outputs": []
    },
    {
      "cell_type": "code",
      "source": [
        "print(raw_y[980])\n",
        "IPython.display.Audio(raw_x[980], rate=SAMPLING_RATE)"
      ],
      "metadata": {
        "colab": {
          "base_uri": "https://localhost:8080/",
          "height": 93
        },
        "outputId": "0e8a68ea-a68f-4c31-8e53-bdd8475664bb",
        "id": "7mTCyMzWiVAZ"
      },
      "execution_count": 12,
      "outputs": [
        {
          "output_type": "stream",
          "name": "stdout",
          "text": [
            "0\n"
          ]
        },
        {
          "output_type": "execute_result",
          "data": {
            "text/plain": [
              "<IPython.lib.display.Audio object>"
            ],
            "text/html": [
              "\n",
              "                <audio  controls=\"controls\" >\n",
              "                    <source src=\"data:audio/wav;base64,UklGRmRuAABXQVZFZm10IBAAAAABAAEAIlYAAESsAAACABAAZGF0YUBuAADgAFgBKQE3ARIBCgH8APEAzgCxAI4AaABNADUAJwAZABUAAwAAAOn/yv+3/5T/fP9p/1f/P/8q/yf/D//s/sz+sv6E/kz+QP4s/gT+5/3K/Zz9bv1Y/UP9Hv0E/ez8xfyf/H/8afxb/F78UPxC/Dz8Evz/+wj89/vg+9D7z/vE+8X74PvZ+8r7yvvS++r7B/wk/D/8Wfxe/Gj8hfyy/OD8Ff1Y/YT9tf35/TT+cf68/v7+Qv+B/8n/DABGAIEAugD4ADcBigHNAQcCOAJvAq0C3gIjA3IDtQPLA/ADHwQ3BFsEgwSsBNgE/QQPBREFBQX+BAwFMgVJBVQFagVzBWAFOgVCBUUFMQUbBf4E8QTVBL4EsgSwBLIEsASmBJcEeQRYBE8ENgQtBDAEHATwA7wDlANsA1MDPgMhAwYD3wKsAnwCRAINAtIBlgFSAfwArQBKANr/av8N/6n+Lv7I/WH94vxs/Av8jfv/+o36Hfqj+Sj5p/gq+LX3Sffd9n32M/bK9VL17vSI9B/0yvOF8z7z/vLI8pvyYvIy8h/yCvIJ8ivySfJl8pLyy/L58iLzifP380z0s/Q19bj1FPaN9iL3uvdV+Pf4p/lS+h374/uY/Ev9Bv7T/p//eQBAARgC6wKLA00EGAXDBWIGIQfsB4wIJQnCCVgKyQo3C8YLOgynDAQNXQ3CDf0NMQ5rDpYOtA7dDvYO7g7oDvQO6w7GDskOtw6SDl8OFw7fDZ0NYQ0aDdAMggwhDM8LbAsGC64KWwr8CY0JOAnnCHgIJgjWB2oHFgfGBnIGEwbGBW4F/gSOBBkExQNZA+wCgQL9AYAB+QBzAPX/b//i/lT+yf1Q/dH8Tfzb+2L71/pJ+rb5JfmV+Aj4dvfg9lv2yfUw9ZD0BvSF89vyRPLG8U7xsfAK8Ibv/u5k7sbtTe3O7EDsw+tO68rqRerq6ZbpQukK6ejot+in6OzoTem06R7qo+pJ6w/sAu0g7mfvrPD+8VPznvT/9Xf38vhe+v77tv0v/6kANAKbA/IEUwbaB1MJqArxCxcNJA4FD84PlhBPEfARcxLkEjMTYRNsE1wTRxMZE9USeBLkEUQRjRDBDwAPNg5lDY0MoAukCr4JsQi3B+kGEgZBBXYEzAMEA0oCpAEIAY4AFgC//27/IP/W/pL+aP5Z/lf+Wf5x/on+uv75/j3/gf/X/1gA6QCVAXwCmwN9BGwFkgZkB+wHlwjBCcEKqAv3DCYO0g4cD6cPKRBiENQQaBHvET4SbxJvEjMSARLMEZ8RVhEVEdwQQhCID8wOGg5qDaEM9wtLC2YKQAkgCDIHDAbYBNcD0QKbATkA9v7H/Zb8d/t4+nj5U/g69yr2A/Xt8w/zOvJi8aLw4+/47gzuPO1u7K/r/Opg6sjpGelX6Iznwub25T7lk+Tr4xfjPuKF4cjgJ+C937bf7N9R4Ajh6OHO4prjgeSk5d3mQOjS6aLrgO0u79rwifIo9Nf11ffv+fP7F/4uACEC8wO2BYgHHwmzCkoMzw00D14QjBGREmwTQRQkFf0VhRbhFjkXUhcrF/QWjxb6FSwVQBRHEzMSDBHjD8AOgQ08DA0L4gmeCGIHPwYUBQYEEAMEAv8AGABD/4P+w/0m/bP8Kfyz+1v7G/vd+q76sPqw+s/68voU+0z7gPvc+2z8D/2x/Xj+Vf8AALkAnAGWApIDpQT8BTwHaAibCekKCQzcDN8N5g7FD2QQMhEWEowS+xJ5E/wTJBQxFF4URhQXFN8TthNqE+cSgBIEEk0RhBDfDzcPWg6FDa4MoAt0ClAJUwg8Bx0GJgUvBBYD0wG2AJn/Yv4v/Rv8KPsT+i35ZviB9532zvUj9XD0y/M585zy+/F78RTxj/AS8LHvTe/X7kbuze1T7cPsRezT61vrxOoa6lXpiejH5wPnWuae5bzk5eMU4z7imOFL4S/hPuGd4S3izuJ841bkUeU+5kXnjugH6mXrzOx17iPwyPFo8zv1IPf6+AX7Df0V/wQB3AKlBEUGEwjFCV0L3Qw/DrwPDBFLEmITfRSJFUIW/xaXF/sXJhgkGBkYuhclF4UWtxXPFKgTgRJiER4Q/g7FDXAMGQvaCbMIfgdkBkcFHgT8Au8B9gD6/w//QP5//c78O/zE+1777fqV+lv6J/oE+v75KvpS+nT6qvr0+kv7v/to/DP9Gf7+/hgAYQGVArID6QQtBioHTgikCf8KOwx6DcYOjQ9AEOkQkxErEroSqxMrFJUU+BQVFQwVzhTZFJ0UUhQdFLQTThN5ErIRABEjEFcPfA7DDcYMiwteCiYJBgjBBqoFngRbAzQC8ADB/4v+bv1r/Dz7RvpB+Sb4KfdO9qD13fQo9Ijz8fJW8qPxAfF88Bnwr+9S7wDvhO4G7oXtBe2L7B3srust65Tqx+kP6UnocOeq5sPl5uT+4xzjOeJu4QPhpOB94J3g7uBq4eHhfeI44xXkDOUp5pXnB+l16gHsi+0H75nwXPI79CT2G/gh+ir8K/4oACgCBgTpBd8HjgkwC8sMVw7SDykRmRLzEzkVShY4FywYxxguGYAZsBmhGUEZ0xgpGFYXbRZcFUsUGRPeEZgQQg/+DbwMdQsmCvAItwdlBhkF8wPeArIBnACz/93+Af4s/X383ftK+8n6V/oL+tv5tfmh+Yf5cvmP+dL5PPrb+pr7cvx0/XD+b/+AAJkBugLfAzwFogYDCHYJ1QoYDDQNUA5WD0EQHhH7EckSWxMLFL8UQBWZFdgV9BXPFbEVjBVZFQwVoBQiFHoTxRIBEkIReRCcD7AOuA2eDFwLLArrCIwHQgYYBcsDYgInAfn/ov5O/SP88/rN+cP4v/ep9qX1vfTN8wjzbPLX8TDxhPDf7zvvuO4v7qTtKu2l7BXsfuv06mHqxuk16aXoDuhW55Hmx+Xu5CTkW+OQ4svhFuFx4OHfjt9u34rfAOCe4ETh+eHP4qjjduR45dvmVujU6YTrJ+207j3w8vHO87f12/f3+RL8Gf4dABwC5gPnBeAHwQmKCzoN9Q53EPQRVhO/FCUWORdXGE8Z+BltGsYaFBsRG9sahxr8GTsZPRgzFxYW6RTDE5ASQxHhD5UOPg3UC30KMwnpB6MGcgU1BOwCnQF4AHr/d/6n/eb8HPxY+7L6Mvqx+U/5CPnP+KP4jvik+Lz48fg/+av5RPr5+tP7r/yv/c7+4v8GATECfAPCBAQGTwd5CJ8JzgrqC9AM4g0OD/0P5BDLEZUSGhOQEw0UgRTHFPAUKRUwFRMV4hSfFD8UzRNjE+ESYhLLEQkRMxBiD5gOqA2hDJQLjQptCSgI2QaxBZIEQAP+AfIA4/+y/o39kfyT+4b6ovnV+Pn3Gvc99mf1nvT281PzrfIk8qTxJvGb8Brwnu8f76vuLu647T7tqewN7IDr1+ox6ozpwuja5+fmEOY85WbkfeOZ4sDh2OAA4GvfBt/P3vbeYd/0333gMOHw4YriTuNt5NjlOOfY6IbqGeyk7TfvEvHL8tP0H/dx+c77BP42AB8CHgQwBkcIcgpaDD4OBRCXERETlxQ3FrAXFxl2GoIbLxyqHB8dYB09HRIdyRw6HFIbPhpHGRIY1BawFXQUKxPWEWcQ3Q5iDfALhQooCdsHhwYPBZwDRAIoASAAFv8k/lv9i/yn++36Qvqs+Sn56PjF+In4WPg7+ED4X/io+A/5jPkN+sH6tvud/If9k/7C/+wAKQJ6A9EEDwZFB4sIrQnZCgEMHw0tDi8PLRAiESgS+BLDE3cUBhWFFd0VNhZTFl4WUxYXFskVYhUCFXsU6xNRE5QSzRHnEPEP+g7yDc4MnQtuCjQJ7gepBk4F/AO5AnoBSAAG/+f9z/yl+336X/lY+Ev3W/Zp9YT0uvPu8kDymfH08HXwCfB97+7ube7h7U7ty+xU7M/rUevV6kvqzOlB6aTo8+cd51LmcuWE5I3jr+IN4kHhW+Cj3znf7t7L3hzftN9L4OngsOF64kbjL+Ro5eLmYOju6Y/rQu287kfwJfIT9A32L/iT+sj85f4IAeQC0QTsBhMJBwvtDN4OchDvEZ4TShXHFhgYahmbGqAbZxzXHF8dxx2rHWUdIB2eHK8bxBrPGZQYbhdOFgoVnxNPEuYQSw/pDZ0MPQvHCXAICweQBSgEwgJ6ATcAH/8Y/iH9PfxN+4r65PlQ+cf4bPgz+Nj3ifdz93X3j/fZ9z34oPgi+cL5UPry+rX7uvzr/Qz/TACBAZ4CogOxBPwFMgdPCI4JvwqsC5QMkw18DmIPbRBhESkS6hKOEw8UYRS5FBYVTRVwFWQVShUSFbAUQBTHEzwTjxLhESsRVhBvD4wOpw23DMcLyQqwCYIIVQcnBggF5AO4ApgBbwBW/0b+RP1E/FH7hfq0+cn44vci91v2d/Wz9B70mPMn87HyN/LC8Urx6fB28AXwjO8H74bu7O1M7b7sOeyg6w7rZOqR6cHo8OcJ5wnmCuUP5BDjFuIv4VDgeN/S3mHeRt6k3jLfx99f4AfhpOEw4hvjZuTS5VnnBunQ6p/sI+6k72/xa/Ob9db3NPpu/Kn+yQCrAqkEuQbnCP8KIQ0kD9QQbBL5E6IVNReRGAQaTxtiHDAd2h1wHs4e4h7PHpceCh4uHQwcLRvXGa4YWxcpFs0UdBPsEVsQ+Q5QDZgMlQkWCSkIxAWMBNECZAIOAGj/vP4l/Xn8ivuS+sT5dvkH+ZT4/ffm94T3QfdL91T3bve790j4v/hh+e35a/oS+wD8Cv0W/lT/pgC/AcoC/AMhBUUGZweQCNAJ3AruC9oMvw3DDpkPexBMEQcSoxInE5sT8xM7FI8UwRTcFNEUkBRiFAEUrRNDE8QSPRJ7EcEQ4A8NDzsOYQ2WDLsL4QrICZEIkgeMBnYFcQRiA1ECSQFPAFP/Sv5u/aL8yvv3+hr6Wfmb+Pj3evfw9nT29vVx9eP0WPTr84jzJfO+8lHy6/Fz8dvwMvCV7wjvdO7W7TrtjOy76/DqBuoF6RDoJec05inlLeQm4w7i+eAN4EPfn94j3ufdMt6l3jLf2d+I4BzhkOFd4nzj1+Rb5hjo7Om464XtG+/S8Nvy9vQ195r5Efx3/o0AkgKmBMoGEQk7C18NoQ+gEUgTzBRrFvIXShnJGjQcXB0bHsAeTx+QH8gfuB9YH9weIh4wHRccwRprGSoY0RaJFf0TYBKjEOkOjg1GDNYKQwmnB+cFugTuArMByf/e/r39k/xr+yn0VvUt/Hb9A/l09B/1YvTd9jv5ofbo8yz0H/Y/97v4fPn8+A35nfrH+2/8Vf2N/vr/oQE4A9ADyQR1BQEHFgg0CY4KTQvBDGgN5A6eDi0QLBDCEa0RWxPREikQ2BgMErYT+xVaEzkWexFKF+wS6xFPFScQSxKrEfoPnBAZDikO6w1zC1sMugpaCdwIagfyBrMFhgR5A04CagHMAKb/v/7i/eT89/uE+zX77PkF+ZH4pPj591H2yfUF9v31vPQe9EP0rPMq84Xy2vFC8cnwTfC07/zuhO6m7aLsP+xf64fqU+mN6KrnS+aD5VLkJ+P64RDh6d/w3jveVN0Q3dvcUN323UreBN+m3z/g8eCQ4bfiKOTC5dnneul/63jtt+7P8PXyE/Vh9+35rPwJ/ycB/QIXBRgHoQnfCywOuxD+EX8UuhZOF3wY9hqiHGcc1B0NIFQfwB53IKggWB9EH6sfVR56HPgb8Bq2GHEXtxbfFOoSfxFaEEYORQxlC+QJPAgGB48FxgMcAsUAuP9D/iv9mvzm+/z6+/lC+YT41/e69yX4fPdD93v2KvY49lr28PYH9773Kvgr+Qb5Vvx4+7P57P7MACz/Pf9zA24ELAMQBoMIfwZ4B/YKwAwlCyIMMw+IED8TqxIDEg8QGBAcEaARQhP7E4ERLBN4GFwOxg5uG/kRpQuTElEWlQ8vCVMVBhCgCUwOVQukDaoH3giyCSgGYwcAA84ETgS8AXsAIgAvAbT9c/0j/Wr8Ufvm+Jf6WPkR+Yf4+vua+8vws/JW9ov3xvCW7kr4CPom9kruYe9k4+zjjPecA1rxPtOt6zfz0uHj4/H3Set0y7HgZPBC3qvYFerV3rrNkdoh56TaFdOk3vrcUNaM3S3n/N8L3wzjpOQ33+7jJO9j6CLqmu4d8WPxgPTM+Vj7ePv6++b/JALfBXYFKwtaDcUJVQ5vEroVNBTiGGkd2xtLHpwfmiClHSodux4rHikduRoZHYAXsBXbHfEaxhSVFEAWRhFNDxIOMQoSCLj+4wGAC+oG/AOZBhUFxvym+lj/d/oj+Xr8MvyX/m/9Ef0+/uf68fbD+XP87fqX+17/cQD0/TkA1gFQAGb/zwVqCPUN0vx18u/9BPFr9Cn+zhiMFLgSGCObDRYLzAeDDAgL5BNrIR0iYiw0K7En5CBrHx4bihqpIR0m5CiXKk4sMSZPItUfCxxTF9wUhRamFLYTnRNdEwQRow5wDF0ImgQqANv/wv9nAAkCXwJKAtH/sP7X/ZL8dv7rASgD4wMOBcYEfwGZ/5L/1v6j/h//SAAL/iP9FvxR+Rb4GPWw8+TwCu7R6s3lUuJX3pbbVNiu1KzRuc7yy+bIA8hgxs7CCsALvDS2xq7OqXOk2Z45mwmYW5aJkyaScpUbmp+efbOy0eTsuQAJE/Ul4SfZLG86rkIAQuM/4D9QOiU3hDkqOLE1mTcSNlcuJiNYFDwCNvbj7d7mauH029TZmNfN2+PiButU9RH97QTnCUMLcwokCywQoReYH9Ql/CmeLEYv0zFZM441UDRyMbgsryLRFjYKCAAC+NT05/Pa75TqUei25xrn2+gT6s/q8upt7BHtaex27YvxBffI/4QKxg5yEi4W2RkAHcMgZCSoImkgCh7/Gf4UrhEuDw4OIg5jDYgKcQUpAaP93Ps7+qT5BPjR9Rn1MfTW9ez2d/rH//4FERCRGDMd5CCuJwUu7jHRM9Mz2DApKxQlMiEZHtwZihZ6E+cPoAtXC88HvgR3A2wEvgJs/FcAFP4D/RICcwgnCJcJ5hb8FZ0SoRhVH9kZABddHoYbCRSxE9AWehLtDxsULxSkDqYNnw6sCZsFhAMAANX78vle9+PzVfMC8z3ym/I/86Hvwuq858jg79lD15TUPtBIzpXOmsupyVvK08kcx3TFvcNevau1mbB6qyKkmKBfngmaa5IAkZyQ149ulIOdCaqusqDNT+7zDuwnhTu/TrxR5FfgWVBdVFWFQlA3vCwTJcIbyBZPE4YNBght/4P3O+0e4bHbGdnr2EXW7tYg3unmefNjAycVPiD0Kmk1hTtUPNs7Dz3nOBE1YjCbKfMhphu/GWQWtxFEC5ADQvvb8Yfqi+NE3kjaPdkU207cNN8p5PTrXvUJAWYK8g9yFB8XNRnhGcobXhxUGzgbtRq7GTIXhBS+EQAPbgyvCFsDTP5w+Tz0N/HX7zXvVu/b8ADzf/UX+az8RwAoBEgIXAu9DWgPkhB1Ed4R+RI9E/kTIxRzEz4SOBD7DYQK4AfMBBADzQGhAnQEzATPBkwIGQ3BEAoUaRdHF0cWVhIqEQYRGxCWD1QOog4pD+kQ0xMDF5AaRh1uHgkeixxHGtgYahexFXAUkxONE64SfxJLE78TjRMfEyATxBHlD8QNYAsZCSIIzQh1CP8HJwhRCF0IgAcaBmoEmQK7ANb9w/nq9KDvgOrk5Lvfrtz62ZbWh9R904jShtF50FLQhs9vzrnKicYQxN+/LrwEuXu2LLLRqy+l7J7imgSWcJPolKiW6ZrNn/WqTrSgwvniegRpJ3pAw1nJZt5ggWFfYXdg/k1qOIYn2RSzBEz0Ze+17BbqEejG5hHlL96H2/jc8+HY6B3vs/Yb/YwEDQ6EG5ooPTO2PpVF/kZfQdg5cjD1JoEgOBjDDxQFefxL9sbwPO0T66Lr0OuO6wTrzem+6Hronuu18Vv4jP0tAQUG/At/EmgYbB12IBQhrR9YG90WpxG4DHsI1wVvBOgAQP1D+h35IPkv+q37jfxI/ST9p/wO/L/8hf4QAYQEsgdMCtALTQ1FD20RyROaFK8U2RPnEQ8Plgu/CbcHjwW/AzMCRACY/Vn8UPth+yD7j/po+lv5m/mC+EL7ZP+oBJYNIhT9GkId3yIQKa8psilJKDgp/SNyHSkbDBnTFlsRehDaEcAQ8Q3lCnQLQQruCdkJ8QkdChEL/w1LD/YQ/REKFj8alBvCGiQafRp9GJIWiBTaEfsOSwxQCZIFxgP5Ar8AOP66/Hr9zfyj+gz46vXw9L3xe+306eHmqeLA3m3czdpo2cLYqtgC15nVndSG0xrRQc3Pyp3GtMMLwVe+AbthtyizMauBpdmeEJpnlJyThZVvmUig6aj8s/fAyuFjBx0t5EmKZV53sXAEakdma2YGVLw2qx2nBnryZOB42f/YVtdZ1szY3tyF3pvhGOk28CX3e/z2AnYI4w3oFIwecSoiNTQ/EUNDQgo8tDTELL0kVB5EFDIIgvme7qXokeU65S7l8Oe26xfwUfP09LL3EPra/TgC2wbyCWQJOwmzCwgRiBXgFxsZ/xgSF5UTORAUDVUJ1wS/AIr8v/gF9j70SfQj9j/5B/wO/iAAZAIdBHkFUQeDCdsKJAt3CloJJgmUCT0LLQ1RDmMOpA10DeAM5QtUCmYIIQddBTMDwACN/mn9gfyU/Bz9w/0c/vn9Vv6I/qj+cv59/oP+ZABhBB4JQw0IEZIWpxqpH8wmcixXL+swuTOOMZcqLCc+JYYfehX0D/oOnApPBLgBGwTgBIwEcwb6CW8MaQ4mEoIVgBYKF40ZpRvcGp0ZmRpxG1QabBedFDQShA4pCtQFzwGI/lH7FfhW9IjxU/AD79zsQOqT6aPoguUv4Zfeu91229HYuddO2H7XSNRM0fnPjc7uy1/JE8lQx/jB27oftLOtkaSGnYSXGZSMkDaPFpFNl62iI636u87JyeThBuwp7kneYjF3XnQGaypixVzST/w0tRstBLDwo97b0+PPR83uzaDSvtwh5j7sFvIe92r9YwNpC3cTGBppIIckHSoTLw00BDYQNUszzjBXLfEkHxoSDMf9CvOL7NTpx+ZU5G7in+Lm5YDrlvLe93z9wANmCTsMaAyDDGcMcQ1+D94SgBTyEnMQ1w4hDsoMwQvACfUGegNCAHX9YvpG+AP3Zffz+In7Wf7vAGMDyQV5CPEKggwxDRsNcQzkCwALvwkYCNQGHAYcBiIHiAhCCeUIIAhZB64GKQbQBaQEAwO1AXcANv9E/uz9AP6k/oT/ZACQAOz/Ef8c/33/Av/LARUIOg0tD1ET3hpLHVYcKiHtKx8xBC/QLxczdy/RJWggVx/4GXoRugyNCs8GgQF6AHgCuQPcBXMKCxHgFa4YFBq5G7kdGh6PHNcaMBsGGnIV+xBxD78NDQnVBY0FhgRPAA38ovnI9vDzZfOb9Sz2cvWD9Rz1KvIz7pzsh+qM5kXhgN0C2gPVG9E0zyHPt81nzCfMVMsVyTnGxcX4xK/BgLzHt5yxfKhEnjyXQ5QrkV+PnZKbnueoVrEeuufPU/Z7HL9Anl0vd/h7CW+TZm1hWFl3PywiHAsx9HvgX9FaygrG7cQyzejakenF8Wj2TPvQ/zUGNg38FDsbgR+vIQgjkCYIKzMury5WL3YxJzFuKWocjw7yAN72+vDm7mnsXuc245zhxeTf6rby5vmb/3MGVgyID90OyAxdDI8N6Q7QD64Qaw+LDEkKEgqKCgAKRAldCC4HiwR7AY/+U/s++Vr4V/nx+tT8OP/lAIgClQRRCNkLag1HDj4OTg0lCzsIxwXBA84C6ALIAw4FegWCBU4FJwb7B2EJjwk3CJsGVAS4AZT+Tvz7+hH6efrD+2v9nP2d/Sv/6AVNDnsTWxZ9GLsaWxh5F8YbaiDPIFke0h8yIF8cyxjlF1EX3hM3EiwUfRRuEX0OuA6oDoAN/Q1qEKYSqBM/FK8UQxXjFZMWcBakFi0XJxcsFXkRIw79C9MKwwlnCGcGzgP5AIH+b/wj+6f6W/uf+1b7H/pM+DH1YPDh7FHqU+ca4hveKdzX2dzWitWj1jzWM9Qj04XTidEQzS3LKMuKx1HASbpttpSvaqUknXyYPZTsj6COopErmZikArEyvkvJK9rG+HcbnTzOV+NvSHcZbLNiQF5xV4FBjCY9ENL5fuWR1tnNYccWxKzJfdV34rzrZPL++OP+igcYEQkaaiAgJJ0l1iUzKW0tZy+9LTksLixfKickbhqeD5QDWPpI9ZHyA+9K6qXmRuVh55/snvP2+MT9GQR5CksO9A6dDjYOiQ7LDwkRbhFsEFcOaAznCoAK4AoNChUI/AXuA84ByP4n/DX7m/pp+h77G/0H/w8AugFaBHYHwAmWC1kNpg34DJ8LRQqmCLcGqQWDBSQGSQYsBoEG+gb2B74I9wjkCLYHLAZoBO0CLAEd//P9hvyb/O78Df4p/ur+OgWoC/UQvRPtF3sc8RwFH3QjnSioKmIquStuLPwqkSdKIvUbohV/EGcLPgUOAO/9kP2J/Xb/NQT5CYkOEhLrFZ4ZdRwlHlYech3uG5QaCxmDFhAT0g+aDV8MBArlBbQBI/7/+nT3uvSW8/XyU/Fj8JLxkvI/8ebu9O1F7aLqtuZ048rgxdzX11bUltHRzpfLaMlwx9/FZMRfwozAZb1tu5O3A7PHrHKlwZ5SmA2W1pS9lGCY6qKTrq24tsIz3BwF2SokSk5ko3ypfXxueGVwY0NaMztOG4QEe+9428XMhccFxnjGdc+p37LuhfVU+dv+DAV9DBsUiBsCH9EfYR93IJ8lAyv6LrkvSC9XL/gsdSU6GWALLP+W96vyV+0u57DhzN7S3oHjXexe9cT77AAbCBMPFBLpEeYQLhHfEZoSlhKIEZoPcAx+CvcJlwtZDHoK8AcyBrEEsgBD/Gz5Ifi19oL2evj5+jX8Xv1yAKkEQAlkDPYOoA+nDtgNGA36CxYKgwjuBwkI6wjsCXoJZgljCYwK1Qu/C5MK6AeUBYADKgIBADn+BP1k/Jb8pf17/wsAUQCJAMMC1gP2Bg8N7BHpE1EUEhkcGrwXaBdpHHEjdiVuKK4tyTFBMBYrcCjpJd8fHRdED1oJcwID/Tb7Vvux/H8AVAgzEH0Vmxi4G2gf5SAxIHUefB2SGyEX6RGPDgINBAtQCdsHvAaCBJMBLf7Z+dH17/KP8Yrv8OyS6jbpcufi5LLibuIC4xbh3t483oreedv31RHTwtHSzl/JXMWfwxnAyroktneyvK10pjOgfZwvmR+XNZb8l0CaZ6CUqyC3kMNxzuXnVwulL4pO+WS6dwRzcWYNYRNgDVNyMsMVi//x6qrYHs68yhjHPMcc0qviC/C49Q77vwEjCMMPsRf4Ht0gtCC7H8IhdCcVLb8uayyILP4tJCw8I7gXrwqJ/hj3MfMD71nnKOGU3vPfweSw7DX1l/o2ABMI1w8GE2ASIhLREeoRHRL2EnAS6g5yC5sJlAqmC9AL1QqFCIgG/QOuAPr8Mvom+Gf23faX+Cj6ufrL+97/UQTUCKUMRw+PEKIPYg8+DpMMdQqRCMcHcQZ8Bl4G1wUqBXEFnQeUCF4IqgdcBrgE0ALKAX8Amv4y/YX8Mf3v/dP+9/7P/2kBjwXIDcMUcBfXFt8ZMx6qIFUl0i2pNeo1VTIlMsIxxCqjIE0YURKTC3YE8v5T+u/2j/Yn+7EC4gnKDxsWWRymH6Mg2CFSI2UjTiDGG50ZSBiKFKsOjgrqCdwJ6QjDBXcB0fwD+Br1mfO18uHx9PEC8zP0vfQv9MLy5+8k7Cvo2uMu3pXXUdETzWXLIssYy6LLKM1HzdnLTcnrx4XFJsCCuYCyJauSoV+XdY4pityHI4mrjY6XeqVYsjTA4M9q8EAahT8hX0t2/38NeWFqZ2JAX99JkSnQEVr+wOYH05fJJMYHxG7IMNcc5qfuru9s8tr1gfsdBj4RKholHcYeoR7pIkcslzQEOKg32TlsObcx8SL4EwYG0Pnp8v3tfejL4M7a2Nec2XjhEOys9az7cQJ9CXUNOw7WDuEQARK8E/sVPRcOFZ4QcQ2vDJANUg4+DvQLUgiNAwL+1PiI9Uf0kvNE87n0JPZl9jL4HfzwAGwFlArxDkERHREcENwOZQzWCkYKtwlVCFsIzAheB1QF2wSBBhkIDwnICJsHGQUJAuj/h/0s/L/73/vf+1f8LP5l/iX/twC4A30GjAf0BpIGcgkVDRESSBbWG+cf/CIiKIItzjJ0NI4zVTFSL3ssriZAH00Xfg/2CX4FRAJvAG7/5/9pAqQGFQsPEJgUzRcJGf4a8h1nICwgKh27GsgZ3BgeFqESjg+PDG4JawZKA3QA8vws+ML0CfMG8XbvkO3C63/qnuku6Xnn9+Qo4sng0N8p3cPaONnZ1i7U2NEM0BDOqsuFyKzEUMGTvdG4kLEBq4mjCJzklCSPF43+ixeORpGkm1uok7Ysw5HU1Pc9HkZCH16bdpB/VnVAaoRmr2LyS+ouBRjpAbfpEdjnzgrKpsbaysHWaeFw59HoquvP7UL0+v5rC84U0RiOGtgb+SO5LRM1NTg2Ozw+zjt9Mr8l9BmKDOIBZvps9GjtJeZd4HbbVtzO4hTrDfEV9tz8ywIABmkH7whUC48NRxHBFa4XEheIFTAVKxVAFYYVSBWiEr8NWQgoAvP7pfbB81Ly3/HB8oHzy/PW9MP4k/0XArAGvwqgDfkNsw1bDZsMtgtrCxEMbAwuDJwL2ArICS0JJgkiCagImQcVBcYBJP8a/Xj7dvoy+s76CPxI/bv+fv8DAAEBwAPIBZIIsREZHR0l7SfDLBwzeDRuNKk24Tk7NVgquCLWHR4XsQ2IBvIDSwJvAF8AkAG7AsMDuAYrC+gOgxKxFnEaXxutGkgbJB72H2we0htfG+gb1Ri3EmANMQuRCEEDJv4w+zX4WPMf8HfvIvCJ8MHwifCs7svt2ewb6Yjjst7t24HZ8tbL1GfSi9DZz5vPaM7UzI3MiMugx2bBILwnt/uvKqZintOYNZJdjRKMyI+nkSiZYqQjsa+9fczc7P4QcDb5UsRrYHdqbHNjEWIMZMtTKzrSJJwQ1/s06sDfgNiv0k/RcNdy3+/jQ+Pl4v3hOOag8P/9VQnkDl8TaxZEH6QpZjIBOWI+hEIPQIY5hTDIJlEYhgpDAi3+hfmF8OTnaeAK3k3gx+XS61nwufR2+EH8Bf/EAQ8ETgaLCkgQ9hXNGMwYMhjVF/YYfxrrGnwZXxWVD80IBgKS+0P3pPS18iDyAvJl8jzzD/Ug9y76Yf6HAkcGfgg5CVkI/wdYCIwJ2QvvDf4PbxDLEOkQaRAFEK8Oxw0bDG4JPwY8Atf+Uvtr+I73BvgZ+Rb6d/uc/Mn8hP1n/9gBFQWzCZ0RZRwvJjQswS+tNLE4AjroO7891zq4MLYlwx09FQMMSQRSAO79kftl+479LgDhAYkE9QjVDX8SMBdAGn8ajxm4GqMdZyDvIfUhFiKlIFAdfhixE7MONQh6AbH7f/e88nbt9uj15vvni+ry7OLthO3T69PoAuUT4rjfudxB2V/WkdT/0c3OxsxNzPTL/8p0yhnJTMXav++6Z7SPraSnxKIbnm2ZXpg/l9uX2ZhCnjGndrGNu7fH0OK1A9EkBT9eVqpirV1QW+xcu13LUvlB6zG9IDwSdAQW+p/yxupM5lHmYulo6Dfj4d/62wfcfuCq6bPzMfxzBOAKZxTeHsMp8jLgObU9fD3LOmo1Pi4XIz4YQw+NCSoGeAJz/VH16O4164Lr8u0F76DuPu0K7Y/t0+9r85T2ZfpgAKYIhBBHFlgZ4Rk3GiwbsRz6HAkbyBYWEVsM6gcIBJ4A4P3M+3L6J/oO+vP5lviA9wz3qPdc+W/7t/2B/l7/RgBUArAFLgkzDeYPpRFjEowSsBJ3EaIPkw2YC0wKXAkZCHMFggI8AHX++P0w/j3+YP2Y/fgA4QVPDaIVxx31Jb4sRTM3No82MzYbM3UuTSgWIw4dthXQEP4MFAv7CQgJqAilCPUIzQd3B+AHUAfSByYK/wyID6IS9RZRGv8ccR8FIeEhsiA0HtUaRhahEDEKogSZAOr8vfnk9uP0ZPO88dfwsO9N7q3sOusG6YXl8eEJ3rzaZNjx1rvWeNeZ2FrYhNcP1pLSxM4Ey1nH8MLlvWO5qLSRr1OqRKXRoTieOJtUmNOW5pazliGbaaKvrPK0psYu5m4IdCjEP9hSGlfzVYlXo1kGWwVSv0WVNxcuQyY1GnkR+gkVA6X+Gv1H+Z3tUOFH2MrRXNAW02nXI90b5VrvhPoYBjQRQRkJIssqyjHdNNIy/S/PKy8p3CbgI5og7hx/GnYWBRJEDZgGov7o987y0e3Q6c/m0ePS4Sjj7eXe6X3vDvZ0/OQBSAduCjcNRhBdEg0UXhU/F70Xcxj3GK8XGBaBFH8T4xEAEE4NZglUBEL/Cfvm9xD2dfSx8yXzHvRi9az2gPhI+vb84P+EAyMGsQciCf0JLQvQDK4OdRA5EdwRFhJrEtcRfxCRECMRihTfGMoerCT+KZsv6DGAM2oy+S+IK74liCFjHFUYFxTSD1kNSgw0DIoLsgvvC4gKKQmWCNkHLAf/BqoHzQkpDaERghWYGcgceR4sIO0geSA/HpkbShhQFJAQxgzwCE8FFAKM/7X90Ptl+VD2yfIr7zHsLOnI5UfiLt/q3Djb8tke2fXYFNlH2bPZgdqB2nfZkte51NrRdM7bypnGlcEzvXq4BrQ9rxWqu6XVoN6dsJo5mVibxJ+cp86vRcGS2f/0/A4eI7Mzazv2QddGa0wpUHFNXEi8QrhA6z3OOvc3ZDTILrsqkijRInkXVwh8+tHtTObd4ajf6d+z3x7ig+fq8KH4B/4fBBUJWw7FEqYW4BfXFhYXdBleHlkkDym1KyItXC0/LUAsYyp2JV8eFxjQEbYMFQenAYL87fjI+A36Q/zX/P/7N/qS+JT43vg3+U35MvkH+qr8dQAwBDsH6Qm8DLwQoxUQGZQamRq2GRAZqhidGCwY4BZPFfwTqxNWE7cSQxFQD9INhgzFC8EK+AhHBs0DPAKBAYEBrQH4AWoCZwP4BPsGCAmnCmUMmxAZGQkljjD+OBE+I0DLQOtAnUHWQTpAnTxNOB41lTIAML8sDin2JKohLyD2HhscbRdMEh8O4QtRCxAMww3yDy0SUxXMGQceVCFII7gkgCbWKFcryiwBLTAsUivtKm0rYiygLBcs2SpfKc0nJSYPJFshlR5NHGQbqxsVHPUbgBs+GysbbhuwG3gbkhovGRUYbxfrFksWhxVeFPcStBHHEOwPtQ5NDeML2QpECiUKPwpDCgoKjwnACbQKVgyhDikRiBTYGFYeKiTcKCosgy0RLpsuOS+zLx4v3C0pLN4qVyo5Kk4qsSmIKHMn3ibRJp8m9CWwJBYj4CFHIVMhriHlIQgiGiJuIvwijSP0I+IjqyN+I3cjiSN/I0IjxyI9IskhjCF5Iagh1iHEIaYhZSEKIZIgFyB/H7oeCh48HVUccBvHGmMaMhpsGuQaiRtAHNocgx1DHtQeVx9aIMohbyNQJYcn1ynYK+otITBlMrw0FDejOWA8Pj8TQs1EjUdXSudMCk+0UN1RoVIOUyJT41KFUvVRJ1EqUP9OgU2wS9NJ5UfJRWpD00AXPik7HTgVNfgxvS5HK8QneCRGISYeKRtSGH4VwRIHEF8NqwrVB88EfgEW/nf6ifZd8hPuo+lf5VDhTt1T2VHVZ9GPzerJT8bMwnS/RLw9uVO2nbPzsGCu6KuRqWqnW6VEoySh656gnE6a55eglW+TU5FJj0+NiIv4iaqIhYd6hoKFsIQJhGODw4IkgnWBzoBfgDaAKIAXgA6ACoAKgA2AEIATgBKAFoAdgCaAM4BEgF2AdoCKgJuArIDBgNKA4IDzgAeBFIEkgS2BM4E4gTeBOYErgXeBLILpgpGDF4SnhCSFeoXPhS2GcYa2hhqHgocBiIaIE4mxiXaKYYtLjEKNP45AjzqQLZEvkkCTVZR0lbSWBphcmcGaJ5xpnY2eyZ8KoU2is6MRpXWm9KdmqbuqD6xtrcauObCWsd2yObSEtcK2+7ckuUG6YruTvM69H795wPTBfcPcxC7GeMfFyB/Kd8vTzDHOec+j0NfRK9OA1NjVJ9dv2LbZENt03Lzd8d4R4D3hb+Kj4/DkMOZZ537opemx6r/r0ezD7afumO+K8HfxdPJk81n0b/V79nn3b/hl+V36VftD/C39D/7c/sD/pwCFAWsCQAMDBMYEhwU3BuUGhwcUCKEIHgmoCTkKqQr1CjoLlAvwC3MMBA15DecNVw6yDvoOQQ9qD5kP3A8jEIgQ8hBcEbsR/BE1EnsSxhL1EiMTOhNGE0kTJRP0ErsSlBKSEpYSjhKXEpcSlBKqEsMS5hL/EhETLxM6Ez8TQRM9Ez0TQBNmE5sTuRPfExAUMxQ8FDYUJhQHFNoTrxOGE04TJhMdEx8TGBP5Et4S0xLBEpgSiRJyEjkSKBIdEgYSCRIqEkQSZBKREpYShBJyElkSMxIJEtURmxFxEVURPxE/EUURMxEaEQoR/xDjEMoQsxCBEEMQEBD/D/AP3g/iD9APrA+sD60Phg9WDzUPDQ/eDswOrg6BDmwOYg5hDnkOoQ7FDuYO6Q7aDscOqg6ADlAOKg4MDuwN3Q3JDaUNpg2jDY4NcA1TDTENFQ0VDfkMywyWDFgMOAwnDP4L0QuwC5YLiAuFC4gLewtUCxsL8wriCr0KmwpuCj0KFgrqCcYJiAlSCSAJyAhuCCQI5geXB1kHHgfTBp8GbAZIBiIG8wXgBdIFpwV+BXgFfQWKBaQFvAXbBQAGGwZBBmcGcAZ5BpQGowaoBsIG5Ab3BhYHIwchBzUHLwckBxoHFgchByYHNwdHB1QHbAeQB7cH6AceCEAIagiqCOMIDglYCY8JqAntCTUKdwqjCrcKvwrHCs4K0wrfCuUK9wrxCgULKgsyC0ILSwtKC04LYQtdC2ILcwtsC3cLkguXC5ILowuzC8AL4wsEDPcL7QsCDAgMDAwVDCsMRgxWDGgMdQxgDD4MQQw+DDYMRwxIDD4MNgw8DEoMTgxcDGYMaQx4DG0MUgxUDFYMUgxLDEoMPQwrDD8MUwxgDIMMjwyNDJsMogycDKQMzwzkDPIM/Qz6DAYNDg0oDTgNQQ1LDUINQA0zDSENCA3mDMwMxgy8DJcMfAxgDEEMRQxPDEYMMgwVDAgMCgwMDPsL4AvAC6QLrAu5C74LzwvZC8wLxQu6C7ILuwu+C6gLfgtmC1ULSgs4CyELBwvyCuAKvQqtCogKaQpfClQKRgo7CigK+QnkCdgJwAm6CaoJewleCUoJIQn9COMI0wi8CLIIvAirCI0IewhgCEMISQhNCD8IMAgjCBcIDQgfCCIIFAgDCPcHCQgCCOcH2AfAB58HogelB5wHhQdXB0oHSgdGBz0HMAcbB/8G8QbwBvgG4wa9Bq4GmgaEBn4GdwZxBnwGjwaQBokGfgZ6BnMGbAZ7BmkGUgZABjoGGQbZBcoFtwWgBZcFiwVqBV4FTAVaBYgFhQV2BV4FXAVNBUYFOgUIBewE7wTxBOEE6wTZBKQEeQR4BG4ERwQ+BCoEGAQXBAwE4QPBA64DgwNwA2UDSQNEA1EDRwNBA1QDYQNlA18DWgNQAy0DJgMiAwoDBgP2AuMCzQK0AsICzAK7AqECfAJgAl4CYwJhAlICMgIcAhwCIgIZAgoC/gHjAcIBtwGmAYgBfgGYAakBkgF3AWABaAFlAUgBMgEXAf0A7ADvAP4ACwEOAQ8BEQERARABBAH+AOAArQCfAJsAiwCAAHsAgACDAIMAfgB7AHwAcABhAEoALwAXAAQA/f8GABQAKABGAEYASQBZAFAAOQAoACMAEgAAAPX/2//K/8j/wv+3/5v/ff9x/2D/Qv9A/0D/Jv8l/zj/Nf81/0T/S/9I/yz/G/8e/zL/S/9c/2//ev+R/5//sf+8/7L/pv+O/4D/i/+i/6P/mf+f/7T/wv/K/8//uP+X/4b/cf9f/2z/bv9r/2r/cv+G/4z/m/+a/4f/fv98/3f/ev9l/07/Yf90/4v/l/+l/6P/l/+S/4H/d/90/3r/a/9f/3H/fP+M/5D/b/9j/3L/c/9y/4D/lP+R/5n/pP+R/47/j/+E/4X/l/+d/5f/jf95/3r/h/+L/57/v//I/8H/s/+a/5r/sP+r/6b/n/+U/6n/wv+//6z/m/+b/7X/sv+Y/4f/ev9y/2D/VP9n/33/gP+J/57/pP+r/7L/mf+H/4D/ev+A/5b/r//N/+f/5f/k/97/1//N/7//wf/L/8//z//N/9//8v/e/9P/1//O/8T/wP/L/9H/0v/W/9j/2//x/wIA+/8EABgAIQAoAC0AKQAaABcAFAABAA0AHwAcABIABgAMAAwACAAKAAgADgAhACcAIQA1ADEAHgAnACMAEAAbACUADwARAB0AJAAzAD8AMgAnADoAMQAfABkADQAFAPn/7f/w/+z/8/8DAA0AGQAaACQAMwA/AFIAbwCGAJUAngCbAK4AuwC0AK4AqgC4AMAAuQC2ALUApQClALUAuQDBAMUAsAChAJ4AkACJAJMAlACLAIUAggCBAIMAjwCTAJIAmACMAIIAdwByAHgAgACTAJYAmQCcAKUAxQDZANIAzADNAMoAygDZAP4AAwHpAOYA8wD0APYA/wDyAOUA/gAWARUBGwEjARUBDQEXAQcB+gD+AOoA4wDvAOsA7wAIAQ8BDQEbASQBHQEgAS0BHAEUAR8BJgE6AU0BawFnAU4BVQFeAWYBaAFkAVMBRAFIAUMBPgFHAVUBYgFoAWEBWAFVAVUBRwE3ATgBNgFDAVcBWQFVAVkBWwFZAWABYgFhAWABaAFzAXEBfAGSAZsBjAGJAYcBcgFoAV0BVwFmAXMBdQF4AXIBbgF6AYQBiwGFAYwBjgGEAYoBmAGoAbABuAG8AbcBtQGsAZoBlAGYAZ8BpwGpAZ8BlgGiAakBpQGrAb4BvwG7AcwB2wHhAd4B1gHKAcsB2AHiAe8B5AHdAeMB1QHCAa0BqgGxAbABtQG3Ab8B1AHfAd8B3AHdAd0B2AHSAdIB3wHxAfYBAwIRAgwCDQIIAv8BCAIpAjoCMwIhAg0CFwIPAgcCDgIMAgkCCQIKAgMC/wHvAeYB2wHTAeUB9AH1AfMBAAIQAhUCEgIEAu0B7QH6AQECDgIMAgECAgIKAhACFgIbAg8CBAL9AfQB/gH8AfUB/QEHAgkCAQL/AQYCCgIJAv4B8AHxAfkBBgIDAgECDAL9AfAB7AHiAekB7gHtAfIB9gH7Af4BBwIRAh8CMAInAiQCIAIPAhQCJQIkAiYCLwImAhwCEgIHAgQCBAIKAgwCFwIQAgQCCQL2AfYBCAIGAvwB/gEEAvMB3wHWAdAB1gHjAeQB3QHcAfABAQL8Af0BDAIIAvcB7gH5AQUCAQIDAgUCAQLyAesB8wHlAdUB2gHgAdoB4QHlAdcBzwHKAdUB5AHrAfoB9gHuAecB5QHwAewB1gHIAc4B0wHdAdIBtQHBAdEBzgHMAcoB1AHZAdkB0gHNAc0BzAHKAdUB5gHbAc4BuQG0AcIByQHNAc0BywG6AbQBwAHJAcoBxAG7AbMBoAGQAZABjAGNAYYBewFtAV8BZgF4AXEBagF2AYEBjAGSAaEBlgGNAbABwwHDAcUBuAGnAaMBngGuAbYBoQGVAZ0BpQGWAZIBogGhAZsBoQGkAZ0BlgGfAZ0BkgGPAYgBhgGHAXwBdQFsAWcBZAFUAVMBUAFPAVcBUwFFATgBNQE+AU4BSgFDATkBOQE6AS4BNQE4ATUBJAEvAVYBTAFQAVABNQE3AUUBWAFPAUYBSAE7AUEBPgE2AUABOAFNAUcBIgE1AS4BNQE/AUUBWQFDATUBIwEVAQ4BEgEfASkBHwEqAVQBRQE+AUkBOQEuAVQBcQFeAVsBcgFpAWQBcAFKATkBXAFbAR0BFQE1ATIBIwERAUQBUQEZAVABHAFIAScBEQH/ACsBcgERAcIBSAETAq8BWwKWARYCHgLmAZcCuQJmHIMoKh8xGbob8iaCIkgloCS6G5wZMhe3GNQacx/gIXogdB4BG70XuxNnDtAGVgAc/+8BJQVLB+IJDAt9DA4OjQ7jDcQLPQulCfgGPQbCBlAJSg1qEJsRqxCQEFUR9REWE8YSfRGyEF0R9RLyE7AVqxe8GP8YwhcfFjUWChnGG0QbYBmUGHcYRRniGkEajRcVFYoTJhNpEy4UZBRiE8ARmg5VCwsKsAnECdIIfwfSBtMFBwZtBZMDSgEX/mb8n/um+lP5xfdl95v2B/XU84fzPPQ19JbzqPEO7rzqmekY6qnqfupk6UDoUOZj5BHiJd993cvb5dkj2FbXI9c91ubUL9KbzrzL9Mr5yqHKe8jhxUTDtMHnv4C+I8aNyozFj7wztkW07rFhtRW5B7q4uR645LbHtBmzUbAercSq3qqorYOwJLGJrpKqQ6dkp2WpEqu9qgCo4qSdofygAaPEpfKnLacApKygoJ4yngSf858loC6gm6HHo7+kL6SLotegSKBdorumVqv5riewLK94rjuvGrJltoy6a712vhfA48Idxn3J0svhzUfQ/NJU1gzao91Y4FDi+OR66MHsE/Fv9L72D/gh+vH9VwP8CNwMXg/DEMARDBTJF0EcQiCnI34m8yguLLcvUDIvNNI1iTccOuc99kHKRD5G/UbGR4JJGExpTghQ3FDwUFtRZ1N0VnFYOVmTWYtZvVmrWkRc1137XsBfWmCiYdli82LPYpRi9mEOYnVjK2XyZUplEWRAY1lj2mPLY6ZjEGNcYopiS2O6YyZjDGKyYLBfe1/EX2VgoGDPX1hedl2bXbRdCF1wW/9ZnlnrWbpa41rgWfhXXFarVflUXFSkU4xS+1CqT/FOvk5jTpBMxkmFR3pGLUYcRplFJUSVQWs/kD74Pbk9Ej3EO0c6Ozh2N3U3VjcDNxs1gjN4Mhsy0zGuMNYvxi6YLjIvKC8+LlgsrSriKX8p4imHKvwqzSqKKWso9ycMKOQn6CdHKOgnoCfaJzcouCfXJvQm1yY3J40nsSYmJg4mFyYbJqkmCidGJgwl/iM3IwQjnSMrJFMkqiNbIk4hvCAfIIYfpx8vIFwgtB+uHmcdABwJG1ca8RmjGR0ZJhj+Fq0VJhTmEsgRqBD3DkkNyQshCsUIEgd8BaUDUAEG/5X8nfqS+F32VPRR8lrw3+1t693o6+U/4x7hq9++3WfbK9kS17rUuNHBzp/LpMjVxaTDQMJQwNy91bpwt+GzSLCerb6rAaooqOalPqOdoAWeqpt6mVaX0ZV8lLaTP5OrksKTxZXFl1GZH5ogm9Wbb51soIukFKowr7Wzmrfiug2+GcEgxY3Jd84u1GvZ090g4dnjceYq6T3sF++f8eLzwvVw9wn5rvps+0P76/rz+TL5x/hw+Dr4tffA9kb1KPOY8HTthuq56IDnxuap5Q/kb+H93ZXbINod2tDaXNu725Tbdttt2zbcht5K4QbkDeeG6RvrGO0Z8W33E/6eApAEZwXhBsIJjw+XFz0fmiNyJPEkLCYOKSMtAzLsNu85Yzs6PPc8Oj0HPZo9wj4mP1s+jTylOgw4ajWsMyoyuS9kK6ImpSLaH+QdDxx2GVYVzQ+hCg0HiwSMAlgAo/0A+q31i/GK7RjqPedl5BLi89/+3CzZnNXb0qrQms5kzGHJlsXpwey+mL3LvSy+rb2RvSi+wL6bwA3D5cSHxWDFSMc4y3TQD9aZ2sjeUuHg4sDlpeqP8I31ivq2/5EDegaECdoMJhD5EjwW/hkMHdEeph+/INchGiIBIgMiQyFjH3cdoRzoG0sa4heXFMcQwAxyCcUGhATgAWf+4foq91nzse8j7RDru+nZ6PDmL+QG4lXhruFd49Hk8OWH5n3mVudR6UHsBu9X8Rr0B/fg+RH95/83ApoEYgd1CrQNThBQEmYUUxaNGJ0aFhzmHOUcKh3eHe8erB8sH+gdpxufGYAYUBecFYETOhGkDsML6AiaBfMBaP7Z+t33DvVN8tDuKOuL5wXkOOEF3tTabdex1EzS0s9lzSbKrMZxwynBQb8avaa6Nbc+s8evT64vr8GvtrC5sXWyNbV6tya51bmPuX66c73ZxI/Ng9Ty2JbZvdkl3CLiBupd8Vf36Pr2/X8B1gXLCkQPfxJ/FCEXGhrbHMsfDSJ0I8MjdCOFIuogrh/QHhYf/x6xHUQbKxfYEnMOSwsyCcQGpQOP/4r7Y/dT863v/OyW6hHo/OWY4jfgCN613Gzeyt+Y4OfeUd/E4RDiRePb41fmXelr65HvCvQs+AL4rPaT+UD9LgEoBM4HJwu8C9IMdA65EE8RVRFlE/YU/BWwFeQV7RWdE9oRCRHvELEO7AvPClgJwwe2BOwBS/7O+XP2gvNf8sPvRuz66CblxOGN3ebaZ9iT1SnT+dAMzwLMEMkrxpnDgMEZv4O8mbmctrGzx7DZsDyy27RDuNG5TrynvLG7hrtvvTjDKsm10LLXxNy73+nfEOOD6LPvkPZH/dgDdgcxCzUPAxXqGekctyDWIzknBiqcLfcxzjNyNBw0QTROM40xDzKKMiQzJDImMLctqigGJJcgAh+RHa4aHBjmE/8OOAoFCDQHzANrAPz8Zvst+gX54/qK+/b5LPbk8/X0mvaf+Rz8EP9LAAX/RP+KAJoDHwYECdgMKg8+ES4S6hOUFeMWTBk2Gygdlx1FHr8fcyBDIQohtSCfH+cdEh1QHO0bdBpdGAMW+RI/EFAN1ApKCKAF6wKb/7L8IflE9efxxO5t7J7p/OZB5DbhIt7A2pPYkdY81FHRHs43y6THmcTDwBW9C7yUvWvCn8fEzNDNu8mCxHzACMRNzTXZOeNq6PnpPufs5sHr2/Oz/JgDiwlZDSYR3xXIGlgguyPaJaEoKCyoL3ozdzhIPGM9uDxcO3I5dTd6N/45aj0+Phw7hzYXMYYrsSefJ0MoIiYmIvAcWRizEx4QPw+hDnILiQX1ALT+p/3+/qgCoARtARH7bPaw9hP72wBYBi0JTgf3Aj8BfAS4CYsOmxLSFEoV/BTOFRkYkhoJHfQehSD1II4g7iAoIlojciPnImohwR5sHPwbqhxvHFMaRhYLEn4OygtTCmYJegfnA7b/jPvO95v0BvKe7ynth+px51HkOuE03svb7Nlx1wDUY9AlzWjK2scAxYPBdL2buqq6v74Tx4PPmNDwynDCdrvovEvI0tkU6LHtYOkb4a3eyeMW7xb8aQaICr4Jggr8DSwUgRuXIE0k3CWeJtoofi3mM1I49TryOdI1OzHOLswx6TZzO1Y8JDjhMCcomiO3IzIlXCbVI+IfTRmvEgcOMgxmDlsMMAk8BMX+Zfua+qj+EwImA73+Wfiz9dP2CvsaAKAE+wWeA8QBmQGzBAAJuAyLEEUSTRNQErISJhX4FyYbNR2VHgEdThtsG3QdgCBIIYwgMB5SGkIXChZFFw0YQRagEkEOfQp/BnMEZgO0AdD+yfrO9tXx7+1s6hboZOY24+/foNuD1zHTyM8XzlXLwcfdwvy9ELlEtty3Z7x0w7zIwMgyw6K7wbbLuPTDWNO436zkuuHC24bZSN+46hH3wgDeBAYGRAejCxUSvBgaHpsgDCPlJQEqxy4FNM83zTgOOF01ITOZMuM0LjmPPKc8+DfkMBQq+yVMJvUngiggJpkgmhrtFOMRaxEBEBsN7giOBCMCCgKgAwsFiQQLAQn8kfka+lj9gAHyBL4GfwVTA9YBLAPDBh0LeA87EvcSoRHoEOQRVRR8FwwaZRtFG3AazBmHGlwbahvPGhAZgxZoFIETJBNwEv8Q1w1nCTAFfwHI/+j+0/3++tf2xvHp693nfuV05LTiUeDn28jWCdKpzbzKL8gJxrbBS71Oud+4HL2dxEXMq8tlxcW7OrWmuOvFB9gQ5OLmVeAJ2IbX0N6b7Cr6KAP4BZgEtAVCCWYQ6xegHcohWiPVJU4o5yxXMoQ2wzjBNrgzKTBLMBs0FzkTPXE7ezWqLDUm6yMWJdInkSi1Jt0gmxmdFB4RAw7QDI8MAAz3CRcH5wR4AzkC4P/+/s//RwBhADYBQQPDBLwEGQTcA8MEHwatCKQMJRBAEtIRxBAcEE4QZRLQFSUZgxoiGqMYuBYFFVUU3RSHFWsVwRMPEbcNeQp9CBQHngXZApH/kPwn+iH4hvUW84HvTusx54zjVuEq3z/dytrC10HU2s7xyfjFs8NywR6/A7z5uBy8M8QSzLjMA8j0vcC0G7bAwp7WxeWX6ezgCde61JjbW+qv+eUDowUuBKME+QffDvoV6RsiIBwj3yUpKKssPjCtMyw2qjXtMicvgi/oMUk3szpTOY8zNyowI6YgYyOWJn4nWyN4H0kbZxTmD4EMsQuwCh0L6Qs6ClwIaAP//2r/c/9zACkAjgHeARcD1AT/A8EDowGlAqsETghsDCwOyA8JDgwN4QuoDDgPdxHmE7gUBRW9EtQP/w2YDEAMTAxtDOwK8AfNBEABdf5O+0j4hvVW8w/xku1I6jrmPOIz3rzaiteE1GbRec15yRvF3cAMvKy3GbX+toe/GcnJy2TGCrxTsYWuKLlKzCDeJuaf4P/Uis9o1P/gFvG7/cwBkgBnACYDbglSERMYOxxYH3AiKiUWKiovwDIFNWo1njIDLwEv+zG9N8k8JjwENtcs1CSnIe0jsigZKtcmiCGuGzMW1hFcD5sNMQyjC6ULJQs6CR0GUQInAPf/eAAkAWUCgwMQBM4E+QQWBPACZANQBcwIwQyVD4cQvQ/9Da8M3Q1DEFET4BVVF/cWzxREEhgQQQ8oD9kP+Q/JDlEMoAg3BTwCkf8C/VP6SvjN9eTy1O+e66nnIeOW31fc8di81lLTtdBMzNbH5cKcvbm6rrfgue6/FMlUzJHHIsACtmOzsLmJysPbNuQB4//Yl9Oq1WfgTu+4+xwDZwL4AZYDtwjhEGsXhB0NIOgiASVmKC0urDFMNU41CDS0MDIvzzHlNRA7GjtTN1sv7CdsIwQkqCfQKwAu9icTIQcYKRFXDpEQ3BZgGCIXvhAqCVQEiQJyBScIJgrGCI8FugT3AksEdgQgBUoFhQSIBtIGPwqaC+wMfgxDCuYIjQc6Ck8NXxH9EmER2gy9B0gFfQUhCCQK7An7BsgBG/1W+an22PWz9P/ywO9J7JDnveL63mfbNtmj1l/THs4JyTHFr8G+vui6IbrivRnE+siYx8bBWrlEtLa4/cWO1VneIt5d1/rRo9RP3mTrPva4+238EPw5/xgFXwzwEtsXAhtmHaUgKSRCKBQsYS+FMB0wJi5SLIQtxzCzNNg1EjNcLM4lYiJGI2ooByusKOYiNhtuFFAR1RIQFpMX1hWfEBkLRQeeBc8GzgiyCdcHaAUiAx8COQM0BA0FxwRlBIkDMQQeBsMHRAmoCfoIHgdZBssG3QipCy8NegyQCq4HxAStAxsEcAVzBdsD4gDu/Br5qfZf9Vb0vfIl8KrsQenI5W3iod+c3LrZ0tWu0h3PLsvjx8LDwsDwuwC7+L8txwbNbMrXw4e65LXRutTHh9hf4dLgwdgZ01zVEd6z67X2Gf2W/jL+hwBhBGgLTxFjFjEbwR2JId4jsifeKoctVS96LqAt3Ct9LX0wJDQ2NfkxVCynJYskyiQqJicnmCZCJdQfKxuJFqwSFhHOEbMUdhbJFBcQpgpBBswEdgYQCZUKuAp6CQUIzgWNBEAEoAWqB08JBgsGDKILPgoVCr0JUAqrCkIMTw2gDfgNNQ0oDLsIiwXuA+gERgYbBhoF2QHk/ET4//Sy81byhPH77wXt+Oh/43vf3ttY2i7Y4NV/03POe8nKxMTBCL+zvlnG5s4J0aHNucTYu7m4V8Em0h7h9OcM4g/ZGNW32fnlyfPX/nsBogCuACAD9QmOEJAX3RuqHsUhoiNBKOMqYi4IMSIypjFZLqAunS/aM/E2vDisNegt0ynIJi8o2SpoLWQsMyfoIUoceBo1GssZkhqhGbgWlRHADp4NcQzGDLALdwvuCEQHawbZBlsHHQa+BuQFOgVMBNgFnwfACEUJ/Qf/BikFpgQlBr4I+wkYCYAHQAQ9AWMAagBGAV8AFP8O/Lr4RPbu8ufxWfBc7hLreOgf5v3hsN/u3Gfa8dfX1E7RA81JyqPG0MSLw1vFmM0u0avQqst/xF6/RsGzzeDbDufN5xvgtdio177fj+xf+qACBwR6Ao4AzgJPCFYQ8xdEHZghPSLkIjck3ybUKugtEC8LLjAtwSzkLc0xLDVgM4ousCicJdUlySigLEEt8imDImwc8hiRGG0auBzkHdsaDxZCEPcLGws7DLIOiw97DkELxQfLBawEgAWQBooHNwdVBgYGhAVVBRMFEQViBBwDeQLIAgIE3wSzBGgDgwCm/LD4IveV+QH95P0g+7j0cu1j6YDozukP7Bjseuiu4Ufcv9f/1DrUUdPw0rXPrczHxajA1L5uxPXQjNQX1E/LUsF/u53AMtL/4XXsrOiU3nzXaNiM4h3weP5gBHcENANmAY4DyQjeER0ZVR6cIQAihiIBIywmKiswL7kuziyRKisqrCwlMwU4kjU+L3wmOSMVJDwpUy+4MIwsByP0G88XgxcEG30eYCC+HJMWFBBPCwoL+gv3D6IRjQ+VC1wH7wWFBA0GzwdxCPkHBwZ1BWEFjAaTBvQF+gSPAv4BvgJ+BBcFlwSwAmv+L/s3+ZT5Zvuc/EH7TPee8j7uYeu56gnr2umC55bjZ99I20fYhdUE0+fQt81lys3GT8SxwAPI+tJY1FDRachbv3i6fcS/1pbld+0c5trZ3NPY1xHlofV2AyEGrALg/7n+SASqC74UOBt4H/QhaCFzI18jXCbiK/gu8S48LIgqJyuHMKQ34zgUNEgrfiNiI4Qp2zAHNJMyViqmHwAa8BihG1MfNiJCIRwcDRWMDYYKhQsWDgcRxRHoDhsJLwXqA78DsQQCBlsGJAWBA6UCwwImA84Buv8z/7X+Yf5B/xABuAC//en68vcV9gz1jPWW95X3GPZe8YHshuj75d7mLOc25+LjJuA23KLX9NP90JzQNs//zG7KmsZGw+7IwdHh1DXTx8vDwju/AsjW1x3mZOyp5l7bmdaT2zHnp/b8AagEAwLp/xUAvQO8CzMTPBlYHsYgViFLIQkiaiO0J8IrZy1/LCMqEisLL6kz0zKNLhgpSSVzJrErLzCWLywsRSVQH20cHBwdHakeIyDdHSEajBQRDtUKbQsmDt4PbRCqDbgIsAQxAjcCVQNEBakFLwUlBPMBCQF2ALX/of7v/m7/Nv89/yH+m/yS+rz4nPbS9Dr0S/Qb9e705/HS7OPokeW34/njsOTI49TgqtwC1+jS58+3zUfNoMyLyyrHL8gT0H7Tj9NZz2DImsGdxCTSZeBG683q9eE72t3ZS+Gr7hf9XQTFBBkDwQGKAgwGfA1XFY4beiDSIfghvSDjIF0k2Sh+LEktTi7NLtct5S5KMJ8wOC5vKxQr7itALW4tLC3BKtklpiEMH+cdlR1UHpwfbR3bGJcSGw5uDHoM8w5SEM0P8Qo6BpIDDwIMAhwDKAUGBYQDWwHv/jb9avxW/Qv/X/+n/UH7cfp++cD39fbV9tT1+PMC8+Lxf+9j7crrHevu6VjnreRa4u7ggN5f3enbUNir1B/Rks/PzSLNUMveyuPQAtX81UbT1M56yYrIjtJ63rPoZOsy5yThut6F5I3t8PiEALMCFgPfAhMEVQYeDHsSjxcuHEcePB//HgMg6SICJwQr8CxGLZ0sFSyLLKEu/i+2L68tqSyOLPgrhSuJKiwpvCWOImwgPR9xHjMdaxwAGn4WCRKxDqgNhA00DsoNQgyYCMUEAQNbAk8CawKFA3sDhwHd/kz8CPvN+qH7j/xo/Gb6VPfy9Un1lvQi9IbzVvJm8CfvSu7X7BjrqemT6C/nduVz48LhFuDW3afbtNnD1/HUwdJa0SvQ3M2OzQ7R8NRx2LDXHdTHz/fN/tFP25DmeeyU66/nIeQp5ZXs2/ZEALUEigWbBFYE1gZ+CjIQ5BT9GHYcaB5RH9QenCDSIXEmWSo6KiQqpSjiKegqyi3CLnMsuiqEKB8o2yibKcUoGyZCI9wfcx0yHKcaIBqkGOQWJxPEDykNDAvDChEK5AmGCGkGiQNBAQUAhv/7/yoARP+i/fD7hvrm+Yj5U/mk+ND3n/Zp9YX09fIu8gfxtu+27hjt3eso6hvpuOcB5nbkDuJg4GLegNzb2gjZ19e21dXTsdCQzrPMrM3R0mbVi9kP2GTTaM8vz0bV5dxs5yfrl+pi5yXlXeg87jn40/6WA1EFoAToBRwH8gtuEGAW9ho6HKodZxwoHoUi7CYwKXgpwygoJ1IoZysNLhIvui0xKlUnsSYEJ9knjyhpJwYk7CA4HZcZ7BeRF4sXRBa3FHQQ8Au6CAAHZwfQB8sHLAWiArz/cf1F/RX9B/1G/Ov7/fqq+aT41fZn9jP2Ofa19TT1TvRi8pHx9u817xXuuO3m7PPr8uqj6C7nk+Sd46bh8uDt35vdu9z+2YrY7dWm1AfTXNHG0GjR/9VR177YONh71hvVB9VY2uTfpuZv6s/rdesB68/tDvGB97P9CQNtBhgIxQnsCiwOSBEnFUEZfBxbHrYe8CB2JcknCye0JqAm7CYHKbQtZzAeL+MrKCcOJMcj7SVyKKop5CdQItUdlhleFvQVTRcVGKYV3xKgDpUKdAfpBbMGFAe7Bl8EGwLS/6P93fxJ/Pv78fph+qT6F/r/+KT3BvcT9j70CPP28fXx8fEl8s7xve6f63DojeeR5x/ou+hJ59/k2OBx3nHc8duc25Hbzdsy2X3Wh9Mv0s7R1dTz2Dna/9pE2ffXFNiZ2yXhY+WY6cTqkeuD7Vjxt/Xp+Wj+nAACBAMHZQonDo4R4hVbGPoa3xzYHlchpyOrJpQo4CmMKTMpMilmKRArSCxqLC8rAil4Jv8k1iMiI5UiiyGeH5YcBBrdFmwUnRKYEW0QDg60C6YIaQalBHADmAJZAQsA8v3K/M37Hvt++oz54/ir91T38Pb39kP2P/X19Jv0dPRQ81vye/H78E/w++/M74Du6exT60Dqt+jV50LnDea/5CPj9OFW4Bff6N103P3bLdsV2w/bJ9zb3VDeuN7E3vTfqOG55KPosOuK7SHvcvHN8yH4YPxDALUD3gWKCBMLsQ7mEQIVyBgKG1gdOh+2IOohSyM+JeAmYCiZKPUn6icNKJ8nZyc8JxsmfCQyI+YhPyBzHoAcZxpmGHgWXxR6Em4QHA5aDGsK3wdDBXEDdQK+ARoBc/+2/aj7W/lc+GH41PiP+Bb44vbt9JTzO/Om8+zz7fNT86ryUvGQ71HugO5M7/Xude737Gbr/Ol26ULpLehZ5yPmB+Xe4zfjYuJ54a7gl9/q3q7eFd8t3+ffluCd4QnjsuM25crm+egw6+Dt0/AZ8xL2C/nH+1/+xgH8BCAIAQt9DTYQzhKMFWYX4RknHH8dIh+OIO4hoyJQI+8jHCQpJPMj5iNtI3IiViE8IAEfWh39GyUb9BncF6AVdBMjERYPiw3IDLML1AmBB/EEwQLkADwAAwDr/lb9tfsn+nv4bvde95D3pPf89rr1xPTW8yXzg/Ns9FD0b/NL8lrxh/Ao8NTwjvF98brvZe6D7ezsU+1j7X7tbOzM6uHp6OiR6JLoEukB6R7o2eeR5/nnIOjF6Bbq6er364rszO1y77rxIfRI9Z731fn4+5j+7wDAA70FFAhoCtEMXQ9JEbQTChYBGCcZsxpNHFUdxx7pH+4gPCHyINwgACFGIcEgiiDyH14ewRwwGxAaxRj2F9MW+xTTEg0QAw6MDCELnwleCMQGJgSYAXn/D/4d/Xn8tPtv+uL4Vfdu9oH1vvSe9Nn0qvTO80Hz8fLf8vby1/Kk8qLygvJD8o7y3fJZ8pvxOvG/8GfwLPAw8EPws+9i75LvYu/C7kHubO7O7gzvwe/a73PvS+9F7yXwUvFH8hvzKvQ19Y31aPYU+Gb5YfrK+5T9Nv/qAHoCxwMHBYMGoAhGCpALfgyTDWAPtBDTEVESLRPlEyAU+xR3FQcWDBbbFZIVRRVNFSIV8BQzFIsTxBK5EVgQBQ98DvgNYA0KDF8KzAh2B4UGoAUeBRUEeAKnAEb/Hf50/UD9tPz4+276SPmB+P/3p/d691f3sfb49f/0s/R99Fv0LfRR9IT0w/Mq84/yc/IF8jDyTPLA8QXy1/HU8S/xl/C58LLwJvGS8R3yWfL48eDxAvLN8pDzIPQn9eb1iPbm9pn3Ufjw+CD6SPuD/HH9of5W/67/1AAIAncDdwR+BVkGEQffB4IIlgngCdwJWgpWC2QMAA1LDeYMSQwJDCUMmQzaDCYNRQ2+DNEL9gqPCj4KFArMCZoJLwljCHEHCwbCBBwELwROBM8DtwIYAXP/fP70/WH9g/yE++H6nfpJ+l/5P/hR9/r20vZ89j/2x/WB9fj0TvTC8y/z5fKE8mHyLfJl8p7y9/F/8QHx9vBL8Vvxu/Hz8TDySfIT8r/yCvMc89bzs/Rz9Yr1SfY898n3Bvi7+LX5N/rs+rX7M/21/eP9P/4+/uT+fv/YAJ8CoAOmAzUDdQPPA48E+AUEB5cHhwdsB3EHVgd8B+YHbAjwCNwIvQjwCN8IWwjjB1IIeQg4CPUH4AfQB08HFwf5BrcGdAZXBmAGTwYyBgEGcwUcBN4C0QJqA6IDLQNlAvEAZ/+T/pT+Ev9r/+H+TP3F+7P6TPpu+uL68/rn+YH4lPdV93/3wfdT95z2NfYX9sv2DvfB9oD29faL9x33W/eE+N/5TPob+vT5E/ob+x38VP2M/mf/i/9c/53/GQDLAbAD+ARrBboFrAXzBJEFBAfXCFQJZAmWCTcJQwmuCDQJ8Am7CpALHwunCgcK6QmjCWkJtQn9Ce4JOQkOCf8I1ghDCKsH6QdaBwkHFwcSBycH9gayBmMFsATrBH0FtAVNBUEFwgQsBNMCoQEYApMCOwJGAa4A4/+g/rj9Of1q/WT9Gf1e/EH7LvrV+ZT6Z/p2+Zj4avhB+JD3YfeJ91T4LPgr9/L2T/fl92n4Xvln+ff4W/na+ST6WPoF+/X6GPvz+438Wf2k/bP9lf2z/d/9Yv4TAFABeAEgAcUApAAhAU0CjwMuBKoEMgUnBX0E6gOFBGQFSQZcB9UHjAeTBuMFjwXaBa4GdwcUCFMHAAbeBBAF5wUrBi8GdAUABYQEaQSwBOwEGwVbBIMD7AKYAs0CwwOVBA0EmgI0AXIAGwBIACkBGALpAUgAWf4j/T39ev7U/1gAo/8C/oT8DPw3/Eb90P6D/6r+nPxd++T6Y/vL/Mv9PP5p/RD8GvsD+138k/0i/t79+fwM/d79yP66/jD+Ef76/UH+4f4TAOYADAFvAKH/iv/Q/7cAvAE2AyYEnAOUAoYBSAFVAgoEyAW3BtMGSgYvBa8E2gR8BfMGjgiBCfEJIwmYB00GUwbtB18JKgoHCpEJ6Ai2B0oHSAdlB1AHDwcyBzoH+gYPBlQFswQsBPAD4QMBBPID9AOYAwoDFwLbAF8AbwCQAI8A2gBwAeYAxv+Z/pf91/0G//3/LwAHALn/G/9g/g/+Vf6c/wcBnAF+AdkAbgAfAF4AtAHIAkwD4wIgAigCcALTAuEC8AL9AhADngMYBNwDcwN2Aw0DkwKlAjgD+ANwBMAEcATOA/kCugJMA8EDcwS2BDsF7wS+A1MDEgNZA78DkwR+BaQFfAX3BEkE/QOpBMoFSgZ0BsQGDAcGB38GiwVnBcwG8QfrB1IHAge3BvMFkQWvBZ0GKweMBq0FNAVdBYUFagW+BG4EoQS1BFQEaQMiAyUDBgPCAi4CGgL3AbMB5wH/ARMCJwEEAJ//wf+MAAYBVAH+AIkAOwCT/zH/iv9SAMsADgH4AGgAxf+C/5z/yv9WAOEABAEGAXgACAD/////IwBUAGwAs//+/uz+NP+n/6b/J/90/ij+uf1+/Sb+c/5d/uP9iP1V/UL9N/0U/aj91P3Q/eX9oP0c/ef8iP3w/eb96f0K/v39cv1C/df9kf6l/vj9L/6K/kf+eP4v/8H/tP+a/1//HP8X/6b/eQCtAOD/+f4Q/+D+Wf5s/hz/jv/s/in+ff1n/Zr9s/06/kX+Rf7Q/U/9pf3r/Tb+Ff7n/TT+/v7N/9P/Uf8e/3v/ov/z/1UAzQAxAfYAzADyAIcB1AHDAcEBDAKcAs4CkQIwAv4BCgIdAmcC7gKDA90DQANRAqQBowHxAecBLQIqAjgCSwLpAWwBuACKAEIAxv8BAIQAbQDQ/zH/X/67/Sr9Ff2S/RT+q/45/hH9uvu/+rz6WPu1/IH9Jf3u+576OPq++vn7//yD/QD9SPzF+0n7CPyp/bL+A/4A/YP86vzC/Qz+5v3b/UT+6/2R/eP9Zf4d/qz9zP0Q/qH+yv62/lD+Tf6Y/rf+eP7m/TH+7f5T/xn/H/9l/yj/d/4Z/tH+z/9WABQArv9X/w//Pv+L/0QAQgHCAYEBzQArAFYAYAFjAtAC/gIBA3EC1wHxAdcCjwPSA/8C5wEZAsICEQMNA7gCswEfAfoAEgFVAdUBLgIoAWYAKwAIADgAfAD4AEsBJAGIAFIAFwDa/zMAmgDDAPv/Sv9R//X/ogC8AFUAiv8h/w//Uv9i/77/lQDiACQAnv54/af9zf6b//H/HwDl/67+p/2x/UX+pf67/qH+TP6W/uX+4f5T/t39//1Z/gT/ZP96/z3/yf5b/jn+xv5t/5r/tf/Y/9j/m/9f/0v/ev/n/0QA1gA9ARMBfABDAKYAEAGiAcwBhwFeAYsBlQFlAXgBdQHCAZ8BJwHQAO0ACAFCAOH/qP8CADMAyf8c/2H+Kv7q/RD+Kv4K/tf9h/3R/HP8pvzP/C79Nf0A/en83/xw/Cj8g/wD/Uv9Ev3M/BD9tP3R/b394P2Z/YX98/2L/pz+yP5k/3//Qv/B/oH+nP4k/+r/rwD+AGgASP+b/hX/8/8KAc8BywEJAQIA4P9wACEBegFeAXUBTAHeAK0AwwCpAOcAWAH6AD4A7/9HAFMAdACiAGkAyv8e/zr/KAAIAd4APwAAAPn/AwBzAOIAAAHkANMAhAAMAKr/+/+wAKYAOgDy/83/Vf8H/xb/WP9x/0b/G/8F/5/+Mv5E/qL+1/6u/sz+h/79/bT99P1P/mf+av4p/rn9VP15/dP9Av6w/Wv9Mf3v/Ar9Vv23/Y39JP01/Zb9p/2b/fz9wf5I/zn/8/6q/s3+Pf8OANcAzACIAEkAjQCiAOsAgQGnAbQB8wDjAAwBDAEmASMBewEnAf4AgQC6/5D/BACzAHgABgCg/yD/XP4e/rn+WP/C/zr/Zv6v/Ur9gv3k/Tn+df5w/uf9Pv33/Jr9bv7b/pT++/0G/i3+S/68/kb/rv/k/5//KP/s/nH/xP8NAKEAWwC8/xL/6f7m/mX/NABuACsAc/+t/v/9R/7H/nL/5/84/yb+Tv2B/QL+o/4c/8b+E/6F/WP9h/0x/rH+rf5h/gv+6f3n/VL+yv7P/qH+mv6O/lL+S/7H/lz/rP9o//n+x/6o/vj+c/8oAJ0AaAARAG7/2v7Y/qv/oQAMAfYAeAAdAI3/Nf96/wQAVQD6/7z/Dv9//oL+mP7s/gH/1v5Y/gr+4/36/Wz+Fv9j/wv/tv4T/uj9Y/4j/63/tv+k/y//uf53/sr+cf8VAHcAJQD3/8b/xP+s/7X/5f9RALkAWAAuALH/qv+h/9n/QQDd/wYAAgD3//T/XQDHAEsA2v+c/5n/IAC+AAAB2wA2AJT/9v4j/+D/nABGAREBFABB/xT/OP9z//b/qACTABQAtP+W/3b/uP8fAGoAoAByAJYAkQC6AMAAuwCgAFwAVABjAK4AoACfAC0AsP+5/6L/wP/n//D/nf8M/9D+ff5Q/qz+Of+D/3//Hf+N/kT+D/4r/pn+Cf/y/sb+vv6p/rv+0v4Z/0T/f/+t/5f/gv9b/3X/sP+r/9T/PgCqALMAfQCQAGwAUgCmABEBgAHFAckBogFtAYsBzAHgAQwC3gGqAaEBmgGaATAB3AB1AC8AUgBuAFEAFgC9/yX/b/5M/pT+ef7A/t3+tf5o/gX+4P3I/Qb+Fv49/n7+2v4b/y//E/9q/ib+Nf58/r7+GP9k/x3/nf7p/bD9y/0z/oL+uP7+/s3+xP6k/m7+UP5z/rf+AP9k/5z/pf+W/8//GgAXAOH//f+BACEBsgEVAiQC2gFGAfkAVwE3Aj4DzwPXAzADVgLrAeMBAAKVApID8QNJA2AC/wHVAecBCwI+AooCdgIlAq8BfgFSAVYBfQHXADIALAC9ALwATQAwANr/Df87/n3+/f6D/4X/G/+C/pj9ev3b/cL+af++/9P/af96/iT+Jf+f//D/kQCAAXoB3QCiAIcAvQALARoCogLUAnsC/AEAAtoBBQJzAiEDHwMVA1wDigMlA9ECOgM9A2IDfgOeA74DrAOKA20DWQPAAlgCXgKYAqQCwAKsAtgB2gA4AFEAcgDOAE4BSQG7ABgA3v+N/zb/Vv/3/4EAhACCAHwAPQCw/1v/rf/K/xEArgDdAFgA2v/j/+v/2P+3/8j/+/89AG8AhgBfAJD/CP87/5L/7v9bALEARACo/4X/pf+j/3//5/8UAAkA6//L/7H/PP9E/3T/hP9k/z7/C//Z/vr+Iv9T/9f+VP4C/jT+zP4O/zH/1P6H/kn+o/7+/vT+9f7W/sD+TP5G/kP+JP4M/gL+Mf4H/sP9Pf3r/N/8F/1d/Y39kv0O/e/8Ff1S/Y395f0Z/vP9BP4E/hX+Kv58/or+Y/6U/pj+qf7R/v7+9f7V/sP+kP51/ov+q/6q/q3+pf6P/pv+ov6+/tL+u/6j/pb+jf69/hT/4P6//s/+u/6Z/oj+uP60/pD+fv54/oX+sP7y/hz/7f6U/m7+u/4T/5f/KAA2APL/Zf8W/0H/xv9AAO4AZwFDAbsA+f+T/2H/6f+rABgBMgHCACYAcf/s/sH+Q//i/wUA6P+4/0T/nP58/rj+Hf+N/9v/zv+G/2//hf9m/3P/tP/k/ywAQwBmADcAEADs/7b/x//g/xEAQQBOAOr/vv+z/4f/Tf9u/67/qf+z/63/w//A/8T/kv+C/6//x/8eAHMAcwAoANP/pP+F/37/tf/J/4j/O/82/z//Uv+C/9P/9f/M/6T/mP/X/w4AigD9AFoBYgEbAd4AjADUAFYBAwITAs4BngErAd4ArgDmADIBhQGBAT0BtwAfAPr/9/8/AGIAnACaAC8AFwAGABMAWgCbAKwAtgC8AMIAwgC/AMwAbwAvADoAWwCWAHsALwDK/0j/4P74/nv/wP/e/yIA9f92/1b/bP9y/6L/PgCmALsAugCrAK4AfgABAMH/z//z/2AAuQDEADAATf/D/oP+uv5N/woAXQAkAKL/SP8c/9f+Jv8NAN4ABQHsAG4Avf9P/17/FACjANsAjwDz/yX/l/6s/u/+Bv/3/t/+b/71/Zf9bf2F/Xv9cf1F/fL8qPx1/Kf87/wY/SH9zfxd/FH8h/zw/I39z/20/YP9aP09/WT9Jv6//if/a/9F/9/+1f5J/97/aQDBAJkAFQCu/37/2f9tAK0AeADA//b+e/6A/t/+Q/9b/x3/gf7A/S39GP1t/cX9Kf4h/p79Cf2p/Jn83PxI/Wz9Mv0A/RL9Ef0V/Uj9TP1G/Vv9mv0I/m/+n/54/mn+Yv6X/h//nP8HAFEAmwChAJsAwwD5AEUBkAHWASYCTQIyAvIBpQGoAeABOAJ0ApACTwL3AdoBnQG6AcwB0gGbAUcBMgHNAI0AfABRAO7/uP+L/+/+wv7k/vT+6v68/nL+B/4R/i7+ZP7C/qz+RP4C/tv9Yv15/e/9Hf4U/g3+1v0+/Rj9H/1S/Zr9tf2U/Tv9L/1D/Yn9BP4//n/+qf6Y/pT+UP53/vn+aP+1/8r/l/8d/0b/qP8IAD0ARgAOAKH/1f8hAGUAiwB0ACgA6P8PADoAYAB4AFYAKwAcAOv/4/8IAAkANAByAKsAfgABALj/Y/9V/9T/UQB1ADQAtf93/1f/LP9Z/5T/mf9z/3z/e/8w/wL/Cf8q/0X/uP/5/9j/lv9U/4z/xP/n/yIAQQAQAML/rv/H/+r/9//s/7j/ev9h/2r/k//Y/+X/6P8BAMT/ev+F/7z/4f8aAD4AEQCv/33/oP/5/4cA+AAMAZAA+P+0/9b/MQCuADgBVQH8AIAASgAxAFkAfQDPABgBywDFALMA6gALASMBhwF1AYABgQGUAa8B0QHiAaYBmQGBAaEB4QHaAbcBiAGLAXsBdgGSAWsBIQHnAOUA0ADyAEIBTgFBAT8BRAFWAZYBtAHvATACQwI8AjgCfQJ+ApkC4QLCApACPQK5AW8BaQGAAZsBegEKATcAhP9B/x//Zf/q/yMA7f9i/7P+Tf5P/rv+ZP/L/67/C/9W/vj9Dv6M/jv/eP8D/0/+2f2N/Yf9/P2o/vf+0v6z/mz+LP4X/mT+D/+l//n/5/+y/1r/U//Y/6MAXgFgAeYASQC4/67/TAANARUBuAAeAHr/Bv/v/mn/qP/S/3L/w/5y/lb+g/4d/9X/yP+S/0f/9f7b/in//P9/ALAAiwAdALr/h/+0/0gA5gApASkBvgAcAPb/QwDxAIUB6gEAApkBTgEaAT8BhQGkAZkBlgGUASgBtQBMABEAFgBYALgA8wDDAGAADwCh/5L/BwDSAHUBqQGUAREBiQBHAHcA0wBDAbEBkAFAAe0AgAAQANn/3v8dAGQAfACIAF0AEgC3/47/ov/A/woAfwCyAKMAegA9AAIAzP/Y//v/LQAtAAAA9P/W/7b/jv92/0//L/9Z/7j/DABKAHIAcgBeADYAOQBkALgAVQHgARMC3wFXAdoAogDWAJgBVgJzAhkCjwHnAI8AvABlARkCMAIGAqsBOgHzABMBmAHmAe4B1wHWAbkBnAGkAdIB2wGZAbQB0QGnAYsBwAHyAbcBnQGXAU0BEgEuAboBHQI0AvoBUwHFAGEAoAA2AXgBdgEaAb4AIwCi/7X/4f8MABwAVgBKAOL/hP9G/27/l//l/wYAJgBOAD0AdgCSAFoA9//3/yQAiAAdAXgBRwFzAB8AKQBQAJgA3wDwALAAigCBAGYABgC0/5H/qv/2/00AWwDJ/x3/o/6R/uT+OP95/4D/ZP8z//7+8f7n/uj+Fv+A/9n/AwAZAOv/xf/a/x4AcQCUAJEAgACxABABTQGPAe0BNAI1AlUCTwI5AlACjgJaA+MDGAQMBHUDmAJaAvgCuwMcBBUE5APAAtgBlAGEAeMBHQJeAjIC2gF5AR4B+wDhAAcBZwHRAcYBnAGaAXsBPQEeAUYBQgERAQUBQAFNAQYB3AB7AOX/j/+s/+7//f/r/6r/QP/O/mL+Of5v/qT+vf7u/vb+gv4d/u79uP3q/ZL+Lv9b/zf/3f6B/nj+pf4H/5r/+f/n/8L/3v/0/+D/CwBKAF4AcACCAK0AvQC1AMsAxgClAG4AhADyAA4BAgELAd4AZwAFAAgAVgCPAMEA8QCwACkA4f8EABsAMQB1AJ4AXwD6/73/e/9+/5L/o/+K/1f/Tv8x/0H/Nv8H/9D+p/65/vz+sP8YADwA8/9X/83+kP4=\" type=\"audio/wav\" />\n",
              "                    Your browser does not support the audio element.\n",
              "                </audio>\n",
              "              "
            ]
          },
          "metadata": {},
          "execution_count": 12
        }
      ]
    },
    {
      "cell_type": "code",
      "source": [
        "print(raw_y[1])\n",
        "IPython.display.Audio(raw_x[1], rate=SAMPLING_RATE)"
      ],
      "metadata": {
        "colab": {
          "base_uri": "https://localhost:8080/",
          "height": 93
        },
        "outputId": "49102d63-4102-41de-fd2c-a782f7986444",
        "id": "R6-jXew3iVAZ"
      },
      "execution_count": 13,
      "outputs": [
        {
          "output_type": "stream",
          "name": "stdout",
          "text": [
            "2\n"
          ]
        },
        {
          "output_type": "execute_result",
          "data": {
            "text/plain": [
              "<IPython.lib.display.Audio object>"
            ],
            "text/html": [
              "\n",
              "                <audio  controls=\"controls\" >\n",
              "                    <source src=\"data:audio/wav;base64,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\" type=\"audio/wav\" />\n",
              "                    Your browser does not support the audio element.\n",
              "                </audio>\n",
              "              "
            ]
          },
          "metadata": {},
          "execution_count": 13
        }
      ]
    },
    {
      "cell_type": "code",
      "source": [
        "raw_x = np.array(padded_raw_x)\n",
        "raw_y = np.array(raw_y)\n",
        "print(raw_x.shape)  \n",
        "print(raw_y.shape)"
      ],
      "metadata": {
        "colab": {
          "base_uri": "https://localhost:8080/"
        },
        "id": "1b-zDbF--1LQ",
        "outputId": "9dcf6e47-43aa-4bd8-885f-96469e606d63"
      },
      "execution_count": 14,
      "outputs": [
        {
          "output_type": "stream",
          "name": "stdout",
          "text": [
            "(1482, 22050)\n",
            "(1482,)\n"
          ]
        }
      ]
    },
    {
      "cell_type": "code",
      "source": [
        "print(raw_y[980])\n",
        "IPython.display.Audio(raw_x[980], rate=SAMPLING_RATE)"
      ],
      "metadata": {
        "colab": {
          "base_uri": "https://localhost:8080/",
          "height": 93
        },
        "outputId": "85401832-0540-4d6d-f71d-615718c97319",
        "id": "kvxddiJmibQf"
      },
      "execution_count": 15,
      "outputs": [
        {
          "output_type": "stream",
          "name": "stdout",
          "text": [
            "0\n"
          ]
        },
        {
          "output_type": "execute_result",
          "data": {
            "text/plain": [
              "<IPython.lib.display.Audio object>"
            ],
            "text/html": [
              "\n",
              "                <audio  controls=\"controls\" >\n",
              "                    <source src=\"data:audio/wav;base64,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\" type=\"audio/wav\" />\n",
              "                    Your browser does not support the audio element.\n",
              "                </audio>\n",
              "              "
            ]
          },
          "metadata": {},
          "execution_count": 15
        }
      ]
    },
    {
      "cell_type": "code",
      "source": [
        "print(raw_y[1])\n",
        "IPython.display.Audio(raw_x[1], rate=SAMPLING_RATE)"
      ],
      "metadata": {
        "colab": {
          "base_uri": "https://localhost:8080/",
          "height": 93
        },
        "outputId": "5e5984d1-3c4e-404e-b975-6c3ca893149b",
        "id": "o02lV35TibQg"
      },
      "execution_count": 16,
      "outputs": [
        {
          "output_type": "stream",
          "name": "stdout",
          "text": [
            "2\n"
          ]
        },
        {
          "output_type": "execute_result",
          "data": {
            "text/plain": [
              "<IPython.lib.display.Audio object>"
            ],
            "text/html": [
              "\n",
              "                <audio  controls=\"controls\" >\n",
              "                    <source src=\"data:audio/wav;base64,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\" type=\"audio/wav\" />\n",
              "                    Your browser does not support the audio element.\n",
              "                </audio>\n",
              "              "
            ]
          },
          "metadata": {},
          "execution_count": 16
        }
      ]
    },
    {
      "cell_type": "markdown",
      "source": [
        "# Normalization"
      ],
      "metadata": {
        "id": "fMc7mKiONdAs"
      }
    },
    {
      "cell_type": "code",
      "source": [
        ""
      ],
      "metadata": {
        "id": "-KNY-Pztk8uI"
      },
      "execution_count": 16,
      "outputs": []
    },
    {
      "cell_type": "code",
      "source": [
        "max = np.max(raw_x)\n",
        "min = np.min(raw_x)\n",
        "print(min, max)"
      ],
      "metadata": {
        "colab": {
          "base_uri": "https://localhost:8080/"
        },
        "id": "Yb7uzqDONoSF",
        "outputId": "ece9b02a-6ab9-48f0-e901-0fe43e59cd1d"
      },
      "execution_count": 17,
      "outputs": [
        {
          "output_type": "stream",
          "name": "stdout",
          "text": [
            "-0.9876995086669922 1.0517815351486206\n"
          ]
        }
      ]
    },
    {
      "cell_type": "code",
      "source": [
        "# raw_x = (raw_x - min) / (max - min)"
      ],
      "metadata": {
        "id": "xjE3MuKwNcGt"
      },
      "execution_count": 18,
      "outputs": []
    },
    {
      "cell_type": "markdown",
      "source": [
        "# 2차원으로 reshape"
      ],
      "metadata": {
        "id": "T-iyrW8_N869"
      }
    },
    {
      "cell_type": "code",
      "source": [
        "print(raw_x.shape)\n",
        "raw_x = raw_x.reshape((len(raw_x),-1,1))\n",
        "print(raw_x.shape)"
      ],
      "metadata": {
        "id": "EXF8sZPYN_RL",
        "colab": {
          "base_uri": "https://localhost:8080/"
        },
        "outputId": "debfa05d-c513-4e8d-f629-3c58c80555dc"
      },
      "execution_count": 19,
      "outputs": [
        {
          "output_type": "stream",
          "name": "stdout",
          "text": [
            "(1482, 22050)\n",
            "(1482, 22050, 1)\n"
          ]
        }
      ]
    },
    {
      "cell_type": "markdown",
      "source": [
        "# 데이터 분리"
      ],
      "metadata": {
        "id": "EjXer_ucN67c"
      }
    },
    {
      "cell_type": "code",
      "source": [
        "from sklearn.model_selection import train_test_split\n",
        "\n",
        "train_x, test_x, train_y, test_y = train_test_split(raw_x, raw_y, test_size=0.2, shuffle=True)"
      ],
      "metadata": {
        "id": "Z54gJGmi-1Ig"
      },
      "execution_count": 20,
      "outputs": []
    },
    {
      "cell_type": "code",
      "source": [
        "print(len(train_y))\n",
        "print(train_y[980])\n",
        "IPython.display.Audio(train_x[980].squeeze(), rate=SAMPLING_RATE)"
      ],
      "metadata": {
        "colab": {
          "base_uri": "https://localhost:8080/",
          "height": 111
        },
        "outputId": "4c7f3a8a-d0c7-41a0-ee4f-b9c607ce028f",
        "id": "ar3Q1ezWinMR"
      },
      "execution_count": 21,
      "outputs": [
        {
          "output_type": "stream",
          "name": "stdout",
          "text": [
            "1185\n",
            "3\n"
          ]
        },
        {
          "output_type": "execute_result",
          "data": {
            "text/plain": [
              "<IPython.lib.display.Audio object>"
            ],
            "text/html": [
              "\n",
              "                <audio  controls=\"controls\" >\n",
              "                    <source src=\"data:audio/wav;base64,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\" type=\"audio/wav\" />\n",
              "                    Your browser does not support the audio element.\n",
              "                </audio>\n",
              "              "
            ]
          },
          "metadata": {},
          "execution_count": 21
        }
      ]
    },
    {
      "cell_type": "code",
      "source": [
        "print(train_y[1])\n",
        "IPython.display.Audio(train_x[1].squeeze(), rate=SAMPLING_RATE)"
      ],
      "metadata": {
        "colab": {
          "base_uri": "https://localhost:8080/",
          "height": 93
        },
        "outputId": "df3b548a-3e1a-44e3-cbff-697bd1a9a682",
        "id": "RFKC_o3IinMS"
      },
      "execution_count": 22,
      "outputs": [
        {
          "output_type": "stream",
          "name": "stdout",
          "text": [
            "2\n"
          ]
        },
        {
          "output_type": "execute_result",
          "data": {
            "text/plain": [
              "<IPython.lib.display.Audio object>"
            ],
            "text/html": [
              "\n",
              "                <audio  controls=\"controls\" >\n",
              "                    <source src=\"data:audio/wav;base64,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\" type=\"audio/wav\" />\n",
              "                    Your browser does not support the audio element.\n",
              "                </audio>\n",
              "              "
            ]
          },
          "metadata": {},
          "execution_count": 22
        }
      ]
    },
    {
      "cell_type": "code",
      "source": [
        "train_x.shape"
      ],
      "metadata": {
        "colab": {
          "base_uri": "https://localhost:8080/"
        },
        "id": "9DF-X34ifJgr",
        "outputId": "ddb095ca-4585-4eb8-ff7f-99ec834d7821"
      },
      "execution_count": 23,
      "outputs": [
        {
          "output_type": "execute_result",
          "data": {
            "text/plain": [
              "(1185, 22050, 1)"
            ]
          },
          "metadata": {},
          "execution_count": 23
        }
      ]
    },
    {
      "cell_type": "code",
      "source": [
        "# copy from https://gist.github.com/stared/dfb4dfaf6d9a8501cd1cc8b8cb806d2e\n",
        "\n",
        "# loss graph를 학습하면서 실시간으로 그리는 방법\n",
        "\n",
        "from IPython.display import clear_output\n",
        "from tensorflow.keras.callbacks import Callback\n",
        "\n",
        "class PlotLosses(Callback):\n",
        "\n",
        "  def on_train_begin(self, logs={}):\n",
        "    self.epochs = []\n",
        "    self.losses = []\n",
        "    self.val_losses = []\n",
        "    self.logs = []\n",
        "    self.fig = plt.figure()\n",
        "\n",
        "\n",
        "  def on_epoch_end(self, epoch, logs={}):\n",
        "\n",
        "    self.epochs.append(epoch)\n",
        "    self.losses.append(logs.get('loss'))\n",
        "    self.val_losses.append(logs.get('val_loss'))\n",
        "\n",
        "    clear_output(wait=True)\n",
        "    plt.plot(self.epochs, self.losses, label=\"loss\")\n",
        "    plt.plot(self.epochs, self.val_losses, label=\"val_loss\")\n",
        "    plt.legend()\n",
        "    plt.show();\n",
        "    print(\"loss = \", self.losses[-1], \", val_loss = \", self.val_losses[-1])"
      ],
      "metadata": {
        "id": "xULPFYqYA4Pv"
      },
      "execution_count": 24,
      "outputs": []
    },
    {
      "cell_type": "code",
      "source": [
        "from tensorflow import keras\n",
        "from tensorflow.keras.layers import Dense, RepeatVector, Flatten, Input, Activation\n",
        "from tensorflow.keras.layers import Bidirectional, LSTM, GRU, Conv1D, MaxPooling1D, AveragePooling1D, Add, MaxPool1D\n",
        "from tensorflow.keras.layers import Dropout, GaussianNoise, BatchNormalization\n",
        "from tensorflow.keras.regularizers import l1, l2, L1L2\n",
        "\n",
        "input_shape = train_x.shape[1:]\n",
        "num_classes = 4\n",
        "\n",
        "model = keras.Sequential()\n",
        "model.add(Input(input_shape))\n",
        "\n",
        "model.add(Conv1D(32, 9, padding=\"same\", activation=\"relu\"))  \n",
        "model.add(Conv1D(32, 9, padding=\"same\", activation=\"relu\"))  \n",
        "model.add(MaxPooling1D())\n",
        "\n",
        "model.add(Conv1D(64, 9, padding=\"same\", activation=\"relu\"))  \n",
        "model.add(Conv1D(64, 9, padding=\"same\", activation=\"relu\"))  \n",
        "model.add(MaxPooling1D())\n",
        "\n",
        "model.add(Conv1D(128, 9, padding=\"same\", activation=\"relu\"))  \n",
        "model.add(Conv1D(128, 9, padding=\"same\", activation=\"relu\"))  \n",
        "model.add(Conv1D(128, 9, padding=\"same\", activation=\"relu\"))  \n",
        "model.add(MaxPooling1D())\n",
        "\n",
        "model.add(Conv1D(256, 9, padding=\"same\", activation=\"relu\"))  \n",
        "model.add(Conv1D(256, 9, padding=\"same\", activation=\"relu\"))  \n",
        "model.add(Conv1D(256, 9, padding=\"same\", activation=\"relu\"))  \n",
        "model.add(MaxPooling1D())\n",
        "model.add(Dropout(0.3))\n",
        "\n",
        "model.add(Flatten())\n",
        "model.add(Dense(256, activation=\"relu\")) #, kernel_regularizer=l2()))\n",
        "model.add(BatchNormalization())\n",
        "\n",
        "model.add(Dense(num_classes, activation=\"softmax\"))  \n",
        "\n",
        "from tensorflow.keras.optimizers import Adam, Adadelta, SGD\n",
        "# optimizer = SGD(learning_rate=0.001) # *0.1, decay=0.01)  \n",
        "optimizer = Adam(learning_rate=0.001*0.1, decay=0.01) \n",
        "\n",
        "model.compile(loss=\"sparse_categorical_crossentropy\", optimizer=optimizer, metrics=[\"acc\"])\n",
        "model.summary()\n"
      ],
      "metadata": {
        "colab": {
          "base_uri": "https://localhost:8080/"
        },
        "id": "pT7VVvOygvXA",
        "outputId": "a17aafd2-4c19-4399-b57f-5f02f22cf6a7"
      },
      "execution_count": 25,
      "outputs": [
        {
          "output_type": "stream",
          "name": "stdout",
          "text": [
            "Model: \"sequential\"\n",
            "_________________________________________________________________\n",
            " Layer (type)                Output Shape              Param #   \n",
            "=================================================================\n",
            " conv1d (Conv1D)             (None, 22050, 32)         320       \n",
            "                                                                 \n",
            " conv1d_1 (Conv1D)           (None, 22050, 32)         9248      \n",
            "                                                                 \n",
            " max_pooling1d (MaxPooling1D  (None, 11025, 32)        0         \n",
            " )                                                               \n",
            "                                                                 \n",
            " conv1d_2 (Conv1D)           (None, 11025, 64)         18496     \n",
            "                                                                 \n",
            " conv1d_3 (Conv1D)           (None, 11025, 64)         36928     \n",
            "                                                                 \n",
            " max_pooling1d_1 (MaxPooling  (None, 5512, 64)         0         \n",
            " 1D)                                                             \n",
            "                                                                 \n",
            " conv1d_4 (Conv1D)           (None, 5512, 128)         73856     \n",
            "                                                                 \n",
            " conv1d_5 (Conv1D)           (None, 5512, 128)         147584    \n",
            "                                                                 \n",
            " conv1d_6 (Conv1D)           (None, 5512, 128)         147584    \n",
            "                                                                 \n",
            " max_pooling1d_2 (MaxPooling  (None, 2756, 128)        0         \n",
            " 1D)                                                             \n",
            "                                                                 \n",
            " conv1d_7 (Conv1D)           (None, 2756, 256)         295168    \n",
            "                                                                 \n",
            " conv1d_8 (Conv1D)           (None, 2756, 256)         590080    \n",
            "                                                                 \n",
            " conv1d_9 (Conv1D)           (None, 2756, 256)         590080    \n",
            "                                                                 \n",
            " max_pooling1d_3 (MaxPooling  (None, 1378, 256)        0         \n",
            " 1D)                                                             \n",
            "                                                                 \n",
            " dropout (Dropout)           (None, 1378, 256)         0         \n",
            "                                                                 \n",
            " flatten (Flatten)           (None, 352768)            0         \n",
            "                                                                 \n",
            " dense (Dense)               (None, 256)               90308864  \n",
            "                                                                 \n",
            " batch_normalization (BatchN  (None, 256)              1024      \n",
            " ormalization)                                                   \n",
            "                                                                 \n",
            " dense_1 (Dense)             (None, 4)                 1028      \n",
            "                                                                 \n",
            "=================================================================\n",
            "Total params: 92,220,260\n",
            "Trainable params: 92,219,748\n",
            "Non-trainable params: 512\n",
            "_________________________________________________________________\n"
          ]
        }
      ]
    },
    {
      "cell_type": "code",
      "source": [
        "plot_losses = PlotLosses()\n",
        "history = model.fit(train_x, train_y, epochs=100, verbose=1, validation_split=0.1, batch_size=16,\n",
        "                    callbacks=[plot_losses])"
      ],
      "metadata": {
        "colab": {
          "base_uri": "https://localhost:8080/",
          "height": 304
        },
        "id": "ksVvwmtJjQ9S",
        "outputId": "21e66235-ed59-429e-b102-042e843616fb"
      },
      "execution_count": 26,
      "outputs": [
        {
          "output_type": "display_data",
          "data": {
            "text/plain": [
              "<Figure size 432x288 with 1 Axes>"
            ],
            "image/png": "[encoded data removed]"
          },
          "metadata": {
            "needs_background": "light"
          }
        },
        {
          "output_type": "stream",
          "name": "stdout",
          "text": [
            "loss =  0.028937172144651413 , val_loss =  0.559914767742157\n",
            "\b\b\b\b\b\b\b\b\b\b\b\b\b\b\b\b\b\b\b\b\b\b\b\b\b\b\b\b\b\b\b\b\b\b\b\b\b\b\b\b\b\b\b\b\b\b\b\b\b\b\b\b\b\b\b\b\b\b\b\b\b\b\b\b\b\b\b\b\b\b\b\b\b\b\b\b\b\r67/67 [==============================] - 9s 132ms/step - loss: 0.0289 - acc: 0.9944 - val_loss: 0.5599 - val_acc: 0.8824\n"
          ]
        }
      ]
    },
    {
      "cell_type": "code",
      "source": [
        "loss, acc = model.evaluate(test_x, test_y)\n",
        "print(\"loss=\", loss)\n",
        "print(\"acc=\", acc)\n",
        "\n",
        "\n",
        "y_ = model.predict(test_x)\n",
        "predicted = np.argmax(y_, axis=-1)\n",
        "plt.plot(test_y[:30], 'o')\n",
        "plt.plot(predicted[:30], '.')\n",
        "plt.show()\n"
      ],
      "metadata": {
        "id": "8lHjjByavmmo",
        "colab": {
          "base_uri": "https://localhost:8080/",
          "height": 320
        },
        "outputId": "ca37e4f0-b020-4ddd-e487-54b14ab06cf5"
      },
      "execution_count": 27,
      "outputs": [
        {
          "output_type": "stream",
          "name": "stdout",
          "text": [
            "10/10 [==============================] - 1s 57ms/step - loss: 0.4728 - acc: 0.8620\n",
            "loss= 0.47280657291412354\n",
            "acc= 0.8619528412818909\n"
          ]
        },
        {
          "output_type": "display_data",
          "data": {
            "text/plain": [
              "<Figure size 432x288 with 1 Axes>"
            ],
            "image/png": "[encoded data removed]"
          },
          "metadata": {
            "needs_background": "light"
          }
        }
      ]
    }
  ]
}